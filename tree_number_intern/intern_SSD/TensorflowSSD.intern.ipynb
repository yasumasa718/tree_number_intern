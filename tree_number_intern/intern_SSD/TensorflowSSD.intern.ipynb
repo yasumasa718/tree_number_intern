{
 "cells": [
  {
   "cell_type": "code",
   "execution_count": null,
   "id": "75b64d1b-9231-48e4-af5a-096c49d7fc99",
   "metadata": {},
   "outputs": [],
   "source": [
    "import numpy as np\n",
    "import tensorflow as tf\n",
    "from tensorflow.keras.applications import MobileNetV2\n",
    "from tensorflow.keras.preprocessing import image\n",
    "from tensorflow.keras.applications.mobilenet_v2 import preprocess_input, decode_predictions\n",
    "\n",
    "# プリトレーニングされたモデルを読み込む\n",
    "model = MobileNetV2(weights='imagenet', include_top=True)\n",
    "\n",
    "# テスト画像を読み込む\n",
    "img_path = 'path_to_your_image.jpg'  # 画像のパスを指定\n",
    "img = image.load_img(img_path, target_size=(224, 224))  # MobileNetV2の入力サイズに合わせる\n",
    "x = image.img_to_array(img)\n",
    "x = np.expand_dims(x, axis=0)\n",
    "x = preprocess_input(x)\n",
    "\n",
    "# 画像に対して物体検出を行う\n",
    "preds = model.predict(x)\n",
    "\n",
    "# 結果を表示する\n",
    "print('Predicted:', decode_predictions(preds, top=3)[0])\n"
   ]
  }
 ],
 "metadata": {
  "kernelspec": {
   "display_name": "Python 3 (ipykernel)",
   "language": "python",
   "name": "python3"
  },
  "language_info": {
   "codemirror_mode": {
    "name": "ipython",
    "version": 3
   },
   "file_extension": ".py",
   "mimetype": "text/x-python",
   "name": "python",
   "nbconvert_exporter": "python",
   "pygments_lexer": "ipython3",
   "version": "3.11.5"
  }
 },
 "nbformat": 4,
 "nbformat_minor": 5
}
