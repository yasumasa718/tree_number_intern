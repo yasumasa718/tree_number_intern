{
 "cells": [
  {
   "cell_type": "code",
   "execution_count": null,
   "id": "cc4a8434-2625-4bb6-b908-2a70b112a78f",
   "metadata": {},
   "outputs": [],
   "source": [
    "#ライブラリ、モジュールのインポート\n",
    "import os \n",
    "import pandas as pd\n",
    "import glob\n",
    "from sklearn.model_selection import train_test_split\n"
   ]
  },
  {
   "cell_type": "code",
   "execution_count": null,
   "id": "e897609c-77eb-4c50-9a92-60cab0bf3cd9",
   "metadata": {},
   "outputs": [],
   "source": [
    "#GPUの確認\n",
    "import torch\n",
    "if torch.cuda.is_available():\n",
    "  print(\"GPUの設定ができています。\")\n",
    "else:\n",
    "  print(\"GPUの設定ができていません！\")"
   ]
  },
  {
   "cell_type": "code",
   "execution_count": null,
   "id": "4475255a-244b-466b-a82d-126164485d8e",
   "metadata": {},
   "outputs": [],
   "source": [
    "自分で用意したデータの取得\n",
    "# ディレクトリとCSVファイルのパス設定\n",
    "data_path = '/home/yasumasa-tezuka/data_intern/images/'\n",
    "csv_file = '/home/yasumasa-tezuka/data_intern/metadata.csv'\n",
    "\n",
    "# CSVファイルの読み込み（ヘッダー行がないことを明示）\n",
    "df = pd.read_csv(csv_file, header=None)\n",
    "\n",
    "# 列名を手動で設定\n",
    "df.columns = ['FileNumber', 'Name', 'Type', 'Location', 'Season', 'City', 'Distance', 'Visibility']\n",
    "\n",
    "# ディレクトリ内の全ての画像ファイルを取得\n",
    "image_filenames = glob.glob(os.path.join(data_path, '*.jpg'))\n",
    "\n",
    "# 各画像ファイルに対してループしてテキストファイルを生成\n",
    "for image_path in image_filenames:\n",
    "    image_filename = os.path.basename(image_path)\n",
    "    image_filename_without_extension = os.path.splitext(image_filename)[0]\n",
    "\n",
    "    # 画像ファイル名を数値に変換\n",
    "    image_number = int(image_filename_without_extension)\n",
    "\n",
    "    # ファイル名がdf['FileNumber']列内に存在するかを確認\n",
    "    if image_number in df['FileNumber'].values:\n",
    "        row = df[df['FileNumber'] == image_number].iloc[0]\n",
    "\n",
    "        # テキストファイルのパスを生成\n",
    "        txt_filename = image_filename_without_extension + '.txt'\n",
    "        txt_path = os.path.join(data_path, txt_filename)\n",
    "\n",
    "        # CSVのデータをテキストファイルに書き込む\n",
    "        with open(txt_path, 'w') as file:\n",
    "            for col in df.columns:\n",
    "                file.write(f\"{col}: {row[col]}\\n\")\n",
    "\n",
    "# 画像ファイルとテキストファイルのリストを作成\n",
    "image_files = glob.glob(os.path.join(data_path, \"*.jpg\"))\n",
    "text_files = [os.path.splitext(img)[0] + '.txt' for img in image_files]\n",
    "\n",
    "# 存在するテキストファイルのみを保持\n",
    "image_files = [img for img, txt in zip(image_files, text_files) if os.path.exists(txt)]\n",
    "text_files = [txt for txt in text_files if os.path.exists(txt)]\n",
    "\n",
    "# データを学習用とテスト用に分割\n",
    "x_train, x_test, y_train, y_test = train_test_split(image_files, text_files, test_size=0.3, random_state=42)\n",
    "\n",
    "# 分割されたデータのサイズを表示\n",
    "print(f\"学習データの画像数: {len(x_train)}, テキスト数: {len(y_train)}\")\n",
    "print(f\"テストデータの画像数: {len(x_test)}, テキスト数: {len(y_test)}\")\n"
   ]
  },
  {
   "cell_type": "code",
   "execution_count": null,
   "id": "4642fe42-a6ee-4c08-8547-86d9852ddd9a",
   "metadata": {},
   "outputs": [],
   "source": [
    "#!pip install pyyamlライブラリのインストール\n",
    "\n",
    "import yaml\n",
    "\n",
    "file_path = '/home/yasumasa-tezuka/data_intern/annotation_images/data.yaml'\n",
    "\n",
    "with open(file_path, 'r') as file:\n",
    "    data = yaml.safe_load(file)\n",
    "\n",
    "# データを更新\n",
    "data['train'] = '/home/yasumasa-tezuka/data_intern/annotation_images/train/images'\n",
    "data['val'] = '/home/yasumasa-tezuka/data_intern/annotation_images/valid/images'\n",
    "data['test'] = '/home/yasumasa-tezuka/data_intern/annotation_images/test/images'\n",
    "data['nc'] = 1\n",
    "data['names'] = ['tree']\n",
    "\n",
    "data['roboflow'] = {\n",
    "    'workspace': 'yasumasa-tezuka',\n",
    "    'project': 'tree-number',\n",
    "    'version': 1,\n",
    "    'license': 'CC BY 4.0',\n",
    "    'url': 'https://universe.roboflow.com/yasumasa-tezuka/tree-number/dataset/1'\n",
    "}\n",
    "\n",
    "# 変更をファイルに保存\n",
    "with open(file_path, 'w') as file:\n",
    "    yaml.dump(data, file)"
   ]
  }
 ],
 "metadata": {
  "kernelspec": {
   "display_name": "Python 3 (ipykernel)",
   "language": "python",
   "name": "python3"
  },
  "language_info": {
   "codemirror_mode": {
    "name": "ipython",
    "version": 3
   },
   "file_extension": ".py",
   "mimetype": "text/x-python",
   "name": "python",
   "nbconvert_exporter": "python",
   "pygments_lexer": "ipython3",
   "version": "3.11.5"
  }
 },
 "nbformat": 4,
 "nbformat_minor": 5
}
