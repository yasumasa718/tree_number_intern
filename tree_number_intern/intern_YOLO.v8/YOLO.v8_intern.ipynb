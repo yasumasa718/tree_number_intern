{
 "cells": [
  {
   "cell_type": "code",
   "execution_count": 4,
   "id": "16803a7d-8d40-4467-b40b-5c74f2ce6314",
   "metadata": {
    "tags": []
   },
   "outputs": [
    {
     "name": "stdout",
     "output_type": "stream",
     "text": [
      "Requirement already satisfied: ultralytics in /home/yasumasa-tezuka/anaconda3/lib/python3.11/site-packages (8.0.219)\n",
      "Requirement already satisfied: matplotlib>=3.3.0 in /home/yasumasa-tezuka/anaconda3/lib/python3.11/site-packages (from ultralytics) (3.8.0)\n",
      "Requirement already satisfied: numpy>=1.22.2 in /home/yasumasa-tezuka/anaconda3/lib/python3.11/site-packages (from ultralytics) (1.24.3)\n",
      "Requirement already satisfied: opencv-python>=4.6.0 in /home/yasumasa-tezuka/anaconda3/lib/python3.11/site-packages (from ultralytics) (4.8.1.78)\n",
      "Requirement already satisfied: pillow>=7.1.2 in /home/yasumasa-tezuka/anaconda3/lib/python3.11/site-packages (from ultralytics) (10.1.0)\n",
      "Requirement already satisfied: pyyaml>=5.3.1 in /home/yasumasa-tezuka/anaconda3/lib/python3.11/site-packages (from ultralytics) (6.0.1)\n",
      "Requirement already satisfied: requests>=2.23.0 in /home/yasumasa-tezuka/anaconda3/lib/python3.11/site-packages (from ultralytics) (2.31.0)\n",
      "Requirement already satisfied: scipy>=1.4.1 in /home/yasumasa-tezuka/anaconda3/lib/python3.11/site-packages (from ultralytics) (1.11.3)\n",
      "Requirement already satisfied: torch>=1.8.0 in /home/yasumasa-tezuka/anaconda3/lib/python3.11/site-packages (from ultralytics) (2.1.0)\n",
      "Requirement already satisfied: torchvision>=0.9.0 in /home/yasumasa-tezuka/anaconda3/lib/python3.11/site-packages (from ultralytics) (0.16.0)\n",
      "Requirement already satisfied: tqdm>=4.64.0 in /home/yasumasa-tezuka/anaconda3/lib/python3.11/site-packages (from ultralytics) (4.65.0)\n",
      "Requirement already satisfied: pandas>=1.1.4 in /home/yasumasa-tezuka/anaconda3/lib/python3.11/site-packages (from ultralytics) (2.1.1)\n",
      "Requirement already satisfied: seaborn>=0.11.0 in /home/yasumasa-tezuka/anaconda3/lib/python3.11/site-packages (from ultralytics) (0.13.0)\n",
      "Requirement already satisfied: psutil in /home/yasumasa-tezuka/anaconda3/lib/python3.11/site-packages (from ultralytics) (5.9.0)\n",
      "Requirement already satisfied: py-cpuinfo in /home/yasumasa-tezuka/anaconda3/lib/python3.11/site-packages (from ultralytics) (9.0.0)\n",
      "Requirement already satisfied: thop>=0.1.1 in /home/yasumasa-tezuka/anaconda3/lib/python3.11/site-packages (from ultralytics) (0.1.1.post2209072238)\n",
      "Requirement already satisfied: contourpy>=1.0.1 in /home/yasumasa-tezuka/anaconda3/lib/python3.11/site-packages (from matplotlib>=3.3.0->ultralytics) (1.0.5)\n",
      "Requirement already satisfied: cycler>=0.10 in /home/yasumasa-tezuka/anaconda3/lib/python3.11/site-packages (from matplotlib>=3.3.0->ultralytics) (0.11.0)\n",
      "Requirement already satisfied: fonttools>=4.22.0 in /home/yasumasa-tezuka/anaconda3/lib/python3.11/site-packages (from matplotlib>=3.3.0->ultralytics) (4.25.0)\n",
      "Requirement already satisfied: kiwisolver>=1.0.1 in /home/yasumasa-tezuka/anaconda3/lib/python3.11/site-packages (from matplotlib>=3.3.0->ultralytics) (1.4.4)\n",
      "Requirement already satisfied: packaging>=20.0 in /home/yasumasa-tezuka/anaconda3/lib/python3.11/site-packages (from matplotlib>=3.3.0->ultralytics) (23.1)\n",
      "Requirement already satisfied: pyparsing>=2.3.1 in /home/yasumasa-tezuka/anaconda3/lib/python3.11/site-packages (from matplotlib>=3.3.0->ultralytics) (2.4.7)\n",
      "Requirement already satisfied: python-dateutil>=2.7 in /home/yasumasa-tezuka/anaconda3/lib/python3.11/site-packages (from matplotlib>=3.3.0->ultralytics) (2.8.2)\n",
      "Requirement already satisfied: pytz>=2020.1 in /home/yasumasa-tezuka/anaconda3/lib/python3.11/site-packages (from pandas>=1.1.4->ultralytics) (2022.7.1)\n",
      "Requirement already satisfied: tzdata>=2022.1 in /home/yasumasa-tezuka/anaconda3/lib/python3.11/site-packages (from pandas>=1.1.4->ultralytics) (2023.3)\n",
      "Requirement already satisfied: charset-normalizer<4,>=2 in /home/yasumasa-tezuka/anaconda3/lib/python3.11/site-packages (from requests>=2.23.0->ultralytics) (2.0.4)\n",
      "Requirement already satisfied: idna<4,>=2.5 in /home/yasumasa-tezuka/anaconda3/lib/python3.11/site-packages (from requests>=2.23.0->ultralytics) (3.4)\n",
      "Requirement already satisfied: urllib3<3,>=1.21.1 in /home/yasumasa-tezuka/anaconda3/lib/python3.11/site-packages (from requests>=2.23.0->ultralytics) (1.26.16)\n",
      "Requirement already satisfied: certifi>=2017.4.17 in /home/yasumasa-tezuka/anaconda3/lib/python3.11/site-packages (from requests>=2.23.0->ultralytics) (2023.7.22)\n",
      "Requirement already satisfied: filelock in /home/yasumasa-tezuka/anaconda3/lib/python3.11/site-packages (from torch>=1.8.0->ultralytics) (3.9.0)\n",
      "Requirement already satisfied: typing-extensions in /home/yasumasa-tezuka/anaconda3/lib/python3.11/site-packages (from torch>=1.8.0->ultralytics) (4.7.1)\n",
      "Requirement already satisfied: sympy in /home/yasumasa-tezuka/anaconda3/lib/python3.11/site-packages (from torch>=1.8.0->ultralytics) (1.11.1)\n",
      "Requirement already satisfied: networkx in /home/yasumasa-tezuka/anaconda3/lib/python3.11/site-packages (from torch>=1.8.0->ultralytics) (3.1)\n",
      "Requirement already satisfied: jinja2 in /home/yasumasa-tezuka/anaconda3/lib/python3.11/site-packages (from torch>=1.8.0->ultralytics) (3.1.2)\n",
      "Requirement already satisfied: fsspec in /home/yasumasa-tezuka/anaconda3/lib/python3.11/site-packages (from torch>=1.8.0->ultralytics) (2023.4.0)\n",
      "Requirement already satisfied: nvidia-cuda-nvrtc-cu12==12.1.105 in /home/yasumasa-tezuka/anaconda3/lib/python3.11/site-packages (from torch>=1.8.0->ultralytics) (12.1.105)\n",
      "Requirement already satisfied: nvidia-cuda-runtime-cu12==12.1.105 in /home/yasumasa-tezuka/anaconda3/lib/python3.11/site-packages (from torch>=1.8.0->ultralytics) (12.1.105)\n",
      "Requirement already satisfied: nvidia-cuda-cupti-cu12==12.1.105 in /home/yasumasa-tezuka/anaconda3/lib/python3.11/site-packages (from torch>=1.8.0->ultralytics) (12.1.105)\n",
      "Requirement already satisfied: nvidia-cudnn-cu12==8.9.2.26 in /home/yasumasa-tezuka/anaconda3/lib/python3.11/site-packages (from torch>=1.8.0->ultralytics) (8.9.2.26)\n",
      "Requirement already satisfied: nvidia-cublas-cu12==12.1.3.1 in /home/yasumasa-tezuka/anaconda3/lib/python3.11/site-packages (from torch>=1.8.0->ultralytics) (12.1.3.1)\n",
      "Requirement already satisfied: nvidia-cufft-cu12==11.0.2.54 in /home/yasumasa-tezuka/anaconda3/lib/python3.11/site-packages (from torch>=1.8.0->ultralytics) (11.0.2.54)\n",
      "Requirement already satisfied: nvidia-curand-cu12==10.3.2.106 in /home/yasumasa-tezuka/anaconda3/lib/python3.11/site-packages (from torch>=1.8.0->ultralytics) (10.3.2.106)\n",
      "Requirement already satisfied: nvidia-cusolver-cu12==11.4.5.107 in /home/yasumasa-tezuka/anaconda3/lib/python3.11/site-packages (from torch>=1.8.0->ultralytics) (11.4.5.107)\n",
      "Requirement already satisfied: nvidia-cusparse-cu12==12.1.0.106 in /home/yasumasa-tezuka/anaconda3/lib/python3.11/site-packages (from torch>=1.8.0->ultralytics) (12.1.0.106)\n",
      "Requirement already satisfied: nvidia-nccl-cu12==2.18.1 in /home/yasumasa-tezuka/anaconda3/lib/python3.11/site-packages (from torch>=1.8.0->ultralytics) (2.18.1)\n",
      "Requirement already satisfied: nvidia-nvtx-cu12==12.1.105 in /home/yasumasa-tezuka/anaconda3/lib/python3.11/site-packages (from torch>=1.8.0->ultralytics) (12.1.105)\n",
      "Requirement already satisfied: triton==2.1.0 in /home/yasumasa-tezuka/anaconda3/lib/python3.11/site-packages (from torch>=1.8.0->ultralytics) (2.1.0)\n",
      "Requirement already satisfied: nvidia-nvjitlink-cu12 in /home/yasumasa-tezuka/anaconda3/lib/python3.11/site-packages (from nvidia-cusolver-cu12==11.4.5.107->torch>=1.8.0->ultralytics) (12.3.52)\n",
      "Requirement already satisfied: six>=1.5 in /home/yasumasa-tezuka/anaconda3/lib/python3.11/site-packages (from python-dateutil>=2.7->matplotlib>=3.3.0->ultralytics) (1.16.0)\n",
      "Requirement already satisfied: MarkupSafe>=2.0 in /home/yasumasa-tezuka/anaconda3/lib/python3.11/site-packages (from jinja2->torch>=1.8.0->ultralytics) (2.1.1)\n",
      "Requirement already satisfied: mpmath>=0.19 in /home/yasumasa-tezuka/anaconda3/lib/python3.11/site-packages (from sympy->torch>=1.8.0->ultralytics) (1.3.0)\n"
     ]
    }
   ],
   "source": [
    "!pip install ultralytics\n",
    "from ultralytics import YOLO\n",
    "\n",
    "# デフォルトのモデル\n",
    "model = YOLO('yolov8n.pt')"
   ]
  },
  {
   "cell_type": "code",
   "execution_count": 4,
   "id": "39c0c754-062f-4c74-9848-39929739ea90",
   "metadata": {
    "tags": []
   },
   "outputs": [
    {
     "name": "stdout",
     "output_type": "stream",
     "text": [
      "New https://pypi.org/project/ultralytics/8.0.223 available 😃 Update with 'pip install -U ultralytics'\n",
      "Ultralytics YOLOv8.0.219 🚀 Python-3.11.5 torch-2.1.0+cu121 CUDA:0 (NVIDIA GeForce RTX 3060, 12036MiB)\n",
      "\u001b[34m\u001b[1mengine/trainer: \u001b[0mtask=detect, mode=train, model=yolov8n.pt, data=/home/yasumasa-tezuka/data_intern/1~50annotation/data.yaml, epochs=150, patience=50, batch=16, imgsz=640, save=True, save_period=-1, cache=False, device=cuda, workers=8, project=None, name=train18, exist_ok=False, pretrained=True, optimizer=auto, verbose=True, seed=0, deterministic=True, single_cls=False, rect=False, cos_lr=False, close_mosaic=10, resume=False, amp=True, fraction=1.0, profile=False, freeze=None, overlap_mask=True, mask_ratio=4, dropout=0.0, val=True, split=val, save_json=False, save_hybrid=False, conf=None, iou=0.7, max_det=300, half=False, dnn=False, plots=True, source=None, vid_stride=1, stream_buffer=False, visualize=False, augment=False, agnostic_nms=False, classes=None, retina_masks=False, show=False, save_frames=False, save_txt=False, save_conf=False, save_crop=False, show_labels=True, show_conf=True, show_boxes=True, line_width=None, format=torchscript, keras=False, optimize=False, int8=False, dynamic=False, simplify=False, opset=None, workspace=4, nms=False, lr0=0.01, lrf=0.01, momentum=0.937, weight_decay=0.0005, warmup_epochs=3.0, warmup_momentum=0.8, warmup_bias_lr=0.1, box=7.5, cls=0.5, dfl=1.5, pose=12.0, kobj=1.0, label_smoothing=0.0, nbs=64, hsv_h=0.015, hsv_s=0.7, hsv_v=0.4, degrees=0.0, translate=0.1, scale=0.5, shear=0.0, perspective=0.0, flipud=0.0, fliplr=0.5, mosaic=1.0, mixup=0.0, copy_paste=0.0, cfg=None, tracker=botsort.yaml, save_dir=runs/detect/train18\n",
      "Overriding model.yaml nc=80 with nc=1\n",
      "\n",
      "                   from  n    params  module                                       arguments                     \n",
      "  0                  -1  1       464  ultralytics.nn.modules.conv.Conv             [3, 16, 3, 2]                 \n",
      "  1                  -1  1      4672  ultralytics.nn.modules.conv.Conv             [16, 32, 3, 2]                \n",
      "  2                  -1  1      7360  ultralytics.nn.modules.block.C2f             [32, 32, 1, True]             \n",
      "  3                  -1  1     18560  ultralytics.nn.modules.conv.Conv             [32, 64, 3, 2]                \n",
      "  4                  -1  2     49664  ultralytics.nn.modules.block.C2f             [64, 64, 2, True]             \n",
      "  5                  -1  1     73984  ultralytics.nn.modules.conv.Conv             [64, 128, 3, 2]               \n",
      "  6                  -1  2    197632  ultralytics.nn.modules.block.C2f             [128, 128, 2, True]           \n",
      "  7                  -1  1    295424  ultralytics.nn.modules.conv.Conv             [128, 256, 3, 2]              \n",
      "  8                  -1  1    460288  ultralytics.nn.modules.block.C2f             [256, 256, 1, True]           \n",
      "  9                  -1  1    164608  ultralytics.nn.modules.block.SPPF            [256, 256, 5]                 \n",
      " 10                  -1  1         0  torch.nn.modules.upsampling.Upsample         [None, 2, 'nearest']          \n",
      " 11             [-1, 6]  1         0  ultralytics.nn.modules.conv.Concat           [1]                           \n",
      " 12                  -1  1    148224  ultralytics.nn.modules.block.C2f             [384, 128, 1]                 \n",
      " 13                  -1  1         0  torch.nn.modules.upsampling.Upsample         [None, 2, 'nearest']          \n",
      " 14             [-1, 4]  1         0  ultralytics.nn.modules.conv.Concat           [1]                           \n",
      " 15                  -1  1     37248  ultralytics.nn.modules.block.C2f             [192, 64, 1]                  \n",
      " 16                  -1  1     36992  ultralytics.nn.modules.conv.Conv             [64, 64, 3, 2]                \n",
      " 17            [-1, 12]  1         0  ultralytics.nn.modules.conv.Concat           [1]                           \n",
      " 18                  -1  1    123648  ultralytics.nn.modules.block.C2f             [192, 128, 1]                 \n",
      " 19                  -1  1    147712  ultralytics.nn.modules.conv.Conv             [128, 128, 3, 2]              \n",
      " 20             [-1, 9]  1         0  ultralytics.nn.modules.conv.Concat           [1]                           \n",
      " 21                  -1  1    493056  ultralytics.nn.modules.block.C2f             [384, 256, 1]                 \n",
      " 22        [15, 18, 21]  1    751507  ultralytics.nn.modules.head.Detect           [1, [64, 128, 256]]           \n",
      "Model summary: 225 layers, 3011043 parameters, 3011027 gradients, 8.2 GFLOPs\n",
      "\n",
      "Transferred 319/355 items from pretrained weights\n",
      "WARNING ⚠️ Comet installed but not initialized correctly, not logging this run. Comet.ml requires an API key. Please provide as the first argument to Experiment(api_key) or as an environment variable named COMET_API_KEY \n",
      "\u001b[34m\u001b[1mTensorBoard: \u001b[0mStart with 'tensorboard --logdir runs/detect/train18', view at http://localhost:6006/\n",
      "Freezing layer 'model.22.dfl.conv.weight'\n",
      "\u001b[34m\u001b[1mAMP: \u001b[0mrunning Automatic Mixed Precision (AMP) checks with YOLOv8n...\n",
      "\u001b[34m\u001b[1mAMP: \u001b[0mchecks passed ✅\n"
     ]
    },
    {
     "name": "stderr",
     "output_type": "stream",
     "text": [
      "\u001b[34m\u001b[1mtrain: \u001b[0mScanning /home/yasumasa-tezuka/data_intern/data/images_expansion/train...\u001b[0m\n"
     ]
    },
    {
     "name": "stdout",
     "output_type": "stream",
     "text": [
      "\u001b[34m\u001b[1mtrain: \u001b[0mNew cache created: /home/yasumasa-tezuka/data_intern/data/images_expansion/train.cache\n"
     ]
    },
    {
     "name": "stderr",
     "output_type": "stream",
     "text": [
      "\u001b[34m\u001b[1mval: \u001b[0mScanning /home/yasumasa-tezuka/data_intern/data/images_expansion/val... 329\u001b[0m\n"
     ]
    },
    {
     "name": "stdout",
     "output_type": "stream",
     "text": [
      "\u001b[34m\u001b[1mval: \u001b[0mNew cache created: /home/yasumasa-tezuka/data_intern/data/images_expansion/val.cache\n",
      "Plotting labels to runs/detect/train18/labels.jpg... \n",
      "\u001b[34m\u001b[1moptimizer:\u001b[0m 'optimizer=auto' found, ignoring 'lr0=0.01' and 'momentum=0.937' and determining best 'optimizer', 'lr0' and 'momentum' automatically... \n",
      "\u001b[34m\u001b[1moptimizer:\u001b[0m SGD(lr=0.01, momentum=0.9) with parameter groups 57 weight(decay=0.0), 64 weight(decay=0.0005), 63 bias(decay=0.0)\n",
      "Image sizes 640 train, 640 val\n",
      "Using 8 dataloader workers\n",
      "Logging results to \u001b[1mruns/detect/train18\u001b[0m\n",
      "Starting training for 150 epochs...\n",
      "\n",
      "      Epoch    GPU_mem   box_loss   cls_loss   dfl_loss  Instances       Size\n"
     ]
    },
    {
     "name": "stderr",
     "output_type": "stream",
     "text": [
      "      1/150      4.02G      3.103      3.289      2.462         67        640: 1\n",
      "                 Class     Images  Instances      Box(P          R      mAP50  m\n"
     ]
    },
    {
     "name": "stdout",
     "output_type": "stream",
     "text": [
      "                   all       3292      17116     0.0808     0.0325     0.0156    0.00445\n",
      "\n",
      "      Epoch    GPU_mem   box_loss   cls_loss   dfl_loss  Instances       Size\n"
     ]
    },
    {
     "name": "stderr",
     "output_type": "stream",
     "text": [
      "      2/150      3.86G      2.923      3.007      2.301         59        640: 1\n",
      "                 Class     Images  Instances      Box(P          R      mAP50  m\n"
     ]
    },
    {
     "name": "stdout",
     "output_type": "stream",
     "text": [
      "                   all       3292      17116     0.0526     0.0854     0.0198    0.00544\n",
      "\n",
      "      Epoch    GPU_mem   box_loss   cls_loss   dfl_loss  Instances       Size\n"
     ]
    },
    {
     "name": "stderr",
     "output_type": "stream",
     "text": [
      "      3/150      3.99G      2.875      2.994       2.31         48        640: 1\n",
      "                 Class     Images  Instances      Box(P          R      mAP50  m\n"
     ]
    },
    {
     "name": "stdout",
     "output_type": "stream",
     "text": [
      "                   all       3292      17116     0.0679     0.0478     0.0184    0.00613\n",
      "\n",
      "      Epoch    GPU_mem   box_loss   cls_loss   dfl_loss  Instances       Size\n"
     ]
    },
    {
     "name": "stderr",
     "output_type": "stream",
     "text": [
      "      4/150      3.96G      2.862      3.015      2.335         18        640: 1\n",
      "                 Class     Images  Instances      Box(P          R      mAP50  m\n"
     ]
    },
    {
     "name": "stdout",
     "output_type": "stream",
     "text": [
      "                   all       3292      17116     0.0293      0.267     0.0221    0.00586\n",
      "\n",
      "      Epoch    GPU_mem   box_loss   cls_loss   dfl_loss  Instances       Size\n"
     ]
    },
    {
     "name": "stderr",
     "output_type": "stream",
     "text": [
      "      5/150      3.93G      2.774      2.984      2.276         82        640: 1\n",
      "                 Class     Images  Instances      Box(P          R      mAP50  m\n"
     ]
    },
    {
     "name": "stdout",
     "output_type": "stream",
     "text": [
      "                   all       3292      17116     0.0992      0.058     0.0293    0.00887\n",
      "\n",
      "      Epoch    GPU_mem   box_loss   cls_loss   dfl_loss  Instances       Size\n"
     ]
    },
    {
     "name": "stderr",
     "output_type": "stream",
     "text": [
      "      6/150      4.01G       2.72      2.917      2.231         39        640: 1\n",
      "                 Class     Images  Instances      Box(P          R      mAP50  m\n"
     ]
    },
    {
     "name": "stdout",
     "output_type": "stream",
     "text": [
      "                   all       3292      17116     0.0422     0.0802     0.0239    0.00723\n",
      "\n",
      "      Epoch    GPU_mem   box_loss   cls_loss   dfl_loss  Instances       Size\n"
     ]
    },
    {
     "name": "stderr",
     "output_type": "stream",
     "text": [
      "      7/150      4.06G      2.662      2.872      2.198         35        640: 1\n",
      "                 Class     Images  Instances      Box(P          R      mAP50  m\n"
     ]
    },
    {
     "name": "stdout",
     "output_type": "stream",
     "text": [
      "                   all       3292      17116     0.0919     0.0493     0.0341     0.0121\n",
      "\n",
      "      Epoch    GPU_mem   box_loss   cls_loss   dfl_loss  Instances       Size\n"
     ]
    },
    {
     "name": "stderr",
     "output_type": "stream",
     "text": [
      "      8/150      3.86G      2.605      2.843      2.166         54        640: 1\n",
      "                 Class     Images  Instances      Box(P          R      mAP50  m\n"
     ]
    },
    {
     "name": "stdout",
     "output_type": "stream",
     "text": [
      "                   all       3292      17116      0.118     0.0695     0.0455     0.0161\n",
      "\n",
      "      Epoch    GPU_mem   box_loss   cls_loss   dfl_loss  Instances       Size\n"
     ]
    },
    {
     "name": "stderr",
     "output_type": "stream",
     "text": [
      "      9/150      4.02G      2.569      2.812      2.143         47        640: 1\n",
      "                 Class     Images  Instances      Box(P          R      mAP50  m\n"
     ]
    },
    {
     "name": "stdout",
     "output_type": "stream",
     "text": [
      "                   all       3292      17116      0.135     0.0769     0.0451     0.0158\n",
      "\n",
      "      Epoch    GPU_mem   box_loss   cls_loss   dfl_loss  Instances       Size\n"
     ]
    },
    {
     "name": "stderr",
     "output_type": "stream",
     "text": [
      "     10/150      3.93G       2.54      2.778      2.111         41        640: 1\n",
      "                 Class     Images  Instances      Box(P          R      mAP50  m\n"
     ]
    },
    {
     "name": "stdout",
     "output_type": "stream",
     "text": [
      "                   all       3292      17116      0.146     0.0567     0.0443     0.0152\n",
      "\n",
      "      Epoch    GPU_mem   box_loss   cls_loss   dfl_loss  Instances       Size\n"
     ]
    },
    {
     "name": "stderr",
     "output_type": "stream",
     "text": [
      "     11/150       4.1G       2.51      2.742      2.089         33        640: 1\n",
      "                 Class     Images  Instances      Box(P          R      mAP50  m\n"
     ]
    },
    {
     "name": "stdout",
     "output_type": "stream",
     "text": [
      "                   all       3292      17116      0.132     0.0977     0.0533     0.0176\n",
      "\n",
      "      Epoch    GPU_mem   box_loss   cls_loss   dfl_loss  Instances       Size\n"
     ]
    },
    {
     "name": "stderr",
     "output_type": "stream",
     "text": [
      "     12/150      3.85G      2.485      2.716      2.058         56        640: 1\n",
      "                 Class     Images  Instances      Box(P          R      mAP50  m\n"
     ]
    },
    {
     "name": "stdout",
     "output_type": "stream",
     "text": [
      "                   all       3292      17116      0.152      0.116     0.0619     0.0221\n",
      "\n",
      "      Epoch    GPU_mem   box_loss   cls_loss   dfl_loss  Instances       Size\n"
     ]
    },
    {
     "name": "stderr",
     "output_type": "stream",
     "text": [
      "     13/150      3.94G      2.433      2.689      2.034         31        640: 1\n",
      "                 Class     Images  Instances      Box(P          R      mAP50  m\n"
     ]
    },
    {
     "name": "stdout",
     "output_type": "stream",
     "text": [
      "                   all       3292      17116      0.165     0.0956     0.0699     0.0278\n",
      "\n",
      "      Epoch    GPU_mem   box_loss   cls_loss   dfl_loss  Instances       Size\n"
     ]
    },
    {
     "name": "stderr",
     "output_type": "stream",
     "text": [
      "     14/150       3.9G      2.411      2.666      2.022         97        640: 1\n",
      "                 Class     Images  Instances      Box(P          R      mAP50  m\n"
     ]
    },
    {
     "name": "stdout",
     "output_type": "stream",
     "text": [
      "                   all       3292      17116      0.161      0.129     0.0785     0.0302\n",
      "\n",
      "      Epoch    GPU_mem   box_loss   cls_loss   dfl_loss  Instances       Size\n"
     ]
    },
    {
     "name": "stderr",
     "output_type": "stream",
     "text": [
      "     15/150      3.95G      2.403      2.642      2.001         48        640: 1\n",
      "                 Class     Images  Instances      Box(P          R      mAP50  m\n"
     ]
    },
    {
     "name": "stdout",
     "output_type": "stream",
     "text": [
      "                   all       3292      17116      0.166      0.121     0.0786     0.0286\n",
      "\n",
      "      Epoch    GPU_mem   box_loss   cls_loss   dfl_loss  Instances       Size\n"
     ]
    },
    {
     "name": "stderr",
     "output_type": "stream",
     "text": [
      "     16/150      3.93G      2.374      2.623       1.98         34        640: 1\n",
      "                 Class     Images  Instances      Box(P          R      mAP50  m\n"
     ]
    },
    {
     "name": "stdout",
     "output_type": "stream",
     "text": [
      "                   all       3292      17116      0.184      0.117     0.0819     0.0322\n",
      "\n",
      "      Epoch    GPU_mem   box_loss   cls_loss   dfl_loss  Instances       Size\n"
     ]
    },
    {
     "name": "stderr",
     "output_type": "stream",
     "text": [
      "     17/150      3.88G      2.348      2.591      1.962         39        640: 1\n",
      "                 Class     Images  Instances      Box(P          R      mAP50  m\n"
     ]
    },
    {
     "name": "stdout",
     "output_type": "stream",
     "text": [
      "                   all       3292      17116      0.206      0.118     0.0863     0.0334\n",
      "\n",
      "      Epoch    GPU_mem   box_loss   cls_loss   dfl_loss  Instances       Size\n"
     ]
    },
    {
     "name": "stderr",
     "output_type": "stream",
     "text": [
      "     18/150       4.1G      2.335      2.574      1.953         22        640: 1\n",
      "                 Class     Images  Instances      Box(P          R      mAP50  m\n"
     ]
    },
    {
     "name": "stdout",
     "output_type": "stream",
     "text": [
      "                   all       3292      17116      0.205      0.139     0.0988     0.0417\n",
      "\n",
      "      Epoch    GPU_mem   box_loss   cls_loss   dfl_loss  Instances       Size\n"
     ]
    },
    {
     "name": "stderr",
     "output_type": "stream",
     "text": [
      "     19/150      3.94G      2.305      2.554       1.93         46        640: 1\n",
      "                 Class     Images  Instances      Box(P          R      mAP50  m\n"
     ]
    },
    {
     "name": "stdout",
     "output_type": "stream",
     "text": [
      "                   all       3292      17116      0.207      0.132      0.101     0.0398\n",
      "\n",
      "      Epoch    GPU_mem   box_loss   cls_loss   dfl_loss  Instances       Size\n"
     ]
    },
    {
     "name": "stderr",
     "output_type": "stream",
     "text": [
      "     20/150      4.08G      2.291      2.544      1.927         76        640: 1\n",
      "                 Class     Images  Instances      Box(P          R      mAP50  m\n"
     ]
    },
    {
     "name": "stdout",
     "output_type": "stream",
     "text": [
      "                   all       3292      17116      0.197      0.153      0.105     0.0434\n",
      "\n",
      "      Epoch    GPU_mem   box_loss   cls_loss   dfl_loss  Instances       Size\n"
     ]
    },
    {
     "name": "stderr",
     "output_type": "stream",
     "text": [
      "     21/150      4.04G      2.274      2.526      1.911         30        640: 1\n",
      "                 Class     Images  Instances      Box(P          R      mAP50  m\n"
     ]
    },
    {
     "name": "stdout",
     "output_type": "stream",
     "text": [
      "                   all       3292      17116      0.214      0.151      0.109     0.0447\n",
      "\n",
      "      Epoch    GPU_mem   box_loss   cls_loss   dfl_loss  Instances       Size\n"
     ]
    },
    {
     "name": "stderr",
     "output_type": "stream",
     "text": [
      "     22/150      3.93G      2.255      2.503      1.892         27        640: 1\n",
      "                 Class     Images  Instances      Box(P          R      mAP50  m\n"
     ]
    },
    {
     "name": "stdout",
     "output_type": "stream",
     "text": [
      "                   all       3292      17116      0.228      0.162      0.116     0.0487\n",
      "\n",
      "      Epoch    GPU_mem   box_loss   cls_loss   dfl_loss  Instances       Size\n"
     ]
    },
    {
     "name": "stderr",
     "output_type": "stream",
     "text": [
      "     23/150      3.96G      2.239      2.479      1.883         66        640: 1\n",
      "                 Class     Images  Instances      Box(P          R      mAP50  m\n"
     ]
    },
    {
     "name": "stdout",
     "output_type": "stream",
     "text": [
      "                   all       3292      17116      0.228       0.17      0.126     0.0533\n",
      "\n",
      "      Epoch    GPU_mem   box_loss   cls_loss   dfl_loss  Instances       Size\n"
     ]
    },
    {
     "name": "stderr",
     "output_type": "stream",
     "text": [
      "     24/150      4.02G       2.22      2.468      1.867         24        640: 1\n",
      "                 Class     Images  Instances      Box(P          R      mAP50  m\n"
     ]
    },
    {
     "name": "stdout",
     "output_type": "stream",
     "text": [
      "                   all       3292      17116      0.238      0.168       0.13     0.0553\n",
      "\n",
      "      Epoch    GPU_mem   box_loss   cls_loss   dfl_loss  Instances       Size\n"
     ]
    },
    {
     "name": "stderr",
     "output_type": "stream",
     "text": [
      "     25/150      4.05G      2.216      2.448       1.86         73        640: 1\n",
      "                 Class     Images  Instances      Box(P          R      mAP50  m\n"
     ]
    },
    {
     "name": "stdout",
     "output_type": "stream",
     "text": [
      "                   all       3292      17116      0.247      0.177      0.139     0.0594\n",
      "\n",
      "      Epoch    GPU_mem   box_loss   cls_loss   dfl_loss  Instances       Size\n"
     ]
    },
    {
     "name": "stderr",
     "output_type": "stream",
     "text": [
      "     26/150      4.08G      2.214      2.442      1.848         51        640: 1\n",
      "                 Class     Images  Instances      Box(P          R      mAP50  m\n"
     ]
    },
    {
     "name": "stdout",
     "output_type": "stream",
     "text": [
      "                   all       3292      17116       0.25      0.178       0.14     0.0582\n",
      "\n",
      "      Epoch    GPU_mem   box_loss   cls_loss   dfl_loss  Instances       Size\n"
     ]
    },
    {
     "name": "stderr",
     "output_type": "stream",
     "text": [
      "     27/150      3.94G      2.183      2.421      1.839         29        640: 1\n",
      "                 Class     Images  Instances      Box(P          R      mAP50  m\n"
     ]
    },
    {
     "name": "stdout",
     "output_type": "stream",
     "text": [
      "                   all       3292      17116      0.254      0.189      0.145     0.0661\n",
      "\n",
      "      Epoch    GPU_mem   box_loss   cls_loss   dfl_loss  Instances       Size\n"
     ]
    },
    {
     "name": "stderr",
     "output_type": "stream",
     "text": [
      "     28/150      4.08G      2.171      2.408      1.835         67        640: 1\n",
      "                 Class     Images  Instances      Box(P          R      mAP50  m\n"
     ]
    },
    {
     "name": "stdout",
     "output_type": "stream",
     "text": [
      "                   all       3292      17116      0.252       0.19      0.149     0.0684\n",
      "\n",
      "      Epoch    GPU_mem   box_loss   cls_loss   dfl_loss  Instances       Size\n"
     ]
    },
    {
     "name": "stderr",
     "output_type": "stream",
     "text": [
      "     29/150      3.86G      2.148      2.404      1.821         50        640: 1\n",
      "                 Class     Images  Instances      Box(P          R      mAP50  m\n"
     ]
    },
    {
     "name": "stdout",
     "output_type": "stream",
     "text": [
      "                   all       3292      17116      0.263        0.2       0.15     0.0665\n",
      "\n",
      "      Epoch    GPU_mem   box_loss   cls_loss   dfl_loss  Instances       Size\n"
     ]
    },
    {
     "name": "stderr",
     "output_type": "stream",
     "text": [
      "     30/150      3.88G      2.148      2.387      1.817         69        640: 1\n",
      "                 Class     Images  Instances      Box(P          R      mAP50  m\n"
     ]
    },
    {
     "name": "stdout",
     "output_type": "stream",
     "text": [
      "                   all       3292      17116      0.278      0.191      0.152     0.0664\n",
      "\n",
      "      Epoch    GPU_mem   box_loss   cls_loss   dfl_loss  Instances       Size\n"
     ]
    },
    {
     "name": "stderr",
     "output_type": "stream",
     "text": [
      "     31/150         4G      2.125      2.376      1.805         28        640: 1\n",
      "                 Class     Images  Instances      Box(P          R      mAP50  m\n"
     ]
    },
    {
     "name": "stdout",
     "output_type": "stream",
     "text": [
      "                   all       3292      17116      0.295      0.197      0.168     0.0805\n",
      "\n",
      "      Epoch    GPU_mem   box_loss   cls_loss   dfl_loss  Instances       Size\n"
     ]
    },
    {
     "name": "stderr",
     "output_type": "stream",
     "text": [
      "     32/150      3.86G      2.113      2.351      1.792         81        640: 1\n",
      "                 Class     Images  Instances      Box(P          R      mAP50  m\n"
     ]
    },
    {
     "name": "stdout",
     "output_type": "stream",
     "text": [
      "                   all       3292      17116      0.284      0.206      0.161     0.0744\n",
      "\n",
      "      Epoch    GPU_mem   box_loss   cls_loss   dfl_loss  Instances       Size\n"
     ]
    },
    {
     "name": "stderr",
     "output_type": "stream",
     "text": [
      "     33/150      3.92G      2.101      2.347      1.785         59        640: 1\n",
      "                 Class     Images  Instances      Box(P          R      mAP50  m\n"
     ]
    },
    {
     "name": "stdout",
     "output_type": "stream",
     "text": [
      "                   all       3292      17116      0.285      0.226      0.171     0.0799\n",
      "\n",
      "      Epoch    GPU_mem   box_loss   cls_loss   dfl_loss  Instances       Size\n"
     ]
    },
    {
     "name": "stderr",
     "output_type": "stream",
     "text": [
      "     34/150      3.94G      2.094      2.336      1.774         34        640: 1\n",
      "                 Class     Images  Instances      Box(P          R      mAP50  m\n"
     ]
    },
    {
     "name": "stdout",
     "output_type": "stream",
     "text": [
      "                   all       3292      17116       0.29      0.217      0.176     0.0827\n",
      "\n",
      "      Epoch    GPU_mem   box_loss   cls_loss   dfl_loss  Instances       Size\n"
     ]
    },
    {
     "name": "stderr",
     "output_type": "stream",
     "text": [
      "     35/150         4G      2.085      2.324      1.773         80        640: 1\n",
      "                 Class     Images  Instances      Box(P          R      mAP50  m\n"
     ]
    },
    {
     "name": "stdout",
     "output_type": "stream",
     "text": [
      "                   all       3292      17116      0.271      0.209      0.168     0.0761\n",
      "\n",
      "      Epoch    GPU_mem   box_loss   cls_loss   dfl_loss  Instances       Size\n"
     ]
    },
    {
     "name": "stderr",
     "output_type": "stream",
     "text": [
      "     36/150      3.85G      2.051      2.301       1.75         47        640: 1\n",
      "                 Class     Images  Instances      Box(P          R      mAP50  m\n"
     ]
    },
    {
     "name": "stdout",
     "output_type": "stream",
     "text": [
      "                   all       3292      17116       0.29      0.222      0.176     0.0838\n",
      "\n",
      "      Epoch    GPU_mem   box_loss   cls_loss   dfl_loss  Instances       Size\n"
     ]
    },
    {
     "name": "stderr",
     "output_type": "stream",
     "text": [
      "     37/150      3.91G       2.05        2.3      1.757         68        640: 1\n",
      "                 Class     Images  Instances      Box(P          R      mAP50  m\n"
     ]
    },
    {
     "name": "stdout",
     "output_type": "stream",
     "text": [
      "                   all       3292      17116      0.291      0.226      0.178     0.0865\n",
      "\n",
      "      Epoch    GPU_mem   box_loss   cls_loss   dfl_loss  Instances       Size\n"
     ]
    },
    {
     "name": "stderr",
     "output_type": "stream",
     "text": [
      "     38/150      3.93G       2.04      2.282      1.744         25        640: 1\n",
      "                 Class     Images  Instances      Box(P          R      mAP50  m\n"
     ]
    },
    {
     "name": "stdout",
     "output_type": "stream",
     "text": [
      "                   all       3292      17116       0.29      0.233      0.186     0.0944\n",
      "\n",
      "      Epoch    GPU_mem   box_loss   cls_loss   dfl_loss  Instances       Size\n"
     ]
    },
    {
     "name": "stderr",
     "output_type": "stream",
     "text": [
      "     39/150      3.98G      2.026      2.268      1.733         38        640: 1\n",
      "                 Class     Images  Instances      Box(P          R      mAP50  m\n"
     ]
    },
    {
     "name": "stdout",
     "output_type": "stream",
     "text": [
      "                   all       3292      17116      0.295      0.231      0.184     0.0909\n",
      "\n",
      "      Epoch    GPU_mem   box_loss   cls_loss   dfl_loss  Instances       Size\n"
     ]
    },
    {
     "name": "stderr",
     "output_type": "stream",
     "text": [
      "     40/150      4.04G       2.02      2.269      1.726         37        640: 1\n",
      "                 Class     Images  Instances      Box(P          R      mAP50  m\n"
     ]
    },
    {
     "name": "stdout",
     "output_type": "stream",
     "text": [
      "                   all       3292      17116      0.319       0.25      0.202      0.103\n",
      "\n",
      "      Epoch    GPU_mem   box_loss   cls_loss   dfl_loss  Instances       Size\n"
     ]
    },
    {
     "name": "stderr",
     "output_type": "stream",
     "text": [
      "     41/150      3.95G      2.004      2.266      1.724         36        640: 1\n",
      "                 Class     Images  Instances      Box(P          R      mAP50  m\n"
     ]
    },
    {
     "name": "stdout",
     "output_type": "stream",
     "text": [
      "                   all       3292      17116       0.31      0.237        0.2      0.102\n",
      "\n",
      "      Epoch    GPU_mem   box_loss   cls_loss   dfl_loss  Instances       Size\n"
     ]
    },
    {
     "name": "stderr",
     "output_type": "stream",
     "text": [
      "     42/150      3.92G      2.001      2.257      1.717         56        640: 1\n",
      "                 Class     Images  Instances      Box(P          R      mAP50  m\n"
     ]
    },
    {
     "name": "stdout",
     "output_type": "stream",
     "text": [
      "                   all       3292      17116      0.292       0.24       0.19     0.0932\n",
      "\n",
      "      Epoch    GPU_mem   box_loss   cls_loss   dfl_loss  Instances       Size\n"
     ]
    },
    {
     "name": "stderr",
     "output_type": "stream",
     "text": [
      "     43/150      4.05G       1.98      2.233       1.71         41        640: 1\n",
      "                 Class     Images  Instances      Box(P          R      mAP50  m\n"
     ]
    },
    {
     "name": "stdout",
     "output_type": "stream",
     "text": [
      "                   all       3292      17116      0.319       0.25      0.202     0.0972\n",
      "\n",
      "      Epoch    GPU_mem   box_loss   cls_loss   dfl_loss  Instances       Size\n"
     ]
    },
    {
     "name": "stderr",
     "output_type": "stream",
     "text": [
      "     44/150      4.07G      1.971      2.229      1.691         29        640: 1\n",
      "                 Class     Images  Instances      Box(P          R      mAP50  m\n"
     ]
    },
    {
     "name": "stdout",
     "output_type": "stream",
     "text": [
      "                   all       3292      17116      0.317      0.248      0.207      0.106\n",
      "\n",
      "      Epoch    GPU_mem   box_loss   cls_loss   dfl_loss  Instances       Size\n"
     ]
    },
    {
     "name": "stderr",
     "output_type": "stream",
     "text": [
      "     45/150      3.93G      1.958      2.213      1.689         35        640: 1\n",
      "                 Class     Images  Instances      Box(P          R      mAP50  m\n"
     ]
    },
    {
     "name": "stdout",
     "output_type": "stream",
     "text": [
      "                   all       3292      17116      0.325      0.257      0.209      0.108\n",
      "\n",
      "      Epoch    GPU_mem   box_loss   cls_loss   dfl_loss  Instances       Size\n"
     ]
    },
    {
     "name": "stderr",
     "output_type": "stream",
     "text": [
      "     46/150       3.9G      1.969      2.214      1.692         17        640: 1\n",
      "                 Class     Images  Instances      Box(P          R      mAP50  m\n"
     ]
    },
    {
     "name": "stdout",
     "output_type": "stream",
     "text": [
      "                   all       3292      17116      0.321      0.267      0.215      0.112\n",
      "\n",
      "      Epoch    GPU_mem   box_loss   cls_loss   dfl_loss  Instances       Size\n"
     ]
    },
    {
     "name": "stderr",
     "output_type": "stream",
     "text": [
      "     47/150      3.85G       1.95        2.2      1.681         74        640: 1\n",
      "                 Class     Images  Instances      Box(P          R      mAP50  m\n"
     ]
    },
    {
     "name": "stdout",
     "output_type": "stream",
     "text": [
      "                   all       3292      17116      0.332      0.266      0.222      0.115\n",
      "\n",
      "      Epoch    GPU_mem   box_loss   cls_loss   dfl_loss  Instances       Size\n"
     ]
    },
    {
     "name": "stderr",
     "output_type": "stream",
     "text": [
      "     48/150      3.86G      1.936      2.198      1.678         50        640: 1\n",
      "                 Class     Images  Instances      Box(P          R      mAP50  m\n"
     ]
    },
    {
     "name": "stdout",
     "output_type": "stream",
     "text": [
      "                   all       3292      17116      0.332      0.264      0.218      0.115\n",
      "\n",
      "      Epoch    GPU_mem   box_loss   cls_loss   dfl_loss  Instances       Size\n"
     ]
    },
    {
     "name": "stderr",
     "output_type": "stream",
     "text": [
      "     49/150      4.13G      1.943      2.197      1.681         48        640: 1\n",
      "                 Class     Images  Instances      Box(P          R      mAP50  m\n"
     ]
    },
    {
     "name": "stdout",
     "output_type": "stream",
     "text": [
      "                   all       3292      17116      0.348      0.271      0.227       0.12\n",
      "\n",
      "      Epoch    GPU_mem   box_loss   cls_loss   dfl_loss  Instances       Size\n"
     ]
    },
    {
     "name": "stderr",
     "output_type": "stream",
     "text": [
      "     50/150      3.86G      1.924       2.18      1.667         62        640: 1\n",
      "                 Class     Images  Instances      Box(P          R      mAP50  m\n"
     ]
    },
    {
     "name": "stdout",
     "output_type": "stream",
     "text": [
      "                   all       3292      17116      0.335      0.275      0.222      0.118\n",
      "\n",
      "      Epoch    GPU_mem   box_loss   cls_loss   dfl_loss  Instances       Size\n"
     ]
    },
    {
     "name": "stderr",
     "output_type": "stream",
     "text": [
      "     51/150      4.01G      1.909      2.158       1.65         29        640: 1\n",
      "                 Class     Images  Instances      Box(P          R      mAP50  m\n"
     ]
    },
    {
     "name": "stdout",
     "output_type": "stream",
     "text": [
      "                   all       3292      17116       0.34      0.279      0.231      0.119\n",
      "\n",
      "      Epoch    GPU_mem   box_loss   cls_loss   dfl_loss  Instances       Size\n"
     ]
    },
    {
     "name": "stderr",
     "output_type": "stream",
     "text": [
      "     52/150      3.85G      1.907      2.166      1.662         89        640: 1\n",
      "                 Class     Images  Instances      Box(P          R      mAP50  m\n"
     ]
    },
    {
     "name": "stdout",
     "output_type": "stream",
     "text": [
      "                   all       3292      17116      0.347       0.28      0.233      0.122\n",
      "\n",
      "      Epoch    GPU_mem   box_loss   cls_loss   dfl_loss  Instances       Size\n"
     ]
    },
    {
     "name": "stderr",
     "output_type": "stream",
     "text": [
      "     53/150      3.85G      1.906      2.161      1.647         23        640: 1\n",
      "                 Class     Images  Instances      Box(P          R      mAP50  m\n"
     ]
    },
    {
     "name": "stdout",
     "output_type": "stream",
     "text": [
      "                   all       3292      17116      0.349      0.276      0.232      0.125\n",
      "\n",
      "      Epoch    GPU_mem   box_loss   cls_loss   dfl_loss  Instances       Size\n"
     ]
    },
    {
     "name": "stderr",
     "output_type": "stream",
     "text": [
      "     54/150      4.07G      1.891      2.145      1.648         19        640: 1\n",
      "                 Class     Images  Instances      Box(P          R      mAP50  m\n"
     ]
    },
    {
     "name": "stdout",
     "output_type": "stream",
     "text": [
      "                   all       3292      17116      0.365      0.287      0.249      0.136\n",
      "\n",
      "      Epoch    GPU_mem   box_loss   cls_loss   dfl_loss  Instances       Size\n"
     ]
    },
    {
     "name": "stderr",
     "output_type": "stream",
     "text": [
      "     55/150      4.09G       1.88       2.14      1.637         69        640: 1\n",
      "                 Class     Images  Instances      Box(P          R      mAP50  m\n"
     ]
    },
    {
     "name": "stdout",
     "output_type": "stream",
     "text": [
      "                   all       3292      17116      0.351       0.28       0.24      0.128\n",
      "\n",
      "      Epoch    GPU_mem   box_loss   cls_loss   dfl_loss  Instances       Size\n"
     ]
    },
    {
     "name": "stderr",
     "output_type": "stream",
     "text": [
      "     56/150      3.84G      1.884       2.13      1.632         55        640: 1\n",
      "                 Class     Images  Instances      Box(P          R      mAP50  m\n"
     ]
    },
    {
     "name": "stdout",
     "output_type": "stream",
     "text": [
      "                   all       3292      17116      0.371      0.293      0.254      0.139\n",
      "\n",
      "      Epoch    GPU_mem   box_loss   cls_loss   dfl_loss  Instances       Size\n"
     ]
    },
    {
     "name": "stderr",
     "output_type": "stream",
     "text": [
      "     57/150      3.97G       1.87      2.131      1.631         40        640: 1\n",
      "                 Class     Images  Instances      Box(P          R      mAP50  m\n"
     ]
    },
    {
     "name": "stdout",
     "output_type": "stream",
     "text": [
      "                   all       3292      17116      0.372      0.286      0.252       0.14\n",
      "\n",
      "      Epoch    GPU_mem   box_loss   cls_loss   dfl_loss  Instances       Size\n"
     ]
    },
    {
     "name": "stderr",
     "output_type": "stream",
     "text": [
      "     58/150      4.06G      1.864      2.128      1.631         32        640: 1\n",
      "                 Class     Images  Instances      Box(P          R      mAP50  m\n"
     ]
    },
    {
     "name": "stdout",
     "output_type": "stream",
     "text": [
      "                   all       3292      17116      0.362      0.288      0.244      0.132\n",
      "\n",
      "      Epoch    GPU_mem   box_loss   cls_loss   dfl_loss  Instances       Size\n"
     ]
    },
    {
     "name": "stderr",
     "output_type": "stream",
     "text": [
      "     59/150      4.08G      1.847      2.104       1.62         51        640: 1\n",
      "                 Class     Images  Instances      Box(P          R      mAP50  m\n"
     ]
    },
    {
     "name": "stdout",
     "output_type": "stream",
     "text": [
      "                   all       3292      17116      0.364      0.302      0.257      0.147\n",
      "\n",
      "      Epoch    GPU_mem   box_loss   cls_loss   dfl_loss  Instances       Size\n"
     ]
    },
    {
     "name": "stderr",
     "output_type": "stream",
     "text": [
      "     60/150      4.07G      1.847      2.104      1.617         66        640: 1\n",
      "                 Class     Images  Instances      Box(P          R      mAP50  m\n"
     ]
    },
    {
     "name": "stdout",
     "output_type": "stream",
     "text": [
      "                   all       3292      17116      0.374      0.303      0.255      0.144\n",
      "\n",
      "      Epoch    GPU_mem   box_loss   cls_loss   dfl_loss  Instances       Size\n"
     ]
    },
    {
     "name": "stderr",
     "output_type": "stream",
     "text": [
      "     61/150      3.99G      1.845      2.094      1.606         45        640: 1\n",
      "                 Class     Images  Instances      Box(P          R      mAP50  m\n"
     ]
    },
    {
     "name": "stdout",
     "output_type": "stream",
     "text": [
      "                   all       3292      17116      0.388      0.305      0.261      0.142\n",
      "\n",
      "      Epoch    GPU_mem   box_loss   cls_loss   dfl_loss  Instances       Size\n"
     ]
    },
    {
     "name": "stderr",
     "output_type": "stream",
     "text": [
      "     62/150      3.91G      1.829      2.093      1.601         53        640: 1\n",
      "                 Class     Images  Instances      Box(P          R      mAP50  m\n"
     ]
    },
    {
     "name": "stdout",
     "output_type": "stream",
     "text": [
      "                   all       3292      17116      0.385      0.318      0.269      0.152\n",
      "\n",
      "      Epoch    GPU_mem   box_loss   cls_loss   dfl_loss  Instances       Size\n"
     ]
    },
    {
     "name": "stderr",
     "output_type": "stream",
     "text": [
      "     63/150      3.91G      1.832      2.099      1.603         48        640: 1\n",
      "                 Class     Images  Instances      Box(P          R      mAP50  m\n"
     ]
    },
    {
     "name": "stdout",
     "output_type": "stream",
     "text": [
      "                   all       3292      17116      0.365      0.306      0.258      0.143\n",
      "\n",
      "      Epoch    GPU_mem   box_loss   cls_loss   dfl_loss  Instances       Size\n"
     ]
    },
    {
     "name": "stderr",
     "output_type": "stream",
     "text": [
      "     64/150      3.93G      1.816       2.08      1.595         43        640: 1\n",
      "                 Class     Images  Instances      Box(P          R      mAP50  m\n"
     ]
    },
    {
     "name": "stdout",
     "output_type": "stream",
     "text": [
      "                   all       3292      17116      0.381      0.319      0.273      0.154\n",
      "\n",
      "      Epoch    GPU_mem   box_loss   cls_loss   dfl_loss  Instances       Size\n"
     ]
    },
    {
     "name": "stderr",
     "output_type": "stream",
     "text": [
      "     65/150      3.86G      1.823       2.08      1.597         96        640: 1\n",
      "                 Class     Images  Instances      Box(P          R      mAP50  m\n"
     ]
    },
    {
     "name": "stdout",
     "output_type": "stream",
     "text": [
      "                   all       3292      17116      0.377      0.316      0.275      0.155\n",
      "\n",
      "      Epoch    GPU_mem   box_loss   cls_loss   dfl_loss  Instances       Size\n"
     ]
    },
    {
     "name": "stderr",
     "output_type": "stream",
     "text": [
      "     66/150      3.87G      1.807      2.069      1.586         92        640: 1\n",
      "                 Class     Images  Instances      Box(P          R      mAP50  m\n"
     ]
    },
    {
     "name": "stdout",
     "output_type": "stream",
     "text": [
      "                   all       3292      17116      0.382      0.323      0.278      0.157\n",
      "\n",
      "      Epoch    GPU_mem   box_loss   cls_loss   dfl_loss  Instances       Size\n"
     ]
    },
    {
     "name": "stderr",
     "output_type": "stream",
     "text": [
      "     67/150      3.85G      1.806      2.067      1.589         45        640: 1\n",
      "                 Class     Images  Instances      Box(P          R      mAP50  m\n"
     ]
    },
    {
     "name": "stdout",
     "output_type": "stream",
     "text": [
      "                   all       3292      17116      0.369      0.317      0.268      0.147\n",
      "\n",
      "      Epoch    GPU_mem   box_loss   cls_loss   dfl_loss  Instances       Size\n"
     ]
    },
    {
     "name": "stderr",
     "output_type": "stream",
     "text": [
      "     68/150      3.85G      1.794      2.062      1.581         30        640: 1\n",
      "                 Class     Images  Instances      Box(P          R      mAP50  m\n"
     ]
    },
    {
     "name": "stdout",
     "output_type": "stream",
     "text": [
      "                   all       3292      17116      0.383      0.325      0.279      0.164\n",
      "\n",
      "      Epoch    GPU_mem   box_loss   cls_loss   dfl_loss  Instances       Size\n"
     ]
    },
    {
     "name": "stderr",
     "output_type": "stream",
     "text": [
      "     69/150         4G      1.791      2.053      1.576         51        640: 1\n",
      "                 Class     Images  Instances      Box(P          R      mAP50  m\n"
     ]
    },
    {
     "name": "stdout",
     "output_type": "stream",
     "text": [
      "                   all       3292      17116      0.376      0.334       0.28      0.162\n",
      "\n",
      "      Epoch    GPU_mem   box_loss   cls_loss   dfl_loss  Instances       Size\n"
     ]
    },
    {
     "name": "stderr",
     "output_type": "stream",
     "text": [
      "     70/150      3.91G      1.784      2.044      1.575         49        640: 1\n",
      "                 Class     Images  Instances      Box(P          R      mAP50  m\n"
     ]
    },
    {
     "name": "stdout",
     "output_type": "stream",
     "text": [
      "                   all       3292      17116      0.388      0.347      0.284      0.168\n",
      "\n",
      "      Epoch    GPU_mem   box_loss   cls_loss   dfl_loss  Instances       Size\n"
     ]
    },
    {
     "name": "stderr",
     "output_type": "stream",
     "text": [
      "     71/150      3.83G      1.783      2.041      1.569         60        640: 1\n",
      "                 Class     Images  Instances      Box(P          R      mAP50  m\n"
     ]
    },
    {
     "name": "stdout",
     "output_type": "stream",
     "text": [
      "                   all       3292      17116      0.387      0.343      0.282      0.163\n",
      "\n",
      "      Epoch    GPU_mem   box_loss   cls_loss   dfl_loss  Instances       Size\n"
     ]
    },
    {
     "name": "stderr",
     "output_type": "stream",
     "text": [
      "     72/150      4.06G      1.777      2.031      1.569         32        640: 1\n",
      "                 Class     Images  Instances      Box(P          R      mAP50  m\n"
     ]
    },
    {
     "name": "stdout",
     "output_type": "stream",
     "text": [
      "                   all       3292      17116      0.389       0.34      0.282      0.165\n",
      "\n",
      "      Epoch    GPU_mem   box_loss   cls_loss   dfl_loss  Instances       Size\n"
     ]
    },
    {
     "name": "stderr",
     "output_type": "stream",
     "text": [
      "     73/150      4.03G       1.76      2.011      1.553         19        640: 1\n",
      "                 Class     Images  Instances      Box(P          R      mAP50  m\n"
     ]
    },
    {
     "name": "stdout",
     "output_type": "stream",
     "text": [
      "                   all       3292      17116      0.387      0.343      0.283      0.163\n",
      "\n",
      "      Epoch    GPU_mem   box_loss   cls_loss   dfl_loss  Instances       Size\n"
     ]
    },
    {
     "name": "stderr",
     "output_type": "stream",
     "text": [
      "     74/150       3.9G      1.765      2.031      1.565         31        640: 1\n",
      "                 Class     Images  Instances      Box(P          R      mAP50  m\n"
     ]
    },
    {
     "name": "stdout",
     "output_type": "stream",
     "text": [
      "                   all       3292      17116      0.396      0.354      0.291      0.174\n",
      "\n",
      "      Epoch    GPU_mem   box_loss   cls_loss   dfl_loss  Instances       Size\n"
     ]
    },
    {
     "name": "stderr",
     "output_type": "stream",
     "text": [
      "     75/150      3.85G      1.763      2.027      1.559         20        640: 1\n",
      "                 Class     Images  Instances      Box(P          R      mAP50  m\n"
     ]
    },
    {
     "name": "stdout",
     "output_type": "stream",
     "text": [
      "                   all       3292      17116      0.391      0.351       0.29      0.172\n",
      "\n",
      "      Epoch    GPU_mem   box_loss   cls_loss   dfl_loss  Instances       Size\n"
     ]
    },
    {
     "name": "stderr",
     "output_type": "stream",
     "text": [
      "     76/150      3.92G      1.746      2.009       1.55         59        640: 1\n",
      "                 Class     Images  Instances      Box(P          R      mAP50  m\n"
     ]
    },
    {
     "name": "stdout",
     "output_type": "stream",
     "text": [
      "                   all       3292      17116      0.396       0.36      0.295      0.179\n",
      "\n",
      "      Epoch    GPU_mem   box_loss   cls_loss   dfl_loss  Instances       Size\n"
     ]
    },
    {
     "name": "stderr",
     "output_type": "stream",
     "text": [
      "     77/150         4G      1.748      2.002      1.553         32        640: 1\n",
      "                 Class     Images  Instances      Box(P          R      mAP50  m\n"
     ]
    },
    {
     "name": "stdout",
     "output_type": "stream",
     "text": [
      "                   all       3292      17116      0.389      0.349      0.289      0.171\n",
      "\n",
      "      Epoch    GPU_mem   box_loss   cls_loss   dfl_loss  Instances       Size\n"
     ]
    },
    {
     "name": "stderr",
     "output_type": "stream",
     "text": [
      "     78/150      3.97G      1.746      2.005      1.551         77        640: 1\n",
      "                 Class     Images  Instances      Box(P          R      mAP50  m\n"
     ]
    },
    {
     "name": "stdout",
     "output_type": "stream",
     "text": [
      "                   all       3292      17116      0.389      0.348      0.289      0.172\n",
      "\n",
      "      Epoch    GPU_mem   box_loss   cls_loss   dfl_loss  Instances       Size\n"
     ]
    },
    {
     "name": "stderr",
     "output_type": "stream",
     "text": [
      "     79/150      3.84G      1.736      2.007      1.546         57        640: 1\n",
      "                 Class     Images  Instances      Box(P          R      mAP50  m\n"
     ]
    },
    {
     "name": "stdout",
     "output_type": "stream",
     "text": [
      "                   all       3292      17116      0.388      0.347      0.284      0.163\n",
      "\n",
      "      Epoch    GPU_mem   box_loss   cls_loss   dfl_loss  Instances       Size\n"
     ]
    },
    {
     "name": "stderr",
     "output_type": "stream",
     "text": [
      "     80/150      3.95G      1.737      2.006      1.546         26        640: 1\n",
      "                 Class     Images  Instances      Box(P          R      mAP50  m\n"
     ]
    },
    {
     "name": "stdout",
     "output_type": "stream",
     "text": [
      "                   all       3292      17116       0.39      0.349      0.293      0.172\n",
      "\n",
      "      Epoch    GPU_mem   box_loss   cls_loss   dfl_loss  Instances       Size\n"
     ]
    },
    {
     "name": "stderr",
     "output_type": "stream",
     "text": [
      "     81/150      3.93G       1.73      2.001      1.542         21        640: 1\n",
      "                 Class     Images  Instances      Box(P          R      mAP50  m\n"
     ]
    },
    {
     "name": "stdout",
     "output_type": "stream",
     "text": [
      "                   all       3292      17116      0.394      0.355      0.293      0.173\n",
      "\n",
      "      Epoch    GPU_mem   box_loss   cls_loss   dfl_loss  Instances       Size\n"
     ]
    },
    {
     "name": "stderr",
     "output_type": "stream",
     "text": [
      "     82/150      3.87G      1.734      2.006      1.549        108        640: 1\n",
      "                 Class     Images  Instances      Box(P          R      mAP50  m\n"
     ]
    },
    {
     "name": "stdout",
     "output_type": "stream",
     "text": [
      "                   all       3292      17116      0.398      0.358      0.297      0.177\n",
      "\n",
      "      Epoch    GPU_mem   box_loss   cls_loss   dfl_loss  Instances       Size\n"
     ]
    },
    {
     "name": "stderr",
     "output_type": "stream",
     "text": [
      "     83/150      4.01G      1.722      1.981      1.537         28        640: 1\n",
      "                 Class     Images  Instances      Box(P          R      mAP50  m\n"
     ]
    },
    {
     "name": "stdout",
     "output_type": "stream",
     "text": [
      "                   all       3292      17116      0.401      0.361      0.299      0.179\n",
      "\n",
      "      Epoch    GPU_mem   box_loss   cls_loss   dfl_loss  Instances       Size\n"
     ]
    },
    {
     "name": "stderr",
     "output_type": "stream",
     "text": [
      "     84/150      4.12G       1.71      1.982      1.535         45        640: 1\n",
      "                 Class     Images  Instances      Box(P          R      mAP50  m\n"
     ]
    },
    {
     "name": "stdout",
     "output_type": "stream",
     "text": [
      "                   all       3292      17116      0.397      0.362      0.298      0.174\n",
      "\n",
      "      Epoch    GPU_mem   box_loss   cls_loss   dfl_loss  Instances       Size\n"
     ]
    },
    {
     "name": "stderr",
     "output_type": "stream",
     "text": [
      "     85/150      3.92G      1.718      1.984      1.534         48        640: 1\n",
      "                 Class     Images  Instances      Box(P          R      mAP50  m\n"
     ]
    },
    {
     "name": "stdout",
     "output_type": "stream",
     "text": [
      "                   all       3292      17116      0.395      0.363      0.295      0.169\n",
      "\n",
      "      Epoch    GPU_mem   box_loss   cls_loss   dfl_loss  Instances       Size\n"
     ]
    },
    {
     "name": "stderr",
     "output_type": "stream",
     "text": [
      "     86/150         4G      1.706      1.964      1.524         47        640: 1\n",
      "                 Class     Images  Instances      Box(P          R      mAP50  m\n"
     ]
    },
    {
     "name": "stdout",
     "output_type": "stream",
     "text": [
      "                   all       3292      17116        0.4      0.369      0.301      0.177\n",
      "\n",
      "      Epoch    GPU_mem   box_loss   cls_loss   dfl_loss  Instances       Size\n"
     ]
    },
    {
     "name": "stderr",
     "output_type": "stream",
     "text": [
      "     87/150      3.85G       1.69      1.952       1.51         19        640: 1\n",
      "                 Class     Images  Instances      Box(P          R      mAP50  m\n"
     ]
    },
    {
     "name": "stdout",
     "output_type": "stream",
     "text": [
      "                   all       3292      17116      0.404      0.371      0.303      0.176\n",
      "\n",
      "      Epoch    GPU_mem   box_loss   cls_loss   dfl_loss  Instances       Size\n"
     ]
    },
    {
     "name": "stderr",
     "output_type": "stream",
     "text": [
      "     88/150      4.08G      1.683      1.956      1.515         57        640: 1\n",
      "                 Class     Images  Instances      Box(P          R      mAP50  m\n"
     ]
    },
    {
     "name": "stdout",
     "output_type": "stream",
     "text": [
      "                   all       3292      17116      0.407      0.372      0.306      0.179\n",
      "\n",
      "      Epoch    GPU_mem   box_loss   cls_loss   dfl_loss  Instances       Size\n"
     ]
    },
    {
     "name": "stderr",
     "output_type": "stream",
     "text": [
      "     89/150         4G      1.696      1.964      1.519         62        640: 1\n",
      "                 Class     Images  Instances      Box(P          R      mAP50  m\n"
     ]
    },
    {
     "name": "stdout",
     "output_type": "stream",
     "text": [
      "                   all       3292      17116      0.409      0.374      0.306      0.179\n",
      "\n",
      "      Epoch    GPU_mem   box_loss   cls_loss   dfl_loss  Instances       Size\n"
     ]
    },
    {
     "name": "stderr",
     "output_type": "stream",
     "text": [
      "     90/150      3.94G      1.675      1.954      1.509         29        640: 1\n",
      "                 Class     Images  Instances      Box(P          R      mAP50  m\n"
     ]
    },
    {
     "name": "stdout",
     "output_type": "stream",
     "text": [
      "                   all       3292      17116      0.406      0.379       0.31      0.182\n",
      "\n",
      "      Epoch    GPU_mem   box_loss   cls_loss   dfl_loss  Instances       Size\n"
     ]
    },
    {
     "name": "stderr",
     "output_type": "stream",
     "text": [
      "     91/150      3.86G       1.68      1.954      1.509         31        640: 1\n",
      "                 Class     Images  Instances      Box(P          R      mAP50  m\n"
     ]
    },
    {
     "name": "stdout",
     "output_type": "stream",
     "text": [
      "                   all       3292      17116      0.409       0.38      0.312      0.184\n",
      "\n",
      "      Epoch    GPU_mem   box_loss   cls_loss   dfl_loss  Instances       Size\n"
     ]
    },
    {
     "name": "stderr",
     "output_type": "stream",
     "text": [
      "     92/150      3.94G      1.672      1.947      1.508         23        640: 1\n",
      "                 Class     Images  Instances      Box(P          R      mAP50  m\n"
     ]
    },
    {
     "name": "stdout",
     "output_type": "stream",
     "text": [
      "                   all       3292      17116      0.413      0.381      0.313      0.186\n",
      "\n",
      "      Epoch    GPU_mem   box_loss   cls_loss   dfl_loss  Instances       Size\n"
     ]
    },
    {
     "name": "stderr",
     "output_type": "stream",
     "text": [
      "     93/150      3.93G      1.662      1.942      1.501         50        640: 1\n",
      "                 Class     Images  Instances      Box(P          R      mAP50  m\n"
     ]
    },
    {
     "name": "stdout",
     "output_type": "stream",
     "text": [
      "                   all       3292      17116      0.411      0.386      0.313      0.185\n",
      "\n",
      "      Epoch    GPU_mem   box_loss   cls_loss   dfl_loss  Instances       Size\n"
     ]
    },
    {
     "name": "stderr",
     "output_type": "stream",
     "text": [
      "     94/150      4.02G      1.662      1.939      1.497         37        640: 1\n",
      "                 Class     Images  Instances      Box(P          R      mAP50  m\n"
     ]
    },
    {
     "name": "stdout",
     "output_type": "stream",
     "text": [
      "                   all       3292      17116      0.412      0.389      0.316      0.189\n",
      "\n",
      "      Epoch    GPU_mem   box_loss   cls_loss   dfl_loss  Instances       Size\n"
     ]
    },
    {
     "name": "stderr",
     "output_type": "stream",
     "text": [
      "     95/150      4.14G      1.666      1.933      1.496         22        640: 1\n",
      "                 Class     Images  Instances      Box(P          R      mAP50  m\n"
     ]
    },
    {
     "name": "stdout",
     "output_type": "stream",
     "text": [
      "                   all       3292      17116      0.413      0.388      0.317       0.19\n",
      "\n",
      "      Epoch    GPU_mem   box_loss   cls_loss   dfl_loss  Instances       Size\n"
     ]
    },
    {
     "name": "stderr",
     "output_type": "stream",
     "text": [
      "     96/150      3.89G      1.658      1.929      1.493         28        640: 1\n",
      "                 Class     Images  Instances      Box(P          R      mAP50  m\n"
     ]
    },
    {
     "name": "stdout",
     "output_type": "stream",
     "text": [
      "                   all       3292      17116      0.418      0.393      0.319      0.191\n",
      "\n",
      "      Epoch    GPU_mem   box_loss   cls_loss   dfl_loss  Instances       Size\n"
     ]
    },
    {
     "name": "stderr",
     "output_type": "stream",
     "text": [
      "     97/150      3.93G      1.655      1.935      1.496         75        640: 1\n",
      "                 Class     Images  Instances      Box(P          R      mAP50  m\n"
     ]
    },
    {
     "name": "stdout",
     "output_type": "stream",
     "text": [
      "                   all       3292      17116       0.42      0.398      0.322      0.195\n",
      "\n",
      "      Epoch    GPU_mem   box_loss   cls_loss   dfl_loss  Instances       Size\n"
     ]
    },
    {
     "name": "stderr",
     "output_type": "stream",
     "text": [
      "     98/150      4.01G      1.651      1.924       1.49        105        640: 1\n",
      "                 Class     Images  Instances      Box(P          R      mAP50  m\n"
     ]
    },
    {
     "name": "stdout",
     "output_type": "stream",
     "text": [
      "                   all       3292      17116      0.422        0.4      0.326        0.2\n",
      "\n",
      "      Epoch    GPU_mem   box_loss   cls_loss   dfl_loss  Instances       Size\n"
     ]
    },
    {
     "name": "stderr",
     "output_type": "stream",
     "text": [
      "     99/150      3.96G      1.641      1.911      1.484         38        640: 1\n",
      "                 Class     Images  Instances      Box(P          R      mAP50  m\n"
     ]
    },
    {
     "name": "stdout",
     "output_type": "stream",
     "text": [
      "                   all       3292      17116      0.422      0.396      0.326      0.199\n",
      "\n",
      "      Epoch    GPU_mem   box_loss   cls_loss   dfl_loss  Instances       Size\n"
     ]
    },
    {
     "name": "stderr",
     "output_type": "stream",
     "text": [
      "    100/150      3.98G      1.632      1.909      1.477         26        640: 1\n",
      "                 Class     Images  Instances      Box(P          R      mAP50  m\n"
     ]
    },
    {
     "name": "stdout",
     "output_type": "stream",
     "text": [
      "                   all       3292      17116      0.421      0.398      0.328      0.201\n",
      "\n",
      "      Epoch    GPU_mem   box_loss   cls_loss   dfl_loss  Instances       Size\n"
     ]
    },
    {
     "name": "stderr",
     "output_type": "stream",
     "text": [
      "    101/150      3.84G      1.632      1.905       1.48         36        640: 1\n",
      "                 Class     Images  Instances      Box(P          R      mAP50  m\n"
     ]
    },
    {
     "name": "stdout",
     "output_type": "stream",
     "text": [
      "                   all       3292      17116      0.423      0.402       0.33      0.202\n",
      "\n",
      "      Epoch    GPU_mem   box_loss   cls_loss   dfl_loss  Instances       Size\n"
     ]
    },
    {
     "name": "stderr",
     "output_type": "stream",
     "text": [
      "    102/150      3.91G      1.638      1.913      1.486         16        640: 1\n",
      "                 Class     Images  Instances      Box(P          R      mAP50  m\n"
     ]
    },
    {
     "name": "stdout",
     "output_type": "stream",
     "text": [
      "                   all       3292      17116      0.423        0.4      0.329      0.201\n",
      "\n",
      "      Epoch    GPU_mem   box_loss   cls_loss   dfl_loss  Instances       Size\n"
     ]
    },
    {
     "name": "stderr",
     "output_type": "stream",
     "text": [
      "    103/150      3.84G      1.627      1.909      1.483         51        640: 1\n",
      "                 Class     Images  Instances      Box(P          R      mAP50  m\n"
     ]
    },
    {
     "name": "stdout",
     "output_type": "stream",
     "text": [
      "                   all       3292      17116      0.424      0.401      0.329        0.2\n",
      "\n",
      "      Epoch    GPU_mem   box_loss   cls_loss   dfl_loss  Instances       Size\n"
     ]
    },
    {
     "name": "stderr",
     "output_type": "stream",
     "text": [
      "    104/150         4G      1.627       1.91       1.48         82        640: 1\n",
      "                 Class     Images  Instances      Box(P          R      mAP50  m\n"
     ]
    },
    {
     "name": "stdout",
     "output_type": "stream",
     "text": [
      "                   all       3292      17116      0.426      0.403      0.331      0.202\n",
      "\n",
      "      Epoch    GPU_mem   box_loss   cls_loss   dfl_loss  Instances       Size\n"
     ]
    },
    {
     "name": "stderr",
     "output_type": "stream",
     "text": [
      "    105/150       3.9G      1.622      1.892      1.468         86        640: 1\n",
      "                 Class     Images  Instances      Box(P          R      mAP50  m\n"
     ]
    },
    {
     "name": "stdout",
     "output_type": "stream",
     "text": [
      "                   all       3292      17116      0.431      0.406      0.333      0.204\n",
      "\n",
      "      Epoch    GPU_mem   box_loss   cls_loss   dfl_loss  Instances       Size\n"
     ]
    },
    {
     "name": "stderr",
     "output_type": "stream",
     "text": [
      "    106/150      3.93G      1.608      1.888      1.466         46        640: 1\n",
      "                 Class     Images  Instances      Box(P          R      mAP50  m\n"
     ]
    },
    {
     "name": "stdout",
     "output_type": "stream",
     "text": [
      "                   all       3292      17116      0.431      0.406      0.332      0.202\n",
      "\n",
      "      Epoch    GPU_mem   box_loss   cls_loss   dfl_loss  Instances       Size\n"
     ]
    },
    {
     "name": "stderr",
     "output_type": "stream",
     "text": [
      "    107/150      3.84G      1.614      1.894      1.469         70        640: 1\n",
      "                 Class     Images  Instances      Box(P          R      mAP50  m\n"
     ]
    },
    {
     "name": "stdout",
     "output_type": "stream",
     "text": [
      "                   all       3292      17116      0.431      0.408      0.332      0.203\n",
      "\n",
      "      Epoch    GPU_mem   box_loss   cls_loss   dfl_loss  Instances       Size\n"
     ]
    },
    {
     "name": "stderr",
     "output_type": "stream",
     "text": [
      "    108/150      4.08G      1.602      1.886      1.464         48        640: 1\n",
      "                 Class     Images  Instances      Box(P          R      mAP50  m\n"
     ]
    },
    {
     "name": "stdout",
     "output_type": "stream",
     "text": [
      "                   all       3292      17116      0.432      0.407      0.332      0.203\n",
      "\n",
      "      Epoch    GPU_mem   box_loss   cls_loss   dfl_loss  Instances       Size\n"
     ]
    },
    {
     "name": "stderr",
     "output_type": "stream",
     "text": [
      "    109/150      4.07G      1.609      1.889      1.464         37        640: 1\n",
      "                 Class     Images  Instances      Box(P          R      mAP50  m\n"
     ]
    },
    {
     "name": "stdout",
     "output_type": "stream",
     "text": [
      "                   all       3292      17116      0.431      0.408      0.332      0.203\n",
      "\n",
      "      Epoch    GPU_mem   box_loss   cls_loss   dfl_loss  Instances       Size\n"
     ]
    },
    {
     "name": "stderr",
     "output_type": "stream",
     "text": [
      "    110/150      3.85G        1.6      1.882       1.46         57        640: 1\n",
      "                 Class     Images  Instances      Box(P          R      mAP50  m\n"
     ]
    },
    {
     "name": "stdout",
     "output_type": "stream",
     "text": [
      "                   all       3292      17116      0.432      0.409      0.334      0.205\n",
      "\n",
      "      Epoch    GPU_mem   box_loss   cls_loss   dfl_loss  Instances       Size\n"
     ]
    },
    {
     "name": "stderr",
     "output_type": "stream",
     "text": [
      "    111/150      3.94G      1.579      1.865      1.449         16        640: 1\n",
      "                 Class     Images  Instances      Box(P          R      mAP50  m\n"
     ]
    },
    {
     "name": "stdout",
     "output_type": "stream",
     "text": [
      "                   all       3292      17116      0.431      0.414      0.336      0.207\n",
      "\n",
      "      Epoch    GPU_mem   box_loss   cls_loss   dfl_loss  Instances       Size\n"
     ]
    },
    {
     "name": "stderr",
     "output_type": "stream",
     "text": [
      "    112/150      4.15G      1.586      1.866      1.453         54        640: 1\n",
      "                 Class     Images  Instances      Box(P          R      mAP50  m\n"
     ]
    },
    {
     "name": "stdout",
     "output_type": "stream",
     "text": [
      "                   all       3292      17116      0.431      0.414      0.337      0.208\n",
      "\n",
      "      Epoch    GPU_mem   box_loss   cls_loss   dfl_loss  Instances       Size\n"
     ]
    },
    {
     "name": "stderr",
     "output_type": "stream",
     "text": [
      "    113/150      3.85G      1.583      1.865       1.45         39        640: 1\n",
      "                 Class     Images  Instances      Box(P          R      mAP50  m\n"
     ]
    },
    {
     "name": "stdout",
     "output_type": "stream",
     "text": [
      "                   all       3292      17116      0.433      0.413      0.338      0.208\n",
      "\n",
      "      Epoch    GPU_mem   box_loss   cls_loss   dfl_loss  Instances       Size\n"
     ]
    },
    {
     "name": "stderr",
     "output_type": "stream",
     "text": [
      "    114/150      4.06G      1.582      1.871      1.452         44        640: 1\n",
      "                 Class     Images  Instances      Box(P          R      mAP50  m\n"
     ]
    },
    {
     "name": "stdout",
     "output_type": "stream",
     "text": [
      "                   all       3292      17116      0.435      0.414      0.339      0.208\n",
      "\n",
      "      Epoch    GPU_mem   box_loss   cls_loss   dfl_loss  Instances       Size\n"
     ]
    },
    {
     "name": "stderr",
     "output_type": "stream",
     "text": [
      "    115/150      3.93G      1.573      1.867      1.443         59        640: 1\n",
      "                 Class     Images  Instances      Box(P          R      mAP50  m\n"
     ]
    },
    {
     "name": "stdout",
     "output_type": "stream",
     "text": [
      "                   all       3292      17116      0.437      0.413       0.34      0.209\n",
      "\n",
      "      Epoch    GPU_mem   box_loss   cls_loss   dfl_loss  Instances       Size\n"
     ]
    },
    {
     "name": "stderr",
     "output_type": "stream",
     "text": [
      "    116/150      4.02G      1.568       1.85      1.441         33        640: 1\n",
      "                 Class     Images  Instances      Box(P          R      mAP50  m\n"
     ]
    },
    {
     "name": "stdout",
     "output_type": "stream",
     "text": [
      "                   all       3292      17116      0.437      0.415      0.341      0.209\n",
      "\n",
      "      Epoch    GPU_mem   box_loss   cls_loss   dfl_loss  Instances       Size\n"
     ]
    },
    {
     "name": "stderr",
     "output_type": "stream",
     "text": [
      "    117/150      4.01G      1.563      1.841      1.432         29        640: 1\n",
      "                 Class     Images  Instances      Box(P          R      mAP50  m\n"
     ]
    },
    {
     "name": "stdout",
     "output_type": "stream",
     "text": [
      "                   all       3292      17116      0.437      0.416      0.342      0.209\n",
      "\n",
      "      Epoch    GPU_mem   box_loss   cls_loss   dfl_loss  Instances       Size\n"
     ]
    },
    {
     "name": "stderr",
     "output_type": "stream",
     "text": [
      "    118/150      3.98G      1.561      1.857      1.433         56        640: 1\n",
      "                 Class     Images  Instances      Box(P          R      mAP50  m\n"
     ]
    },
    {
     "name": "stdout",
     "output_type": "stream",
     "text": [
      "                   all       3292      17116      0.438      0.418      0.342       0.21\n",
      "\n",
      "      Epoch    GPU_mem   box_loss   cls_loss   dfl_loss  Instances       Size\n"
     ]
    },
    {
     "name": "stderr",
     "output_type": "stream",
     "text": [
      "    119/150      4.08G      1.555      1.844      1.437         39        640: 1\n",
      "                 Class     Images  Instances      Box(P          R      mAP50  m\n"
     ]
    },
    {
     "name": "stdout",
     "output_type": "stream",
     "text": [
      "                   all       3292      17116      0.438      0.421      0.344      0.212\n",
      "\n",
      "      Epoch    GPU_mem   box_loss   cls_loss   dfl_loss  Instances       Size\n"
     ]
    },
    {
     "name": "stderr",
     "output_type": "stream",
     "text": [
      "    120/150      3.91G      1.556      1.845      1.436         52        640: 1\n",
      "                 Class     Images  Instances      Box(P          R      mAP50  m\n"
     ]
    },
    {
     "name": "stdout",
     "output_type": "stream",
     "text": [
      "                   all       3292      17116       0.44      0.423      0.346      0.213\n",
      "\n",
      "      Epoch    GPU_mem   box_loss   cls_loss   dfl_loss  Instances       Size\n"
     ]
    },
    {
     "name": "stderr",
     "output_type": "stream",
     "text": [
      "    121/150      3.98G      1.553      1.844      1.434         34        640: 1\n",
      "                 Class     Images  Instances      Box(P          R      mAP50  m\n"
     ]
    },
    {
     "name": "stdout",
     "output_type": "stream",
     "text": [
      "                   all       3292      17116      0.439      0.424      0.346      0.214\n",
      "\n",
      "      Epoch    GPU_mem   box_loss   cls_loss   dfl_loss  Instances       Size\n"
     ]
    },
    {
     "name": "stderr",
     "output_type": "stream",
     "text": [
      "    122/150       3.9G      1.542      1.831      1.426         45        640: 1\n",
      "                 Class     Images  Instances      Box(P          R      mAP50  m\n"
     ]
    },
    {
     "name": "stdout",
     "output_type": "stream",
     "text": [
      "                   all       3292      17116      0.438      0.425      0.347      0.215\n",
      "\n",
      "      Epoch    GPU_mem   box_loss   cls_loss   dfl_loss  Instances       Size\n"
     ]
    },
    {
     "name": "stderr",
     "output_type": "stream",
     "text": [
      "    123/150      4.07G      1.555       1.85      1.438         38        640: 1\n",
      "                 Class     Images  Instances      Box(P          R      mAP50  m\n"
     ]
    },
    {
     "name": "stdout",
     "output_type": "stream",
     "text": [
      "                   all       3292      17116      0.439      0.427      0.348      0.215\n",
      "\n",
      "      Epoch    GPU_mem   box_loss   cls_loss   dfl_loss  Instances       Size\n"
     ]
    },
    {
     "name": "stderr",
     "output_type": "stream",
     "text": [
      "    124/150      3.86G      1.539       1.83      1.422         57        640: 1\n",
      "                 Class     Images  Instances      Box(P          R      mAP50  m\n"
     ]
    },
    {
     "name": "stdout",
     "output_type": "stream",
     "text": [
      "                   all       3292      17116      0.439      0.428      0.348      0.215\n",
      "\n",
      "      Epoch    GPU_mem   box_loss   cls_loss   dfl_loss  Instances       Size\n"
     ]
    },
    {
     "name": "stderr",
     "output_type": "stream",
     "text": [
      "    125/150       4.1G      1.531      1.821      1.417         42        640: 1\n",
      "                 Class     Images  Instances      Box(P          R      mAP50  m\n"
     ]
    },
    {
     "name": "stdout",
     "output_type": "stream",
     "text": [
      "                   all       3292      17116      0.442      0.425      0.348      0.215\n",
      "\n",
      "      Epoch    GPU_mem   box_loss   cls_loss   dfl_loss  Instances       Size\n"
     ]
    },
    {
     "name": "stderr",
     "output_type": "stream",
     "text": [
      "    126/150      3.94G      1.531      1.823       1.42         46        640: 1\n",
      "                 Class     Images  Instances      Box(P          R      mAP50  m\n"
     ]
    },
    {
     "name": "stdout",
     "output_type": "stream",
     "text": [
      "                   all       3292      17116      0.443      0.427      0.349      0.216\n",
      "\n",
      "      Epoch    GPU_mem   box_loss   cls_loss   dfl_loss  Instances       Size\n"
     ]
    },
    {
     "name": "stderr",
     "output_type": "stream",
     "text": [
      "    127/150      3.96G      1.533      1.826      1.417         35        640: 1\n",
      "                 Class     Images  Instances      Box(P          R      mAP50  m\n"
     ]
    },
    {
     "name": "stdout",
     "output_type": "stream",
     "text": [
      "                   all       3292      17116      0.444      0.428      0.351      0.218\n",
      "\n",
      "      Epoch    GPU_mem   box_loss   cls_loss   dfl_loss  Instances       Size\n"
     ]
    },
    {
     "name": "stderr",
     "output_type": "stream",
     "text": [
      "    128/150      3.99G      1.524      1.815      1.417         57        640: 1\n",
      "                 Class     Images  Instances      Box(P          R      mAP50  m\n"
     ]
    },
    {
     "name": "stdout",
     "output_type": "stream",
     "text": [
      "                   all       3292      17116      0.444       0.43      0.351      0.218\n",
      "\n",
      "      Epoch    GPU_mem   box_loss   cls_loss   dfl_loss  Instances       Size\n"
     ]
    },
    {
     "name": "stderr",
     "output_type": "stream",
     "text": [
      "    129/150      4.04G      1.516      1.814      1.413         32        640: 1\n",
      "                 Class     Images  Instances      Box(P          R      mAP50  m\n"
     ]
    },
    {
     "name": "stdout",
     "output_type": "stream",
     "text": [
      "                   all       3292      17116      0.444      0.432      0.352      0.219\n",
      "\n",
      "      Epoch    GPU_mem   box_loss   cls_loss   dfl_loss  Instances       Size\n"
     ]
    },
    {
     "name": "stderr",
     "output_type": "stream",
     "text": [
      "    130/150      3.99G      1.527      1.816      1.418         66        640: 1\n",
      "                 Class     Images  Instances      Box(P          R      mAP50  m\n"
     ]
    },
    {
     "name": "stdout",
     "output_type": "stream",
     "text": [
      "                   all       3292      17116      0.444      0.433      0.352      0.219\n",
      "\n",
      "      Epoch    GPU_mem   box_loss   cls_loss   dfl_loss  Instances       Size\n"
     ]
    },
    {
     "name": "stderr",
     "output_type": "stream",
     "text": [
      "    131/150      3.93G      1.504      1.807      1.406         48        640: 1\n",
      "                 Class     Images  Instances      Box(P          R      mAP50  m\n"
     ]
    },
    {
     "name": "stdout",
     "output_type": "stream",
     "text": [
      "                   all       3292      17116      0.446      0.432      0.353      0.219\n",
      "\n",
      "      Epoch    GPU_mem   box_loss   cls_loss   dfl_loss  Instances       Size\n"
     ]
    },
    {
     "name": "stderr",
     "output_type": "stream",
     "text": [
      "    132/150      3.98G      1.509      1.796      1.405         63        640: 1\n",
      "                 Class     Images  Instances      Box(P          R      mAP50  m\n"
     ]
    },
    {
     "name": "stdout",
     "output_type": "stream",
     "text": [
      "                   all       3292      17116      0.446      0.433      0.354       0.22\n",
      "\n",
      "      Epoch    GPU_mem   box_loss   cls_loss   dfl_loss  Instances       Size\n"
     ]
    },
    {
     "name": "stderr",
     "output_type": "stream",
     "text": [
      "    133/150      3.83G      1.502        1.8      1.399         20        640: 1\n",
      "                 Class     Images  Instances      Box(P          R      mAP50  m\n"
     ]
    },
    {
     "name": "stdout",
     "output_type": "stream",
     "text": [
      "                   all       3292      17116      0.446      0.434      0.355       0.22\n",
      "\n",
      "      Epoch    GPU_mem   box_loss   cls_loss   dfl_loss  Instances       Size\n"
     ]
    },
    {
     "name": "stderr",
     "output_type": "stream",
     "text": [
      "    134/150      3.92G      1.506      1.801      1.409         40        640: 1\n",
      "                 Class     Images  Instances      Box(P          R      mAP50  m\n"
     ]
    },
    {
     "name": "stdout",
     "output_type": "stream",
     "text": [
      "                   all       3292      17116      0.447      0.436      0.355      0.221\n",
      "\n",
      "      Epoch    GPU_mem   box_loss   cls_loss   dfl_loss  Instances       Size\n"
     ]
    },
    {
     "name": "stderr",
     "output_type": "stream",
     "text": [
      "    135/150      4.09G      1.501      1.793      1.401         59        640: 1\n",
      "                 Class     Images  Instances      Box(P          R      mAP50  m\n"
     ]
    },
    {
     "name": "stdout",
     "output_type": "stream",
     "text": [
      "                   all       3292      17116      0.447      0.437      0.356      0.221\n",
      "\n",
      "      Epoch    GPU_mem   box_loss   cls_loss   dfl_loss  Instances       Size\n"
     ]
    },
    {
     "name": "stderr",
     "output_type": "stream",
     "text": [
      "    136/150      3.86G      1.501      1.791        1.4         44        640: 1\n",
      "                 Class     Images  Instances      Box(P          R      mAP50  m\n"
     ]
    },
    {
     "name": "stdout",
     "output_type": "stream",
     "text": [
      "                   all       3292      17116      0.447      0.439      0.356      0.221\n",
      "\n",
      "      Epoch    GPU_mem   box_loss   cls_loss   dfl_loss  Instances       Size\n"
     ]
    },
    {
     "name": "stderr",
     "output_type": "stream",
     "text": [
      "    137/150      3.98G      1.485      1.785      1.395         29        640: 1\n",
      "                 Class     Images  Instances      Box(P          R      mAP50  m\n"
     ]
    },
    {
     "name": "stdout",
     "output_type": "stream",
     "text": [
      "                   all       3292      17116      0.447       0.44      0.357      0.221\n",
      "\n",
      "      Epoch    GPU_mem   box_loss   cls_loss   dfl_loss  Instances       Size\n"
     ]
    },
    {
     "name": "stderr",
     "output_type": "stream",
     "text": [
      "    138/150      4.01G      1.485      1.784      1.392         83        640: 1\n",
      "                 Class     Images  Instances      Box(P          R      mAP50  m\n"
     ]
    },
    {
     "name": "stdout",
     "output_type": "stream",
     "text": [
      "                   all       3292      17116      0.449      0.438      0.357      0.221\n",
      "\n",
      "      Epoch    GPU_mem   box_loss   cls_loss   dfl_loss  Instances       Size\n"
     ]
    },
    {
     "name": "stderr",
     "output_type": "stream",
     "text": [
      "    139/150      4.18G      1.485      1.786      1.395         45        640: 1\n",
      "                 Class     Images  Instances      Box(P          R      mAP50  m\n"
     ]
    },
    {
     "name": "stdout",
     "output_type": "stream",
     "text": [
      "                   all       3292      17116      0.449       0.44      0.357      0.221\n",
      "\n",
      "      Epoch    GPU_mem   box_loss   cls_loss   dfl_loss  Instances       Size\n"
     ]
    },
    {
     "name": "stderr",
     "output_type": "stream",
     "text": [
      "    140/150      3.84G      1.483      1.776      1.389         70        640: 1\n",
      "                 Class     Images  Instances      Box(P          R      mAP50  m\n"
     ]
    },
    {
     "name": "stdout",
     "output_type": "stream",
     "text": [
      "                   all       3292      17116      0.448       0.44      0.358      0.221\n",
      "Closing dataloader mosaic\n",
      "\n",
      "      Epoch    GPU_mem   box_loss   cls_loss   dfl_loss  Instances       Size\n"
     ]
    },
    {
     "name": "stderr",
     "output_type": "stream",
     "text": [
      "    141/150      3.74G       1.48      1.858      1.464         41        640: 1\n",
      "                 Class     Images  Instances      Box(P          R      mAP50  m\n"
     ]
    },
    {
     "name": "stdout",
     "output_type": "stream",
     "text": [
      "                   all       3292      17116      0.449      0.441      0.359      0.222\n",
      "\n",
      "      Epoch    GPU_mem   box_loss   cls_loss   dfl_loss  Instances       Size\n"
     ]
    },
    {
     "name": "stderr",
     "output_type": "stream",
     "text": [
      "    142/150      3.74G      1.433      1.824      1.438         19        640: 1\n",
      "                 Class     Images  Instances      Box(P          R      mAP50  m\n"
     ]
    },
    {
     "name": "stdout",
     "output_type": "stream",
     "text": [
      "                   all       3292      17116      0.449      0.446       0.36      0.224\n",
      "\n",
      "      Epoch    GPU_mem   box_loss   cls_loss   dfl_loss  Instances       Size\n"
     ]
    },
    {
     "name": "stderr",
     "output_type": "stream",
     "text": [
      "    143/150      3.73G      1.397      1.792      1.414         46        640: 1\n",
      "                 Class     Images  Instances      Box(P          R      mAP50  m\n"
     ]
    },
    {
     "name": "stdout",
     "output_type": "stream",
     "text": [
      "                   all       3292      17116       0.45      0.447      0.363      0.225\n",
      "\n",
      "      Epoch    GPU_mem   box_loss   cls_loss   dfl_loss  Instances       Size\n"
     ]
    },
    {
     "name": "stderr",
     "output_type": "stream",
     "text": [
      "    144/150      3.74G      1.385      1.779      1.406         20        640: 1\n",
      "                 Class     Images  Instances      Box(P          R      mAP50  m\n"
     ]
    },
    {
     "name": "stdout",
     "output_type": "stream",
     "text": [
      "                   all       3292      17116       0.45      0.451      0.364      0.227\n",
      "\n",
      "      Epoch    GPU_mem   box_loss   cls_loss   dfl_loss  Instances       Size\n"
     ]
    },
    {
     "name": "stderr",
     "output_type": "stream",
     "text": [
      "    145/150      3.74G      1.386      1.777      1.406         33        640: 1\n",
      "                 Class     Images  Instances      Box(P          R      mAP50  m\n"
     ]
    },
    {
     "name": "stdout",
     "output_type": "stream",
     "text": [
      "                   all       3292      17116      0.451      0.454      0.366      0.229\n",
      "\n",
      "      Epoch    GPU_mem   box_loss   cls_loss   dfl_loss  Instances       Size\n"
     ]
    },
    {
     "name": "stderr",
     "output_type": "stream",
     "text": [
      "    146/150      3.74G      1.371      1.765      1.397          7        640: 1\n",
      "                 Class     Images  Instances      Box(P          R      mAP50  m\n"
     ]
    },
    {
     "name": "stdout",
     "output_type": "stream",
     "text": [
      "                   all       3292      17116      0.451      0.458      0.368      0.231\n",
      "\n",
      "      Epoch    GPU_mem   box_loss   cls_loss   dfl_loss  Instances       Size\n"
     ]
    },
    {
     "name": "stderr",
     "output_type": "stream",
     "text": [
      "    147/150      3.74G      1.374      1.773      1.403         31        640: 1\n",
      "                 Class     Images  Instances      Box(P          R      mAP50  m\n"
     ]
    },
    {
     "name": "stdout",
     "output_type": "stream",
     "text": [
      "                   all       3292      17116      0.452      0.461      0.369      0.232\n",
      "\n",
      "      Epoch    GPU_mem   box_loss   cls_loss   dfl_loss  Instances       Size\n"
     ]
    },
    {
     "name": "stderr",
     "output_type": "stream",
     "text": [
      "    148/150      3.73G      1.338      1.737      1.374         26        640: 1\n",
      "                 Class     Images  Instances      Box(P          R      mAP50  m\n"
     ]
    },
    {
     "name": "stdout",
     "output_type": "stream",
     "text": [
      "                   all       3292      17116      0.454      0.463      0.371      0.234\n",
      "\n",
      "      Epoch    GPU_mem   box_loss   cls_loss   dfl_loss  Instances       Size\n"
     ]
    },
    {
     "name": "stderr",
     "output_type": "stream",
     "text": [
      "    149/150      3.75G      1.345      1.743      1.381         15        640: 1\n",
      "                 Class     Images  Instances      Box(P          R      mAP50  m\n"
     ]
    },
    {
     "name": "stdout",
     "output_type": "stream",
     "text": [
      "                   all       3292      17116      0.453      0.466      0.372      0.235\n",
      "\n",
      "      Epoch    GPU_mem   box_loss   cls_loss   dfl_loss  Instances       Size\n"
     ]
    },
    {
     "name": "stderr",
     "output_type": "stream",
     "text": [
      "    150/150      3.72G      1.336      1.736      1.378         40        640: 1\n",
      "                 Class     Images  Instances      Box(P          R      mAP50  m\n"
     ]
    },
    {
     "name": "stdout",
     "output_type": "stream",
     "text": [
      "                   all       3292      17116      0.454      0.469      0.374      0.237\n",
      "\n",
      "150 epochs completed in 2.857 hours.\n",
      "Optimizer stripped from runs/detect/train18/weights/last.pt, 6.3MB\n",
      "Optimizer stripped from runs/detect/train18/weights/best.pt, 6.3MB\n",
      "\n",
      "Validating runs/detect/train18/weights/best.pt...\n",
      "Ultralytics YOLOv8.0.219 🚀 Python-3.11.5 torch-2.1.0+cu121 CUDA:0 (NVIDIA GeForce RTX 3060, 12036MiB)\n",
      "Model summary (fused): 168 layers, 3005843 parameters, 0 gradients, 8.1 GFLOPs\n"
     ]
    },
    {
     "name": "stderr",
     "output_type": "stream",
     "text": [
      "                 Class     Images  Instances      Box(P          R      mAP50  m\n"
     ]
    },
    {
     "name": "stdout",
     "output_type": "stream",
     "text": [
      "                   all       3292      17116      0.455      0.469      0.374      0.237\n",
      "Speed: 0.2ms preprocess, 1.6ms inference, 0.0ms loss, 0.7ms postprocess per image\n",
      "Results saved to \u001b[1mruns/detect/train18\u001b[0m\n"
     ]
    }
   ],
   "source": [
    "\n",
    "\n",
    "result = model.train(data='/home/yasumasa-tezuka/data_intern/1~50annotation/data.yaml', epochs=30 imgsz=640, device='cuda')\n",
    "\n"
   ]
  },
  {
   "cell_type": "code",
   "execution_count": 1,
   "id": "5c9157e8-724c-49c1-9e8e-236094ba230a",
   "metadata": {
    "tags": []
   },
   "outputs": [
    {
     "name": "stdout",
     "output_type": "stream",
     "text": [
      "\n",
      "\n",
      "WARNING ⚠️ inference results will accumulate in RAM unless `stream=True` is passed, causing potential out-of-memory\n",
      "errors for large sources or long-running streams and videos. See https://docs.ultralytics.com/modes/predict/ for help.\n",
      "\n",
      "Example:\n",
      "    results = model(source=..., stream=True)  # generator of Results objects\n",
      "    for r in results:\n",
      "        boxes = r.boxes  # Boxes object for bbox outputs\n",
      "        masks = r.masks  # Masks object for segment masks outputs\n",
      "        probs = r.probs  # Class probabilities for classification outputs\n",
      "\n",
      "image 1/1131 /home/yasumasa-tezuka/data_intern/data/images_expansion/images_test/0001.jpg: 448x640 (no detections), 57.2ms\n",
      "image 2/1131 /home/yasumasa-tezuka/data_intern/data/images_expansion/images_test/0002.jpg: 448x640 (no detections), 4.3ms\n",
      "image 3/1131 /home/yasumasa-tezuka/data_intern/data/images_expansion/images_test/0003.jpg: 448x640 (no detections), 4.4ms\n",
      "image 4/1131 /home/yasumasa-tezuka/data_intern/data/images_expansion/images_test/0004.jpg: 448x640 (no detections), 4.3ms\n",
      "image 5/1131 /home/yasumasa-tezuka/data_intern/data/images_expansion/images_test/0005.jpg: 448x640 (no detections), 4.3ms\n",
      "image 6/1131 /home/yasumasa-tezuka/data_intern/data/images_expansion/images_test/0006.jpg: 448x640 (no detections), 4.3ms\n",
      "image 7/1131 /home/yasumasa-tezuka/data_intern/data/images_expansion/images_test/0007.jpg: 448x640 (no detections), 4.4ms\n",
      "image 8/1131 /home/yasumasa-tezuka/data_intern/data/images_expansion/images_test/0008.jpg: 448x640 (no detections), 4.5ms\n",
      "image 9/1131 /home/yasumasa-tezuka/data_intern/data/images_expansion/images_test/0009.jpg: 448x640 (no detections), 4.3ms\n",
      "image 10/1131 /home/yasumasa-tezuka/data_intern/data/images_expansion/images_test/0010.jpg: 448x640 (no detections), 4.3ms\n",
      "image 11/1131 /home/yasumasa-tezuka/data_intern/data/images_expansion/images_test/0011.jpg: 448x640 (no detections), 4.3ms\n",
      "image 12/1131 /home/yasumasa-tezuka/data_intern/data/images_expansion/images_test/0012.jpg: 448x640 (no detections), 4.4ms\n",
      "image 13/1131 /home/yasumasa-tezuka/data_intern/data/images_expansion/images_test/0013.jpg: 640x448 (no detections), 54.6ms\n",
      "image 14/1131 /home/yasumasa-tezuka/data_intern/data/images_expansion/images_test/0014.jpg: 640x448 (no detections), 4.4ms\n",
      "image 15/1131 /home/yasumasa-tezuka/data_intern/data/images_expansion/images_test/0015.jpg: 448x640 (no detections), 4.7ms\n",
      "image 16/1131 /home/yasumasa-tezuka/data_intern/data/images_expansion/images_test/0016.jpg: 448x640 (no detections), 4.3ms\n",
      "image 17/1131 /home/yasumasa-tezuka/data_intern/data/images_expansion/images_test/0017.jpg: 448x640 (no detections), 4.5ms\n",
      "image 18/1131 /home/yasumasa-tezuka/data_intern/data/images_expansion/images_test/0018.jpg: 448x640 (no detections), 4.6ms\n",
      "image 19/1131 /home/yasumasa-tezuka/data_intern/data/images_expansion/images_test/0019.jpg: 448x640 (no detections), 4.4ms\n",
      "image 20/1131 /home/yasumasa-tezuka/data_intern/data/images_expansion/images_test/0020.jpg: 448x640 (no detections), 4.4ms\n",
      "image 21/1131 /home/yasumasa-tezuka/data_intern/data/images_expansion/images_test/0021.jpg: 448x640 (no detections), 4.4ms\n",
      "image 22/1131 /home/yasumasa-tezuka/data_intern/data/images_expansion/images_test/0022.jpg: 448x640 (no detections), 4.7ms\n",
      "image 23/1131 /home/yasumasa-tezuka/data_intern/data/images_expansion/images_test/0024.jpg: 448x640 (no detections), 4.4ms\n",
      "image 24/1131 /home/yasumasa-tezuka/data_intern/data/images_expansion/images_test/0025.jpg: 448x640 (no detections), 4.4ms\n",
      "image 25/1131 /home/yasumasa-tezuka/data_intern/data/images_expansion/images_test/0026.jpg: 448x640 (no detections), 6.1ms\n",
      "image 26/1131 /home/yasumasa-tezuka/data_intern/data/images_expansion/images_test/0027.jpg: 448x640 (no detections), 5.4ms\n",
      "image 27/1131 /home/yasumasa-tezuka/data_intern/data/images_expansion/images_test/0028.jpg: 448x640 (no detections), 6.1ms\n",
      "image 28/1131 /home/yasumasa-tezuka/data_intern/data/images_expansion/images_test/0029.jpg: 448x640 (no detections), 4.4ms\n",
      "image 29/1131 /home/yasumasa-tezuka/data_intern/data/images_expansion/images_test/0030.jpg: 640x448 (no detections), 4.7ms\n",
      "image 30/1131 /home/yasumasa-tezuka/data_intern/data/images_expansion/images_test/0031.jpg: 448x640 (no detections), 4.7ms\n",
      "image 31/1131 /home/yasumasa-tezuka/data_intern/data/images_expansion/images_test/0032.jpg: 448x640 (no detections), 4.4ms\n",
      "image 32/1131 /home/yasumasa-tezuka/data_intern/data/images_expansion/images_test/0033.jpg: 448x640 (no detections), 4.3ms\n",
      "image 33/1131 /home/yasumasa-tezuka/data_intern/data/images_expansion/images_test/0034.jpg: 448x640 (no detections), 4.4ms\n",
      "image 34/1131 /home/yasumasa-tezuka/data_intern/data/images_expansion/images_test/0035.jpg: 416x640 (no detections), 60.3ms\n",
      "image 35/1131 /home/yasumasa-tezuka/data_intern/data/images_expansion/images_test/0036.jpg: 448x640 (no detections), 4.8ms\n",
      "image 36/1131 /home/yasumasa-tezuka/data_intern/data/images_expansion/images_test/0037.jpg: 448x640 (no detections), 5.2ms\n",
      "image 37/1131 /home/yasumasa-tezuka/data_intern/data/images_expansion/images_test/0038.jpg: 448x640 (no detections), 4.6ms\n",
      "image 38/1131 /home/yasumasa-tezuka/data_intern/data/images_expansion/images_test/0039.jpg: 448x640 (no detections), 4.8ms\n",
      "image 39/1131 /home/yasumasa-tezuka/data_intern/data/images_expansion/images_test/0040.jpg: 448x640 (no detections), 5.2ms\n",
      "image 40/1131 /home/yasumasa-tezuka/data_intern/data/images_expansion/images_test/0041.jpg: 448x640 (no detections), 4.7ms\n",
      "image 41/1131 /home/yasumasa-tezuka/data_intern/data/images_expansion/images_test/0042.jpg: 640x448 (no detections), 6.8ms\n",
      "image 42/1131 /home/yasumasa-tezuka/data_intern/data/images_expansion/images_test/0043.jpg: 448x640 (no detections), 4.8ms\n",
      "image 43/1131 /home/yasumasa-tezuka/data_intern/data/images_expansion/images_test/0048.jpg: 448x640 (no detections), 4.5ms\n",
      "image 44/1131 /home/yasumasa-tezuka/data_intern/data/images_expansion/images_test/0049.jpg: 448x640 (no detections), 4.6ms\n",
      "image 45/1131 /home/yasumasa-tezuka/data_intern/data/images_expansion/images_test/0050.jpg: 448x640 (no detections), 4.4ms\n",
      "image 46/1131 /home/yasumasa-tezuka/data_intern/data/images_expansion/images_test/0051.jpg: 448x640 (no detections), 4.5ms\n",
      "image 47/1131 /home/yasumasa-tezuka/data_intern/data/images_expansion/images_test/0052.jpg: 448x640 (no detections), 4.5ms\n",
      "image 48/1131 /home/yasumasa-tezuka/data_intern/data/images_expansion/images_test/0053.jpg: 448x640 (no detections), 4.4ms\n",
      "image 49/1131 /home/yasumasa-tezuka/data_intern/data/images_expansion/images_test/0055.jpg: 448x640 (no detections), 4.6ms\n",
      "image 50/1131 /home/yasumasa-tezuka/data_intern/data/images_expansion/images_test/0056.jpg: 448x640 (no detections), 4.5ms\n",
      "image 51/1131 /home/yasumasa-tezuka/data_intern/data/images_expansion/images_test/0057.jpg: 448x640 (no detections), 4.4ms\n",
      "image 52/1131 /home/yasumasa-tezuka/data_intern/data/images_expansion/images_test/0058.jpg: 448x640 (no detections), 4.4ms\n",
      "image 53/1131 /home/yasumasa-tezuka/data_intern/data/images_expansion/images_test/0059.jpg: 448x640 (no detections), 5.1ms\n",
      "image 54/1131 /home/yasumasa-tezuka/data_intern/data/images_expansion/images_test/0060.jpg: 448x640 (no detections), 4.6ms\n",
      "image 55/1131 /home/yasumasa-tezuka/data_intern/data/images_expansion/images_test/0061.jpg: 448x640 (no detections), 4.5ms\n",
      "image 56/1131 /home/yasumasa-tezuka/data_intern/data/images_expansion/images_test/0062.jpg: 448x640 (no detections), 4.5ms\n",
      "image 57/1131 /home/yasumasa-tezuka/data_intern/data/images_expansion/images_test/0063.jpg: 448x640 (no detections), 4.6ms\n",
      "image 58/1131 /home/yasumasa-tezuka/data_intern/data/images_expansion/images_test/0064.jpg: 448x640 (no detections), 4.4ms\n",
      "image 59/1131 /home/yasumasa-tezuka/data_intern/data/images_expansion/images_test/0065.jpg: 448x640 (no detections), 4.4ms\n",
      "image 60/1131 /home/yasumasa-tezuka/data_intern/data/images_expansion/images_test/0066.jpg: 448x640 (no detections), 4.9ms\n",
      "image 61/1131 /home/yasumasa-tezuka/data_intern/data/images_expansion/images_test/0067.jpg: 448x640 (no detections), 4.8ms\n",
      "image 62/1131 /home/yasumasa-tezuka/data_intern/data/images_expansion/images_test/0068.jpg: 448x640 (no detections), 4.4ms\n",
      "image 63/1131 /home/yasumasa-tezuka/data_intern/data/images_expansion/images_test/0069.jpg: 448x640 (no detections), 4.4ms\n",
      "image 64/1131 /home/yasumasa-tezuka/data_intern/data/images_expansion/images_test/0070.jpg: 448x640 (no detections), 4.9ms\n",
      "image 65/1131 /home/yasumasa-tezuka/data_intern/data/images_expansion/images_test/0071.jpg: 448x640 (no detections), 4.4ms\n",
      "image 66/1131 /home/yasumasa-tezuka/data_intern/data/images_expansion/images_test/0072.jpg: 448x640 (no detections), 4.5ms\n",
      "image 67/1131 /home/yasumasa-tezuka/data_intern/data/images_expansion/images_test/0073.jpg: 448x640 (no detections), 4.5ms\n",
      "image 68/1131 /home/yasumasa-tezuka/data_intern/data/images_expansion/images_test/0074.jpg: 448x640 (no detections), 4.6ms\n",
      "image 69/1131 /home/yasumasa-tezuka/data_intern/data/images_expansion/images_test/0075.jpg: 448x640 (no detections), 4.4ms\n",
      "image 70/1131 /home/yasumasa-tezuka/data_intern/data/images_expansion/images_test/0076.jpg: 448x640 (no detections), 4.9ms\n",
      "image 71/1131 /home/yasumasa-tezuka/data_intern/data/images_expansion/images_test/0077.jpg: 640x448 (no detections), 4.7ms\n",
      "image 72/1131 /home/yasumasa-tezuka/data_intern/data/images_expansion/images_test/0078.jpg: 640x448 (no detections), 4.5ms\n",
      "image 73/1131 /home/yasumasa-tezuka/data_intern/data/images_expansion/images_test/0079.jpg: 448x640 (no detections), 4.9ms\n",
      "image 74/1131 /home/yasumasa-tezuka/data_intern/data/images_expansion/images_test/0080.jpg: 448x640 (no detections), 4.4ms\n",
      "image 75/1131 /home/yasumasa-tezuka/data_intern/data/images_expansion/images_test/0081.jpg: 448x640 (no detections), 4.4ms\n",
      "image 76/1131 /home/yasumasa-tezuka/data_intern/data/images_expansion/images_test/0082.jpg: 448x640 (no detections), 4.4ms\n",
      "image 77/1131 /home/yasumasa-tezuka/data_intern/data/images_expansion/images_test/0083.jpg: 448x640 (no detections), 4.5ms\n",
      "image 78/1131 /home/yasumasa-tezuka/data_intern/data/images_expansion/images_test/0084.jpg: 448x640 (no detections), 4.5ms\n",
      "image 79/1131 /home/yasumasa-tezuka/data_intern/data/images_expansion/images_test/0085.jpg: 448x640 (no detections), 4.5ms\n",
      "image 80/1131 /home/yasumasa-tezuka/data_intern/data/images_expansion/images_test/0086.jpg: 448x640 (no detections), 4.8ms\n",
      "image 81/1131 /home/yasumasa-tezuka/data_intern/data/images_expansion/images_test/0087.jpg: 448x640 (no detections), 4.6ms\n",
      "image 82/1131 /home/yasumasa-tezuka/data_intern/data/images_expansion/images_test/0088.jpg: 448x640 (no detections), 4.6ms\n",
      "image 83/1131 /home/yasumasa-tezuka/data_intern/data/images_expansion/images_test/0089.jpg: 448x640 (no detections), 4.5ms\n",
      "image 84/1131 /home/yasumasa-tezuka/data_intern/data/images_expansion/images_test/0090.jpg: 448x640 (no detections), 4.5ms\n",
      "image 85/1131 /home/yasumasa-tezuka/data_intern/data/images_expansion/images_test/0091.jpg: 448x640 (no detections), 4.4ms\n",
      "image 86/1131 /home/yasumasa-tezuka/data_intern/data/images_expansion/images_test/0092.jpg: 448x640 (no detections), 4.4ms\n",
      "image 87/1131 /home/yasumasa-tezuka/data_intern/data/images_expansion/images_test/0093.jpg: 448x640 (no detections), 4.6ms\n",
      "image 88/1131 /home/yasumasa-tezuka/data_intern/data/images_expansion/images_test/0094.jpg: 448x640 (no detections), 4.5ms\n",
      "image 89/1131 /home/yasumasa-tezuka/data_intern/data/images_expansion/images_test/0095.jpg: 448x640 (no detections), 4.5ms\n",
      "image 90/1131 /home/yasumasa-tezuka/data_intern/data/images_expansion/images_test/0096.jpg: 448x640 (no detections), 4.4ms\n",
      "image 91/1131 /home/yasumasa-tezuka/data_intern/data/images_expansion/images_test/0097.jpg: 448x640 (no detections), 4.9ms\n",
      "image 92/1131 /home/yasumasa-tezuka/data_intern/data/images_expansion/images_test/0098.jpg: 448x640 (no detections), 4.8ms\n",
      "image 93/1131 /home/yasumasa-tezuka/data_intern/data/images_expansion/images_test/0099.jpg: 448x640 (no detections), 4.8ms\n",
      "image 94/1131 /home/yasumasa-tezuka/data_intern/data/images_expansion/images_test/0100.jpg: 640x448 (no detections), 4.8ms\n",
      "image 95/1131 /home/yasumasa-tezuka/data_intern/data/images_expansion/images_test/0101.jpg: 448x640 (no detections), 4.9ms\n",
      "image 96/1131 /home/yasumasa-tezuka/data_intern/data/images_expansion/images_test/0102.jpg: 448x640 (no detections), 4.4ms\n",
      "image 97/1131 /home/yasumasa-tezuka/data_intern/data/images_expansion/images_test/0103.jpg: 448x640 (no detections), 4.4ms\n",
      "image 98/1131 /home/yasumasa-tezuka/data_intern/data/images_expansion/images_test/0104.jpg: 448x640 (no detections), 4.5ms\n",
      "image 99/1131 /home/yasumasa-tezuka/data_intern/data/images_expansion/images_test/0105.jpg: 448x640 (no detections), 4.4ms\n",
      "image 100/1131 /home/yasumasa-tezuka/data_intern/data/images_expansion/images_test/0107.jpg: 448x640 (no detections), 4.5ms\n",
      "image 101/1131 /home/yasumasa-tezuka/data_intern/data/images_expansion/images_test/0108.jpg: 448x640 (no detections), 4.6ms\n",
      "image 102/1131 /home/yasumasa-tezuka/data_intern/data/images_expansion/images_test/0109.jpg: 448x640 (no detections), 4.4ms\n",
      "image 103/1131 /home/yasumasa-tezuka/data_intern/data/images_expansion/images_test/0110.jpg: 448x640 (no detections), 4.6ms\n",
      "image 104/1131 /home/yasumasa-tezuka/data_intern/data/images_expansion/images_test/0111.jpg: 448x640 (no detections), 4.4ms\n",
      "image 105/1131 /home/yasumasa-tezuka/data_intern/data/images_expansion/images_test/0112.jpg: 448x640 (no detections), 4.4ms\n",
      "image 106/1131 /home/yasumasa-tezuka/data_intern/data/images_expansion/images_test/0113.jpg: 448x640 (no detections), 4.5ms\n",
      "image 107/1131 /home/yasumasa-tezuka/data_intern/data/images_expansion/images_test/0114.jpg: 448x640 (no detections), 4.7ms\n",
      "image 108/1131 /home/yasumasa-tezuka/data_intern/data/images_expansion/images_test/0115.jpg: 640x448 (no detections), 4.7ms\n",
      "image 109/1131 /home/yasumasa-tezuka/data_intern/data/images_expansion/images_test/0116.jpg: 448x640 (no detections), 4.9ms\n",
      "image 110/1131 /home/yasumasa-tezuka/data_intern/data/images_expansion/images_test/0117.jpg: 448x640 (no detections), 4.4ms\n",
      "image 111/1131 /home/yasumasa-tezuka/data_intern/data/images_expansion/images_test/0118.jpg: 448x640 (no detections), 4.8ms\n",
      "image 112/1131 /home/yasumasa-tezuka/data_intern/data/images_expansion/images_test/0119.jpg: 448x640 (no detections), 4.5ms\n",
      "image 113/1131 /home/yasumasa-tezuka/data_intern/data/images_expansion/images_test/0121.jpg: 448x640 (no detections), 4.5ms\n",
      "image 114/1131 /home/yasumasa-tezuka/data_intern/data/images_expansion/images_test/0122.jpg: 448x640 (no detections), 4.3ms\n",
      "image 115/1131 /home/yasumasa-tezuka/data_intern/data/images_expansion/images_test/0123.jpg: 448x640 (no detections), 4.4ms\n",
      "image 116/1131 /home/yasumasa-tezuka/data_intern/data/images_expansion/images_test/0124.jpg: 448x640 (no detections), 4.4ms\n",
      "image 117/1131 /home/yasumasa-tezuka/data_intern/data/images_expansion/images_test/0125.jpg: 448x640 (no detections), 4.4ms\n",
      "image 118/1131 /home/yasumasa-tezuka/data_intern/data/images_expansion/images_test/0126.jpg: 448x640 (no detections), 4.5ms\n",
      "image 119/1131 /home/yasumasa-tezuka/data_intern/data/images_expansion/images_test/0127.jpg: 448x640 (no detections), 4.4ms\n",
      "image 120/1131 /home/yasumasa-tezuka/data_intern/data/images_expansion/images_test/0128.jpg: 448x640 (no detections), 4.4ms\n",
      "image 121/1131 /home/yasumasa-tezuka/data_intern/data/images_expansion/images_test/0129.jpg: 448x640 (no detections), 4.4ms\n",
      "image 122/1131 /home/yasumasa-tezuka/data_intern/data/images_expansion/images_test/0130.jpg: 448x640 (no detections), 4.4ms\n",
      "image 123/1131 /home/yasumasa-tezuka/data_intern/data/images_expansion/images_test/0131.jpg: 448x640 (no detections), 4.6ms\n",
      "image 124/1131 /home/yasumasa-tezuka/data_intern/data/images_expansion/images_test/0132.jpg: 448x640 (no detections), 4.4ms\n",
      "image 125/1131 /home/yasumasa-tezuka/data_intern/data/images_expansion/images_test/0133.jpg: 448x640 (no detections), 4.5ms\n",
      "image 126/1131 /home/yasumasa-tezuka/data_intern/data/images_expansion/images_test/0134.jpg: 448x640 (no detections), 4.4ms\n",
      "image 127/1131 /home/yasumasa-tezuka/data_intern/data/images_expansion/images_test/0135.jpg: 448x640 (no detections), 4.5ms\n",
      "image 128/1131 /home/yasumasa-tezuka/data_intern/data/images_expansion/images_test/0136.jpg: 448x640 (no detections), 4.4ms\n",
      "image 129/1131 /home/yasumasa-tezuka/data_intern/data/images_expansion/images_test/0137.jpg: 448x640 (no detections), 4.4ms\n",
      "image 130/1131 /home/yasumasa-tezuka/data_intern/data/images_expansion/images_test/0138.jpg: 448x640 (no detections), 4.5ms\n",
      "image 131/1131 /home/yasumasa-tezuka/data_intern/data/images_expansion/images_test/0139.jpg: 448x640 (no detections), 4.9ms\n",
      "image 132/1131 /home/yasumasa-tezuka/data_intern/data/images_expansion/images_test/0140.jpg: 640x448 (no detections), 4.7ms\n",
      "image 133/1131 /home/yasumasa-tezuka/data_intern/data/images_expansion/images_test/0141.jpg: 448x640 (no detections), 4.7ms\n",
      "image 134/1131 /home/yasumasa-tezuka/data_intern/data/images_expansion/images_test/0142.jpg: 448x640 (no detections), 4.8ms\n",
      "image 135/1131 /home/yasumasa-tezuka/data_intern/data/images_expansion/images_test/0143.jpg: 448x640 (no detections), 4.4ms\n",
      "image 136/1131 /home/yasumasa-tezuka/data_intern/data/images_expansion/images_test/0144.jpg: 448x640 (no detections), 4.4ms\n",
      "image 137/1131 /home/yasumasa-tezuka/data_intern/data/images_expansion/images_test/0145.jpg: 448x640 (no detections), 4.4ms\n",
      "image 138/1131 /home/yasumasa-tezuka/data_intern/data/images_expansion/images_test/0146.jpg: 448x640 (no detections), 4.5ms\n",
      "image 139/1131 /home/yasumasa-tezuka/data_intern/data/images_expansion/images_test/0147.jpg: 448x640 (no detections), 4.4ms\n",
      "image 140/1131 /home/yasumasa-tezuka/data_intern/data/images_expansion/images_test/0148.jpg: 448x640 (no detections), 4.4ms\n",
      "image 141/1131 /home/yasumasa-tezuka/data_intern/data/images_expansion/images_test/0184.jpg: 416x640 (no detections), 4.8ms\n",
      "image 142/1131 /home/yasumasa-tezuka/data_intern/data/images_expansion/images_test/0185.jpg: 640x448 (no detections), 4.7ms\n",
      "image 143/1131 /home/yasumasa-tezuka/data_intern/data/images_expansion/images_test/0186.jpg: 640x448 (no detections), 4.5ms\n",
      "image 144/1131 /home/yasumasa-tezuka/data_intern/data/images_expansion/images_test/0201.jpg: 448x640 (no detections), 4.8ms\n",
      "image 145/1131 /home/yasumasa-tezuka/data_intern/data/images_expansion/images_test/0202.jpg: 448x640 (no detections), 4.6ms\n",
      "image 146/1131 /home/yasumasa-tezuka/data_intern/data/images_expansion/images_test/0203.jpg: 448x640 (no detections), 4.4ms\n",
      "image 147/1131 /home/yasumasa-tezuka/data_intern/data/images_expansion/images_test/0204.jpg: 448x640 (no detections), 4.6ms\n",
      "image 148/1131 /home/yasumasa-tezuka/data_intern/data/images_expansion/images_test/0205.jpg: 448x640 (no detections), 4.4ms\n",
      "image 149/1131 /home/yasumasa-tezuka/data_intern/data/images_expansion/images_test/0206.jpg: 448x640 (no detections), 4.4ms\n",
      "image 150/1131 /home/yasumasa-tezuka/data_intern/data/images_expansion/images_test/0207.jpg: 448x640 (no detections), 4.5ms\n",
      "image 151/1131 /home/yasumasa-tezuka/data_intern/data/images_expansion/images_test/0208.jpg: 640x448 (no detections), 4.7ms\n",
      "image 152/1131 /home/yasumasa-tezuka/data_intern/data/images_expansion/images_test/0209.jpg: 640x448 (no detections), 4.7ms\n",
      "image 153/1131 /home/yasumasa-tezuka/data_intern/data/images_expansion/images_test/0210.jpg: 640x448 (no detections), 4.4ms\n",
      "image 154/1131 /home/yasumasa-tezuka/data_intern/data/images_expansion/images_test/0211.jpg: 640x448 (no detections), 4.5ms\n",
      "image 155/1131 /home/yasumasa-tezuka/data_intern/data/images_expansion/images_test/0212.jpg: 640x448 (no detections), 4.4ms\n",
      "image 156/1131 /home/yasumasa-tezuka/data_intern/data/images_expansion/images_test/0213.jpg: 448x640 (no detections), 4.8ms\n",
      "image 157/1131 /home/yasumasa-tezuka/data_intern/data/images_expansion/images_test/0214.jpg: 640x448 (no detections), 5.4ms\n",
      "image 158/1131 /home/yasumasa-tezuka/data_intern/data/images_expansion/images_test/0215.jpg: 448x640 (no detections), 5.5ms\n",
      "image 159/1131 /home/yasumasa-tezuka/data_intern/data/images_expansion/images_test/0216.jpg: 448x640 (no detections), 4.5ms\n",
      "image 160/1131 /home/yasumasa-tezuka/data_intern/data/images_expansion/images_test/0217.jpg: 448x640 (no detections), 4.4ms\n",
      "image 161/1131 /home/yasumasa-tezuka/data_intern/data/images_expansion/images_test/0218.jpg: 448x640 (no detections), 4.5ms\n",
      "image 162/1131 /home/yasumasa-tezuka/data_intern/data/images_expansion/images_test/0219.jpg: 640x448 (no detections), 4.9ms\n",
      "image 163/1131 /home/yasumasa-tezuka/data_intern/data/images_expansion/images_test/0220.jpg: 448x640 (no detections), 4.7ms\n",
      "image 164/1131 /home/yasumasa-tezuka/data_intern/data/images_expansion/images_test/0221.jpg: 640x448 (no detections), 4.7ms\n",
      "image 165/1131 /home/yasumasa-tezuka/data_intern/data/images_expansion/images_test/0222.jpg: 640x448 (no detections), 4.5ms\n",
      "image 166/1131 /home/yasumasa-tezuka/data_intern/data/images_expansion/images_test/0223.jpg: 448x640 (no detections), 4.8ms\n",
      "image 167/1131 /home/yasumasa-tezuka/data_intern/data/images_expansion/images_test/0224.jpg: 448x640 (no detections), 4.5ms\n",
      "image 168/1131 /home/yasumasa-tezuka/data_intern/data/images_expansion/images_test/0225.jpg: 640x448 (no detections), 4.7ms\n",
      "image 169/1131 /home/yasumasa-tezuka/data_intern/data/images_expansion/images_test/0226.jpg: 448x640 (no detections), 5.2ms\n",
      "image 170/1131 /home/yasumasa-tezuka/data_intern/data/images_expansion/images_test/0227.jpg: 640x448 (no detections), 4.8ms\n",
      "image 171/1131 /home/yasumasa-tezuka/data_intern/data/images_expansion/images_test/0228.jpg: 448x640 (no detections), 4.7ms\n",
      "image 172/1131 /home/yasumasa-tezuka/data_intern/data/images_expansion/images_test/0229.jpg: 448x640 (no detections), 4.6ms\n",
      "image 173/1131 /home/yasumasa-tezuka/data_intern/data/images_expansion/images_test/0230.jpg: 640x448 (no detections), 4.7ms\n",
      "image 174/1131 /home/yasumasa-tezuka/data_intern/data/images_expansion/images_test/0231.jpg: 448x640 (no detections), 4.7ms\n",
      "image 175/1131 /home/yasumasa-tezuka/data_intern/data/images_expansion/images_test/0232.jpg: 640x448 (no detections), 4.8ms\n",
      "image 176/1131 /home/yasumasa-tezuka/data_intern/data/images_expansion/images_test/0233.jpg: 640x448 (no detections), 4.5ms\n",
      "image 177/1131 /home/yasumasa-tezuka/data_intern/data/images_expansion/images_test/0234.jpg: 640x448 (no detections), 4.5ms\n",
      "image 178/1131 /home/yasumasa-tezuka/data_intern/data/images_expansion/images_test/0235.jpg: 448x640 (no detections), 4.7ms\n",
      "image 179/1131 /home/yasumasa-tezuka/data_intern/data/images_expansion/images_test/0236.jpg: 640x448 (no detections), 4.8ms\n",
      "image 180/1131 /home/yasumasa-tezuka/data_intern/data/images_expansion/images_test/0237.jpg: 448x640 (no detections), 5.4ms\n",
      "image 181/1131 /home/yasumasa-tezuka/data_intern/data/images_expansion/images_test/0238.jpg: 448x640 (no detections), 4.6ms\n",
      "image 182/1131 /home/yasumasa-tezuka/data_intern/data/images_expansion/images_test/0239.jpg: 448x640 (no detections), 4.4ms\n",
      "image 183/1131 /home/yasumasa-tezuka/data_intern/data/images_expansion/images_test/0240.jpg: 448x640 (no detections), 4.4ms\n",
      "image 184/1131 /home/yasumasa-tezuka/data_intern/data/images_expansion/images_test/0241.jpg: 448x640 (no detections), 4.6ms\n",
      "image 185/1131 /home/yasumasa-tezuka/data_intern/data/images_expansion/images_test/0242.jpg: 448x640 (no detections), 4.6ms\n",
      "image 186/1131 /home/yasumasa-tezuka/data_intern/data/images_expansion/images_test/0243.jpg: 448x640 (no detections), 4.4ms\n",
      "image 187/1131 /home/yasumasa-tezuka/data_intern/data/images_expansion/images_test/0244.jpg: 448x640 (no detections), 4.5ms\n",
      "image 188/1131 /home/yasumasa-tezuka/data_intern/data/images_expansion/images_test/0245.jpg: 448x640 (no detections), 4.6ms\n",
      "image 189/1131 /home/yasumasa-tezuka/data_intern/data/images_expansion/images_test/0246.jpg: 448x640 (no detections), 4.5ms\n",
      "image 190/1131 /home/yasumasa-tezuka/data_intern/data/images_expansion/images_test/0247.jpg: 448x640 (no detections), 4.4ms\n",
      "image 191/1131 /home/yasumasa-tezuka/data_intern/data/images_expansion/images_test/0248.jpg: 448x640 (no detections), 4.3ms\n",
      "image 192/1131 /home/yasumasa-tezuka/data_intern/data/images_expansion/images_test/0249.jpg: 640x448 (no detections), 5.0ms\n",
      "image 193/1131 /home/yasumasa-tezuka/data_intern/data/images_expansion/images_test/0250.jpg: 448x640 (no detections), 4.8ms\n",
      "image 194/1131 /home/yasumasa-tezuka/data_intern/data/images_expansion/images_test/0251.jpg: 640x448 (no detections), 4.9ms\n",
      "image 195/1131 /home/yasumasa-tezuka/data_intern/data/images_expansion/images_test/0252.jpg: 448x640 (no detections), 5.2ms\n",
      "image 196/1131 /home/yasumasa-tezuka/data_intern/data/images_expansion/images_test/0253.jpg: 448x640 (no detections), 4.5ms\n",
      "image 197/1131 /home/yasumasa-tezuka/data_intern/data/images_expansion/images_test/0254.jpg: 448x640 (no detections), 4.4ms\n",
      "image 198/1131 /home/yasumasa-tezuka/data_intern/data/images_expansion/images_test/0255.jpg: 448x640 (no detections), 4.6ms\n",
      "image 199/1131 /home/yasumasa-tezuka/data_intern/data/images_expansion/images_test/0256.jpg: 448x640 (no detections), 4.7ms\n",
      "image 200/1131 /home/yasumasa-tezuka/data_intern/data/images_expansion/images_test/0257.jpg: 448x640 (no detections), 4.4ms\n",
      "image 201/1131 /home/yasumasa-tezuka/data_intern/data/images_expansion/images_test/0258.jpg: 448x640 (no detections), 4.5ms\n",
      "image 202/1131 /home/yasumasa-tezuka/data_intern/data/images_expansion/images_test/0259.jpg: 448x640 (no detections), 4.5ms\n",
      "image 203/1131 /home/yasumasa-tezuka/data_intern/data/images_expansion/images_test/0260.jpg: 448x640 (no detections), 4.5ms\n",
      "image 204/1131 /home/yasumasa-tezuka/data_intern/data/images_expansion/images_test/0261.jpg: 448x640 (no detections), 4.4ms\n",
      "image 205/1131 /home/yasumasa-tezuka/data_intern/data/images_expansion/images_test/0262.jpg: 448x640 (no detections), 5.3ms\n",
      "image 206/1131 /home/yasumasa-tezuka/data_intern/data/images_expansion/images_test/0269.jpg: 448x640 (no detections), 4.6ms\n",
      "image 207/1131 /home/yasumasa-tezuka/data_intern/data/images_expansion/images_test/0270.jpg: 448x640 (no detections), 4.4ms\n",
      "image 208/1131 /home/yasumasa-tezuka/data_intern/data/images_expansion/images_test/0271.jpg: 448x640 (no detections), 4.5ms\n",
      "image 209/1131 /home/yasumasa-tezuka/data_intern/data/images_expansion/images_test/0272.jpg: 448x640 (no detections), 4.5ms\n",
      "image 210/1131 /home/yasumasa-tezuka/data_intern/data/images_expansion/images_test/0273.jpg: 448x640 (no detections), 4.5ms\n",
      "image 211/1131 /home/yasumasa-tezuka/data_intern/data/images_expansion/images_test/0274.jpg: 448x640 (no detections), 4.3ms\n",
      "image 212/1131 /home/yasumasa-tezuka/data_intern/data/images_expansion/images_test/0275.jpg: 448x640 (no detections), 4.4ms\n",
      "image 213/1131 /home/yasumasa-tezuka/data_intern/data/images_expansion/images_test/0276.jpg: 448x640 (no detections), 4.6ms\n",
      "image 214/1131 /home/yasumasa-tezuka/data_intern/data/images_expansion/images_test/0277.jpg: 448x640 (no detections), 4.5ms\n",
      "image 215/1131 /home/yasumasa-tezuka/data_intern/data/images_expansion/images_test/0278.jpg: 448x640 (no detections), 4.4ms\n",
      "image 216/1131 /home/yasumasa-tezuka/data_intern/data/images_expansion/images_test/0279.jpg: 448x640 (no detections), 4.4ms\n",
      "image 217/1131 /home/yasumasa-tezuka/data_intern/data/images_expansion/images_test/0280.jpg: 448x640 (no detections), 4.4ms\n",
      "image 218/1131 /home/yasumasa-tezuka/data_intern/data/images_expansion/images_test/0281.jpg: 448x640 (no detections), 4.4ms\n",
      "image 219/1131 /home/yasumasa-tezuka/data_intern/data/images_expansion/images_test/0282.jpg: 448x640 (no detections), 4.4ms\n",
      "image 220/1131 /home/yasumasa-tezuka/data_intern/data/images_expansion/images_test/0283.jpg: 448x640 (no detections), 4.4ms\n",
      "image 221/1131 /home/yasumasa-tezuka/data_intern/data/images_expansion/images_test/0284.jpg: 448x640 (no detections), 4.5ms\n",
      "image 222/1131 /home/yasumasa-tezuka/data_intern/data/images_expansion/images_test/0285.jpg: 448x640 (no detections), 4.4ms\n",
      "image 223/1131 /home/yasumasa-tezuka/data_intern/data/images_expansion/images_test/0287.jpg: 448x640 (no detections), 4.4ms\n",
      "image 224/1131 /home/yasumasa-tezuka/data_intern/data/images_expansion/images_test/0290.jpg: 640x448 (no detections), 4.7ms\n",
      "image 225/1131 /home/yasumasa-tezuka/data_intern/data/images_expansion/images_test/0293.jpg: 448x640 (no detections), 4.8ms\n",
      "image 226/1131 /home/yasumasa-tezuka/data_intern/data/images_expansion/images_test/0295.jpg: 448x640 (no detections), 4.4ms\n",
      "image 227/1131 /home/yasumasa-tezuka/data_intern/data/images_expansion/images_test/0300.jpg: 448x640 (no detections), 4.6ms\n",
      "image 228/1131 /home/yasumasa-tezuka/data_intern/data/images_expansion/images_test/0302.jpg: 448x640 (no detections), 4.6ms\n",
      "image 229/1131 /home/yasumasa-tezuka/data_intern/data/images_expansion/images_test/0305.jpg: 448x640 (no detections), 4.4ms\n",
      "image 230/1131 /home/yasumasa-tezuka/data_intern/data/images_expansion/images_test/0307.jpg: 448x640 (no detections), 4.6ms\n",
      "image 231/1131 /home/yasumasa-tezuka/data_intern/data/images_expansion/images_test/0309.jpg: 448x640 (no detections), 4.6ms\n",
      "image 232/1131 /home/yasumasa-tezuka/data_intern/data/images_expansion/images_test/0311.jpg: 448x640 (no detections), 4.6ms\n",
      "image 233/1131 /home/yasumasa-tezuka/data_intern/data/images_expansion/images_test/0312.jpg: 448x640 (no detections), 4.5ms\n",
      "image 234/1131 /home/yasumasa-tezuka/data_intern/data/images_expansion/images_test/0313.jpg: 448x640 (no detections), 4.5ms\n",
      "image 235/1131 /home/yasumasa-tezuka/data_intern/data/images_expansion/images_test/0314.jpg: 448x640 (no detections), 4.4ms\n",
      "image 236/1131 /home/yasumasa-tezuka/data_intern/data/images_expansion/images_test/0315.jpg: 448x640 (no detections), 4.7ms\n",
      "image 237/1131 /home/yasumasa-tezuka/data_intern/data/images_expansion/images_test/0316.jpg: 448x640 (no detections), 4.4ms\n",
      "image 238/1131 /home/yasumasa-tezuka/data_intern/data/images_expansion/images_test/0317.jpg: 448x640 (no detections), 4.4ms\n",
      "image 239/1131 /home/yasumasa-tezuka/data_intern/data/images_expansion/images_test/0318.jpg: 448x640 (no detections), 4.5ms\n",
      "image 240/1131 /home/yasumasa-tezuka/data_intern/data/images_expansion/images_test/0319.jpg: 448x640 (no detections), 4.3ms\n",
      "image 241/1131 /home/yasumasa-tezuka/data_intern/data/images_expansion/images_test/0320.jpg: 448x640 (no detections), 6.1ms\n",
      "image 242/1131 /home/yasumasa-tezuka/data_intern/data/images_expansion/images_test/0321.jpg: 448x640 (no detections), 4.4ms\n",
      "image 243/1131 /home/yasumasa-tezuka/data_intern/data/images_expansion/images_test/0322.jpg: 640x448 (no detections), 4.8ms\n",
      "image 244/1131 /home/yasumasa-tezuka/data_intern/data/images_expansion/images_test/0323.jpg: 448x640 (no detections), 4.8ms\n",
      "image 245/1131 /home/yasumasa-tezuka/data_intern/data/images_expansion/images_test/0324.jpg: 640x448 (no detections), 4.7ms\n",
      "image 246/1131 /home/yasumasa-tezuka/data_intern/data/images_expansion/images_test/0325.jpg: 448x640 (no detections), 4.7ms\n",
      "image 247/1131 /home/yasumasa-tezuka/data_intern/data/images_expansion/images_test/0326.jpg: 448x640 1 tree, 4.5ms\n",
      "image 248/1131 /home/yasumasa-tezuka/data_intern/data/images_expansion/images_test/0327.jpg: 448x640 (no detections), 4.4ms\n",
      "image 249/1131 /home/yasumasa-tezuka/data_intern/data/images_expansion/images_test/0328.jpg: 448x640 (no detections), 6.2ms\n",
      "image 250/1131 /home/yasumasa-tezuka/data_intern/data/images_expansion/images_test/0329.jpg: 448x640 (no detections), 4.5ms\n",
      "image 251/1131 /home/yasumasa-tezuka/data_intern/data/images_expansion/images_test/0330.jpg: 448x640 (no detections), 4.4ms\n",
      "image 252/1131 /home/yasumasa-tezuka/data_intern/data/images_expansion/images_test/0331.jpg: 448x640 (no detections), 4.5ms\n",
      "image 253/1131 /home/yasumasa-tezuka/data_intern/data/images_expansion/images_test/0332.jpg: 448x640 (no detections), 4.6ms\n",
      "image 254/1131 /home/yasumasa-tezuka/data_intern/data/images_expansion/images_test/0333.jpg: 640x448 (no detections), 6.1ms\n",
      "image 255/1131 /home/yasumasa-tezuka/data_intern/data/images_expansion/images_test/0334.jpg: 448x640 (no detections), 5.2ms\n",
      "image 256/1131 /home/yasumasa-tezuka/data_intern/data/images_expansion/images_test/0335.jpg: 448x640 (no detections), 4.5ms\n",
      "image 257/1131 /home/yasumasa-tezuka/data_intern/data/images_expansion/images_test/0336.jpg: 448x640 (no detections), 4.5ms\n",
      "image 258/1131 /home/yasumasa-tezuka/data_intern/data/images_expansion/images_test/0337.jpg: 448x640 (no detections), 4.4ms\n",
      "image 259/1131 /home/yasumasa-tezuka/data_intern/data/images_expansion/images_test/0338.jpg: 448x640 (no detections), 4.4ms\n",
      "image 260/1131 /home/yasumasa-tezuka/data_intern/data/images_expansion/images_test/0339.jpg: 640x448 (no detections), 5.1ms\n",
      "image 261/1131 /home/yasumasa-tezuka/data_intern/data/images_expansion/images_test/0340.jpg: 448x640 (no detections), 5.3ms\n",
      "image 262/1131 /home/yasumasa-tezuka/data_intern/data/images_expansion/images_test/0341.jpg: 448x640 (no detections), 4.5ms\n",
      "image 263/1131 /home/yasumasa-tezuka/data_intern/data/images_expansion/images_test/0342.jpg: 448x640 (no detections), 6.1ms\n",
      "image 264/1131 /home/yasumasa-tezuka/data_intern/data/images_expansion/images_test/0343.jpg: 640x448 (no detections), 4.8ms\n",
      "image 265/1131 /home/yasumasa-tezuka/data_intern/data/images_expansion/images_test/0344.jpg: 448x640 2 trees, 4.7ms\n",
      "image 266/1131 /home/yasumasa-tezuka/data_intern/data/images_expansion/images_test/0345.jpg: 448x640 (no detections), 4.4ms\n",
      "image 267/1131 /home/yasumasa-tezuka/data_intern/data/images_expansion/images_test/0346.jpg: 448x640 (no detections), 4.4ms\n",
      "image 268/1131 /home/yasumasa-tezuka/data_intern/data/images_expansion/images_test/0347.jpg: 640x448 (no detections), 4.7ms\n",
      "image 269/1131 /home/yasumasa-tezuka/data_intern/data/images_expansion/images_test/0348.jpg: 448x640 (no detections), 4.7ms\n",
      "image 270/1131 /home/yasumasa-tezuka/data_intern/data/images_expansion/images_test/0349.jpg: 448x640 (no detections), 4.5ms\n",
      "image 271/1131 /home/yasumasa-tezuka/data_intern/data/images_expansion/images_test/0350.jpg: 448x640 (no detections), 4.4ms\n",
      "image 272/1131 /home/yasumasa-tezuka/data_intern/data/images_expansion/images_test/0351.jpg: 640x448 (no detections), 4.7ms\n",
      "image 273/1131 /home/yasumasa-tezuka/data_intern/data/images_expansion/images_test/0352.jpg: 448x640 (no detections), 4.7ms\n",
      "image 274/1131 /home/yasumasa-tezuka/data_intern/data/images_expansion/images_test/0353.jpg: 448x640 (no detections), 4.5ms\n",
      "image 275/1131 /home/yasumasa-tezuka/data_intern/data/images_expansion/images_test/0354.jpg: 640x448 (no detections), 4.7ms\n",
      "image 276/1131 /home/yasumasa-tezuka/data_intern/data/images_expansion/images_test/0355.jpg: 640x448 (no detections), 4.5ms\n",
      "image 277/1131 /home/yasumasa-tezuka/data_intern/data/images_expansion/images_test/0356.jpg: 640x448 (no detections), 4.4ms\n",
      "image 278/1131 /home/yasumasa-tezuka/data_intern/data/images_expansion/images_test/0357.jpg: 448x640 (no detections), 4.7ms\n",
      "image 279/1131 /home/yasumasa-tezuka/data_intern/data/images_expansion/images_test/0358.jpg: 448x640 (no detections), 4.4ms\n",
      "image 280/1131 /home/yasumasa-tezuka/data_intern/data/images_expansion/images_test/0359.jpg: 448x640 (no detections), 4.5ms\n",
      "image 281/1131 /home/yasumasa-tezuka/data_intern/data/images_expansion/images_test/0360.jpg: 448x640 (no detections), 4.4ms\n",
      "image 282/1131 /home/yasumasa-tezuka/data_intern/data/images_expansion/images_test/0361.jpg: 448x640 (no detections), 4.4ms\n",
      "image 283/1131 /home/yasumasa-tezuka/data_intern/data/images_expansion/images_test/0362.jpg: 448x640 (no detections), 4.7ms\n",
      "image 284/1131 /home/yasumasa-tezuka/data_intern/data/images_expansion/images_test/0363.jpg: 448x640 (no detections), 4.9ms\n",
      "image 285/1131 /home/yasumasa-tezuka/data_intern/data/images_expansion/images_test/0364.jpg: 448x640 (no detections), 4.5ms\n",
      "image 286/1131 /home/yasumasa-tezuka/data_intern/data/images_expansion/images_test/0365.jpg: 448x640 (no detections), 5.0ms\n",
      "image 287/1131 /home/yasumasa-tezuka/data_intern/data/images_expansion/images_test/0366.jpg: 448x640 (no detections), 4.7ms\n",
      "image 288/1131 /home/yasumasa-tezuka/data_intern/data/images_expansion/images_test/0367.jpg: 448x640 (no detections), 4.4ms\n",
      "image 289/1131 /home/yasumasa-tezuka/data_intern/data/images_expansion/images_test/0368.jpg: 448x640 (no detections), 5.4ms\n",
      "image 290/1131 /home/yasumasa-tezuka/data_intern/data/images_expansion/images_test/0369.jpg: 640x448 (no detections), 5.1ms\n",
      "image 291/1131 /home/yasumasa-tezuka/data_intern/data/images_expansion/images_test/0370.jpg: 448x640 (no detections), 4.9ms\n",
      "image 292/1131 /home/yasumasa-tezuka/data_intern/data/images_expansion/images_test/0371.jpg: 448x640 (no detections), 4.3ms\n",
      "image 293/1131 /home/yasumasa-tezuka/data_intern/data/images_expansion/images_test/0372.jpg: 448x640 (no detections), 4.6ms\n",
      "image 294/1131 /home/yasumasa-tezuka/data_intern/data/images_expansion/images_test/0373.jpg: 448x640 (no detections), 4.7ms\n",
      "image 295/1131 /home/yasumasa-tezuka/data_intern/data/images_expansion/images_test/0374.jpg: 448x640 (no detections), 6.6ms\n",
      "image 296/1131 /home/yasumasa-tezuka/data_intern/data/images_expansion/images_test/0375.jpg: 448x640 (no detections), 4.3ms\n",
      "image 297/1131 /home/yasumasa-tezuka/data_intern/data/images_expansion/images_test/0376.jpg: 448x640 (no detections), 4.4ms\n",
      "image 298/1131 /home/yasumasa-tezuka/data_intern/data/images_expansion/images_test/0377.jpg: 448x640 (no detections), 4.4ms\n",
      "image 299/1131 /home/yasumasa-tezuka/data_intern/data/images_expansion/images_test/0378.jpg: 448x640 (no detections), 4.4ms\n",
      "image 300/1131 /home/yasumasa-tezuka/data_intern/data/images_expansion/images_test/0379.jpg: 448x640 (no detections), 5.6ms\n",
      "image 301/1131 /home/yasumasa-tezuka/data_intern/data/images_expansion/images_test/0380.jpg: 448x640 (no detections), 4.7ms\n",
      "image 302/1131 /home/yasumasa-tezuka/data_intern/data/images_expansion/images_test/0381.jpg: 448x640 (no detections), 4.4ms\n",
      "image 303/1131 /home/yasumasa-tezuka/data_intern/data/images_expansion/images_test/0382.jpg: 448x640 (no detections), 4.4ms\n",
      "image 304/1131 /home/yasumasa-tezuka/data_intern/data/images_expansion/images_test/0383.jpg: 448x640 (no detections), 4.9ms\n",
      "image 305/1131 /home/yasumasa-tezuka/data_intern/data/images_expansion/images_test/0384.jpg: 448x640 (no detections), 4.5ms\n",
      "image 306/1131 /home/yasumasa-tezuka/data_intern/data/images_expansion/images_test/0385.jpg: 448x640 (no detections), 4.5ms\n",
      "image 307/1131 /home/yasumasa-tezuka/data_intern/data/images_expansion/images_test/0386.jpg: 448x640 (no detections), 4.4ms\n",
      "image 308/1131 /home/yasumasa-tezuka/data_intern/data/images_expansion/images_test/0387.jpg: 448x640 (no detections), 4.6ms\n",
      "image 309/1131 /home/yasumasa-tezuka/data_intern/data/images_expansion/images_test/0388.jpg: 448x640 (no detections), 4.4ms\n",
      "image 310/1131 /home/yasumasa-tezuka/data_intern/data/images_expansion/images_test/0389.jpg: 448x640 (no detections), 4.4ms\n",
      "image 311/1131 /home/yasumasa-tezuka/data_intern/data/images_expansion/images_test/0390.jpg: 448x640 (no detections), 4.5ms\n",
      "image 312/1131 /home/yasumasa-tezuka/data_intern/data/images_expansion/images_test/0391.jpg: 448x640 (no detections), 4.8ms\n",
      "image 313/1131 /home/yasumasa-tezuka/data_intern/data/images_expansion/images_test/0392.jpg: 448x640 (no detections), 4.4ms\n",
      "image 314/1131 /home/yasumasa-tezuka/data_intern/data/images_expansion/images_test/0393.jpg: 448x640 (no detections), 4.5ms\n",
      "image 315/1131 /home/yasumasa-tezuka/data_intern/data/images_expansion/images_test/0394.jpg: 448x640 (no detections), 4.5ms\n",
      "image 316/1131 /home/yasumasa-tezuka/data_intern/data/images_expansion/images_test/0395.jpg: 448x640 (no detections), 4.4ms\n",
      "image 317/1131 /home/yasumasa-tezuka/data_intern/data/images_expansion/images_test/0396.jpg: 448x640 (no detections), 4.4ms\n",
      "image 318/1131 /home/yasumasa-tezuka/data_intern/data/images_expansion/images_test/0397.jpg: 448x640 (no detections), 4.4ms\n",
      "image 319/1131 /home/yasumasa-tezuka/data_intern/data/images_expansion/images_test/0398.jpg: 448x640 (no detections), 4.5ms\n",
      "image 320/1131 /home/yasumasa-tezuka/data_intern/data/images_expansion/images_test/0399.jpg: 448x640 (no detections), 4.5ms\n",
      "image 321/1131 /home/yasumasa-tezuka/data_intern/data/images_expansion/images_test/0400.jpg: 448x640 (no detections), 4.4ms\n",
      "image 322/1131 /home/yasumasa-tezuka/data_intern/data/images_expansion/images_test/0401.jpg: 448x640 (no detections), 4.5ms\n",
      "image 323/1131 /home/yasumasa-tezuka/data_intern/data/images_expansion/images_test/0402.jpg: 448x640 (no detections), 4.5ms\n",
      "image 324/1131 /home/yasumasa-tezuka/data_intern/data/images_expansion/images_test/0403.jpg: 448x640 (no detections), 4.9ms\n",
      "image 325/1131 /home/yasumasa-tezuka/data_intern/data/images_expansion/images_test/0404.jpg: 448x640 (no detections), 4.4ms\n",
      "image 326/1131 /home/yasumasa-tezuka/data_intern/data/images_expansion/images_test/0405.jpg: 448x640 (no detections), 4.6ms\n",
      "image 327/1131 /home/yasumasa-tezuka/data_intern/data/images_expansion/images_test/0406.jpg: 448x640 (no detections), 4.4ms\n",
      "image 328/1131 /home/yasumasa-tezuka/data_intern/data/images_expansion/images_test/0407.jpg: 448x640 (no detections), 4.4ms\n",
      "image 329/1131 /home/yasumasa-tezuka/data_intern/data/images_expansion/images_test/0408.jpg: 448x640 (no detections), 4.4ms\n",
      "image 330/1131 /home/yasumasa-tezuka/data_intern/data/images_expansion/images_test/0409.jpg: 448x640 (no detections), 4.4ms\n",
      "image 331/1131 /home/yasumasa-tezuka/data_intern/data/images_expansion/images_test/0410.jpg: 448x640 (no detections), 4.6ms\n",
      "image 332/1131 /home/yasumasa-tezuka/data_intern/data/images_expansion/images_test/0411.jpg: 448x640 (no detections), 4.4ms\n",
      "image 333/1131 /home/yasumasa-tezuka/data_intern/data/images_expansion/images_test/0412.jpg: 448x640 (no detections), 4.5ms\n",
      "image 334/1131 /home/yasumasa-tezuka/data_intern/data/images_expansion/images_test/0413.jpg: 448x640 (no detections), 4.7ms\n",
      "image 335/1131 /home/yasumasa-tezuka/data_intern/data/images_expansion/images_test/0414.jpg: 448x640 (no detections), 4.6ms\n",
      "image 336/1131 /home/yasumasa-tezuka/data_intern/data/images_expansion/images_test/0415.jpg: 448x640 (no detections), 4.7ms\n",
      "image 337/1131 /home/yasumasa-tezuka/data_intern/data/images_expansion/images_test/0416.jpg: 448x640 (no detections), 4.4ms\n",
      "image 338/1131 /home/yasumasa-tezuka/data_intern/data/images_expansion/images_test/0417.jpg: 448x640 (no detections), 4.4ms\n",
      "image 339/1131 /home/yasumasa-tezuka/data_intern/data/images_expansion/images_test/0418.jpg: 640x448 (no detections), 4.7ms\n",
      "image 340/1131 /home/yasumasa-tezuka/data_intern/data/images_expansion/images_test/0419.jpg: 448x640 (no detections), 4.8ms\n",
      "image 341/1131 /home/yasumasa-tezuka/data_intern/data/images_expansion/images_test/0420.jpg: 448x640 (no detections), 4.6ms\n",
      "image 342/1131 /home/yasumasa-tezuka/data_intern/data/images_expansion/images_test/0421.jpg: 448x640 (no detections), 4.6ms\n",
      "image 343/1131 /home/yasumasa-tezuka/data_intern/data/images_expansion/images_test/0422.jpg: 448x640 (no detections), 4.4ms\n",
      "image 344/1131 /home/yasumasa-tezuka/data_intern/data/images_expansion/images_test/0423.jpg: 448x640 (no detections), 4.4ms\n",
      "image 345/1131 /home/yasumasa-tezuka/data_intern/data/images_expansion/images_test/0424.jpg: 448x640 (no detections), 4.6ms\n",
      "image 346/1131 /home/yasumasa-tezuka/data_intern/data/images_expansion/images_test/0425.jpg: 448x640 (no detections), 4.4ms\n",
      "image 347/1131 /home/yasumasa-tezuka/data_intern/data/images_expansion/images_test/0426.jpg: 448x640 (no detections), 5.0ms\n",
      "image 348/1131 /home/yasumasa-tezuka/data_intern/data/images_expansion/images_test/0427.jpg: 448x640 (no detections), 4.4ms\n",
      "image 349/1131 /home/yasumasa-tezuka/data_intern/data/images_expansion/images_test/0428.jpg: 448x640 (no detections), 4.5ms\n",
      "image 350/1131 /home/yasumasa-tezuka/data_intern/data/images_expansion/images_test/0429.jpg: 448x640 (no detections), 4.4ms\n",
      "image 351/1131 /home/yasumasa-tezuka/data_intern/data/images_expansion/images_test/0430.jpg: 448x640 (no detections), 4.5ms\n",
      "image 352/1131 /home/yasumasa-tezuka/data_intern/data/images_expansion/images_test/0431.jpg: 448x640 (no detections), 4.7ms\n",
      "image 353/1131 /home/yasumasa-tezuka/data_intern/data/images_expansion/images_test/0432.jpg: 448x640 (no detections), 4.4ms\n",
      "image 354/1131 /home/yasumasa-tezuka/data_intern/data/images_expansion/images_test/0433.jpg: 448x640 (no detections), 4.7ms\n",
      "image 355/1131 /home/yasumasa-tezuka/data_intern/data/images_expansion/images_test/0434.jpg: 448x640 (no detections), 5.7ms\n",
      "image 356/1131 /home/yasumasa-tezuka/data_intern/data/images_expansion/images_test/0435.jpg: 448x640 (no detections), 4.4ms\n",
      "image 357/1131 /home/yasumasa-tezuka/data_intern/data/images_expansion/images_test/0436.jpg: 448x640 (no detections), 4.5ms\n",
      "image 358/1131 /home/yasumasa-tezuka/data_intern/data/images_expansion/images_test/0437.jpg: 448x640 (no detections), 5.1ms\n",
      "image 359/1131 /home/yasumasa-tezuka/data_intern/data/images_expansion/images_test/0438.jpg: 448x640 (no detections), 5.0ms\n",
      "image 360/1131 /home/yasumasa-tezuka/data_intern/data/images_expansion/images_test/0439.jpg: 448x640 (no detections), 5.6ms\n",
      "image 361/1131 /home/yasumasa-tezuka/data_intern/data/images_expansion/images_test/0440.jpg: 448x640 (no detections), 4.4ms\n",
      "image 362/1131 /home/yasumasa-tezuka/data_intern/data/images_expansion/images_test/0441.jpg: 448x640 (no detections), 4.5ms\n",
      "image 363/1131 /home/yasumasa-tezuka/data_intern/data/images_expansion/images_test/0442.jpg: 448x640 (no detections), 4.4ms\n",
      "image 364/1131 /home/yasumasa-tezuka/data_intern/data/images_expansion/images_test/0443.jpg: 448x640 (no detections), 4.4ms\n",
      "image 365/1131 /home/yasumasa-tezuka/data_intern/data/images_expansion/images_test/0444.jpg: 448x640 (no detections), 4.7ms\n",
      "image 366/1131 /home/yasumasa-tezuka/data_intern/data/images_expansion/images_test/0445.jpg: 448x640 (no detections), 4.4ms\n",
      "image 367/1131 /home/yasumasa-tezuka/data_intern/data/images_expansion/images_test/0446.jpg: 448x640 (no detections), 4.5ms\n",
      "image 368/1131 /home/yasumasa-tezuka/data_intern/data/images_expansion/images_test/0447.jpg: 448x640 (no detections), 4.5ms\n",
      "image 369/1131 /home/yasumasa-tezuka/data_intern/data/images_expansion/images_test/0448.jpg: 448x640 (no detections), 4.5ms\n",
      "image 370/1131 /home/yasumasa-tezuka/data_intern/data/images_expansion/images_test/0449.jpg: 448x640 (no detections), 4.6ms\n",
      "image 371/1131 /home/yasumasa-tezuka/data_intern/data/images_expansion/images_test/0450.jpg: 448x640 (no detections), 4.6ms\n",
      "image 372/1131 /home/yasumasa-tezuka/data_intern/data/images_expansion/images_test/0451.jpg: 448x640 (no detections), 4.4ms\n",
      "image 373/1131 /home/yasumasa-tezuka/data_intern/data/images_expansion/images_test/0452.jpg: 448x640 (no detections), 5.0ms\n",
      "image 374/1131 /home/yasumasa-tezuka/data_intern/data/images_expansion/images_test/0453.jpg: 448x640 (no detections), 4.4ms\n",
      "image 375/1131 /home/yasumasa-tezuka/data_intern/data/images_expansion/images_test/0454.jpg: 448x640 (no detections), 4.4ms\n",
      "image 376/1131 /home/yasumasa-tezuka/data_intern/data/images_expansion/images_test/0455.jpg: 448x640 (no detections), 4.5ms\n",
      "image 377/1131 /home/yasumasa-tezuka/data_intern/data/images_expansion/images_test/0456.jpg: 448x640 (no detections), 4.5ms\n",
      "image 378/1131 /home/yasumasa-tezuka/data_intern/data/images_expansion/images_test/0457.jpg: 448x640 (no detections), 4.6ms\n",
      "image 379/1131 /home/yasumasa-tezuka/data_intern/data/images_expansion/images_test/0458.jpg: 640x448 (no detections), 4.8ms\n",
      "image 380/1131 /home/yasumasa-tezuka/data_intern/data/images_expansion/images_test/0459.jpg: 448x640 (no detections), 4.7ms\n",
      "image 381/1131 /home/yasumasa-tezuka/data_intern/data/images_expansion/images_test/0460.jpg: 448x640 (no detections), 4.8ms\n",
      "image 382/1131 /home/yasumasa-tezuka/data_intern/data/images_expansion/images_test/0461.jpg: 448x640 (no detections), 4.5ms\n",
      "image 383/1131 /home/yasumasa-tezuka/data_intern/data/images_expansion/images_test/0462.jpg: 448x640 (no detections), 4.4ms\n",
      "image 384/1131 /home/yasumasa-tezuka/data_intern/data/images_expansion/images_test/0463.jpg: 448x640 (no detections), 4.6ms\n",
      "image 385/1131 /home/yasumasa-tezuka/data_intern/data/images_expansion/images_test/0464.jpg: 448x640 (no detections), 4.9ms\n",
      "image 386/1131 /home/yasumasa-tezuka/data_intern/data/images_expansion/images_test/0465.jpg: 448x640 (no detections), 4.6ms\n",
      "image 387/1131 /home/yasumasa-tezuka/data_intern/data/images_expansion/images_test/0466.jpg: 448x640 (no detections), 4.7ms\n",
      "image 388/1131 /home/yasumasa-tezuka/data_intern/data/images_expansion/images_test/0467.jpg: 448x640 (no detections), 4.7ms\n",
      "image 389/1131 /home/yasumasa-tezuka/data_intern/data/images_expansion/images_test/0468.jpg: 448x640 (no detections), 4.4ms\n",
      "image 390/1131 /home/yasumasa-tezuka/data_intern/data/images_expansion/images_test/0469.jpg: 448x640 (no detections), 4.6ms\n",
      "image 391/1131 /home/yasumasa-tezuka/data_intern/data/images_expansion/images_test/0470.jpg: 448x640 (no detections), 4.4ms\n",
      "image 392/1131 /home/yasumasa-tezuka/data_intern/data/images_expansion/images_test/0471.jpg: 448x640 (no detections), 6.1ms\n",
      "image 393/1131 /home/yasumasa-tezuka/data_intern/data/images_expansion/images_test/0472.jpg: 448x640 (no detections), 4.5ms\n",
      "image 394/1131 /home/yasumasa-tezuka/data_intern/data/images_expansion/images_test/0473.jpg: 448x640 (no detections), 4.4ms\n",
      "image 395/1131 /home/yasumasa-tezuka/data_intern/data/images_expansion/images_test/0474.jpg: 448x640 (no detections), 4.7ms\n",
      "image 396/1131 /home/yasumasa-tezuka/data_intern/data/images_expansion/images_test/0475.jpg: 448x640 (no detections), 4.4ms\n",
      "image 397/1131 /home/yasumasa-tezuka/data_intern/data/images_expansion/images_test/0476.jpg: 640x448 (no detections), 4.7ms\n",
      "image 398/1131 /home/yasumasa-tezuka/data_intern/data/images_expansion/images_test/0477.jpg: 192x640 (no detections), 57.9ms\n",
      "image 399/1131 /home/yasumasa-tezuka/data_intern/data/images_expansion/images_test/0478.jpg: 256x640 (no detections), 57.9ms\n",
      "image 400/1131 /home/yasumasa-tezuka/data_intern/data/images_expansion/images_test/0479.jpg: 224x640 (no detections), 55.8ms\n",
      "image 401/1131 /home/yasumasa-tezuka/data_intern/data/images_expansion/images_test/0480.jpg: 320x640 (no detections), 57.6ms\n",
      "image 402/1131 /home/yasumasa-tezuka/data_intern/data/images_expansion/images_test/0481.jpg: 192x640 (no detections), 5.0ms\n",
      "image 403/1131 /home/yasumasa-tezuka/data_intern/data/images_expansion/images_test/0483.jpg: 448x640 (no detections), 5.3ms\n",
      "image 404/1131 /home/yasumasa-tezuka/data_intern/data/images_expansion/images_test/0484.jpg: 448x640 (no detections), 4.6ms\n",
      "image 405/1131 /home/yasumasa-tezuka/data_intern/data/images_expansion/images_test/0486.jpg: 640x448 (no detections), 4.9ms\n",
      "image 406/1131 /home/yasumasa-tezuka/data_intern/data/images_expansion/images_test/0487.jpg: 448x640 (no detections), 5.1ms\n",
      "image 407/1131 /home/yasumasa-tezuka/data_intern/data/images_expansion/images_test/0488.jpg: 448x640 (no detections), 4.6ms\n",
      "image 408/1131 /home/yasumasa-tezuka/data_intern/data/images_expansion/images_test/0489.jpg: 448x640 (no detections), 4.6ms\n",
      "image 409/1131 /home/yasumasa-tezuka/data_intern/data/images_expansion/images_test/0490.jpg: 448x640 (no detections), 4.8ms\n",
      "image 410/1131 /home/yasumasa-tezuka/data_intern/data/images_expansion/images_test/0491.jpg: 448x640 (no detections), 4.6ms\n",
      "image 411/1131 /home/yasumasa-tezuka/data_intern/data/images_expansion/images_test/0492.jpg: 448x640 (no detections), 4.9ms\n",
      "image 412/1131 /home/yasumasa-tezuka/data_intern/data/images_expansion/images_test/0493.jpg: 448x640 (no detections), 4.7ms\n",
      "image 413/1131 /home/yasumasa-tezuka/data_intern/data/images_expansion/images_test/0494.jpg: 640x448 (no detections), 5.1ms\n",
      "image 414/1131 /home/yasumasa-tezuka/data_intern/data/images_expansion/images_test/0495.jpg: 640x448 (no detections), 4.7ms\n",
      "image 415/1131 /home/yasumasa-tezuka/data_intern/data/images_expansion/images_test/0496.jpg: 640x448 (no detections), 4.6ms\n",
      "image 416/1131 /home/yasumasa-tezuka/data_intern/data/images_expansion/images_test/0497.jpg: 448x640 (no detections), 5.0ms\n",
      "image 417/1131 /home/yasumasa-tezuka/data_intern/data/images_expansion/images_test/0498.jpg: 448x640 (no detections), 4.6ms\n",
      "image 418/1131 /home/yasumasa-tezuka/data_intern/data/images_expansion/images_test/0499.jpg: 448x640 (no detections), 4.6ms\n",
      "image 419/1131 /home/yasumasa-tezuka/data_intern/data/images_expansion/images_test/0500.jpg: 448x640 (no detections), 4.7ms\n",
      "image 420/1131 /home/yasumasa-tezuka/data_intern/data/images_expansion/images_test/0501.jpg: 448x640 (no detections), 4.8ms\n",
      "image 421/1131 /home/yasumasa-tezuka/data_intern/data/images_expansion/images_test/0502.jpg: 640x448 (no detections), 5.9ms\n",
      "image 422/1131 /home/yasumasa-tezuka/data_intern/data/images_expansion/images_test/0503.jpg: 448x640 (no detections), 5.0ms\n",
      "image 423/1131 /home/yasumasa-tezuka/data_intern/data/images_expansion/images_test/0504.jpg: 448x640 (no detections), 4.6ms\n",
      "image 424/1131 /home/yasumasa-tezuka/data_intern/data/images_expansion/images_test/0505.jpg: 448x640 (no detections), 4.7ms\n",
      "image 425/1131 /home/yasumasa-tezuka/data_intern/data/images_expansion/images_test/0506.jpg: 448x640 (no detections), 4.6ms\n",
      "image 426/1131 /home/yasumasa-tezuka/data_intern/data/images_expansion/images_test/0507.jpg: 448x640 (no detections), 4.7ms\n",
      "image 427/1131 /home/yasumasa-tezuka/data_intern/data/images_expansion/images_test/0508.jpg: 448x640 (no detections), 4.8ms\n",
      "image 428/1131 /home/yasumasa-tezuka/data_intern/data/images_expansion/images_test/0509.jpg: 448x640 (no detections), 4.8ms\n",
      "image 429/1131 /home/yasumasa-tezuka/data_intern/data/images_expansion/images_test/0510.jpg: 448x640 (no detections), 4.7ms\n",
      "image 430/1131 /home/yasumasa-tezuka/data_intern/data/images_expansion/images_test/0511.jpg: 448x640 (no detections), 4.7ms\n",
      "image 431/1131 /home/yasumasa-tezuka/data_intern/data/images_expansion/images_test/0512.jpg: 448x640 (no detections), 4.6ms\n",
      "image 432/1131 /home/yasumasa-tezuka/data_intern/data/images_expansion/images_test/0513.jpg: 448x640 (no detections), 4.7ms\n",
      "image 433/1131 /home/yasumasa-tezuka/data_intern/data/images_expansion/images_test/0514.jpg: 448x640 (no detections), 4.7ms\n",
      "image 434/1131 /home/yasumasa-tezuka/data_intern/data/images_expansion/images_test/0515.jpg: 448x640 (no detections), 4.8ms\n",
      "image 435/1131 /home/yasumasa-tezuka/data_intern/data/images_expansion/images_test/0516.jpg: 640x448 (no detections), 5.0ms\n",
      "image 436/1131 /home/yasumasa-tezuka/data_intern/data/images_expansion/images_test/0517.jpg: 448x640 (no detections), 5.0ms\n",
      "image 437/1131 /home/yasumasa-tezuka/data_intern/data/images_expansion/images_test/0518.jpg: 640x448 (no detections), 5.0ms\n",
      "image 438/1131 /home/yasumasa-tezuka/data_intern/data/images_expansion/images_test/0519.jpg: 640x448 (no detections), 4.8ms\n",
      "image 439/1131 /home/yasumasa-tezuka/data_intern/data/images_expansion/images_test/0520.jpg: 448x640 (no detections), 5.0ms\n",
      "image 440/1131 /home/yasumasa-tezuka/data_intern/data/images_expansion/images_test/0521.jpg: 640x448 (no detections), 5.0ms\n",
      "image 441/1131 /home/yasumasa-tezuka/data_intern/data/images_expansion/images_test/0522.jpg: 640x448 (no detections), 4.7ms\n",
      "image 442/1131 /home/yasumasa-tezuka/data_intern/data/images_expansion/images_test/0523.jpg: 448x640 (no detections), 5.2ms\n",
      "image 443/1131 /home/yasumasa-tezuka/data_intern/data/images_expansion/images_test/0524.jpg: 448x640 (no detections), 4.7ms\n",
      "image 444/1131 /home/yasumasa-tezuka/data_intern/data/images_expansion/images_test/0525.jpg: 448x640 (no detections), 4.6ms\n",
      "image 445/1131 /home/yasumasa-tezuka/data_intern/data/images_expansion/images_test/0526.jpg: 448x640 (no detections), 4.7ms\n",
      "image 446/1131 /home/yasumasa-tezuka/data_intern/data/images_expansion/images_test/0527.jpg: 448x640 (no detections), 4.8ms\n",
      "image 447/1131 /home/yasumasa-tezuka/data_intern/data/images_expansion/images_test/0528.jpg: 640x448 (no detections), 4.9ms\n",
      "image 448/1131 /home/yasumasa-tezuka/data_intern/data/images_expansion/images_test/0529.jpg: 640x448 (no detections), 4.7ms\n",
      "image 449/1131 /home/yasumasa-tezuka/data_intern/data/images_expansion/images_test/0530.jpg: 448x640 (no detections), 5.0ms\n",
      "image 450/1131 /home/yasumasa-tezuka/data_intern/data/images_expansion/images_test/0531.jpg: 448x640 (no detections), 4.7ms\n",
      "image 451/1131 /home/yasumasa-tezuka/data_intern/data/images_expansion/images_test/0532.jpg: 448x640 (no detections), 4.8ms\n",
      "image 452/1131 /home/yasumasa-tezuka/data_intern/data/images_expansion/images_test/0533.jpg: 448x640 (no detections), 4.7ms\n",
      "image 453/1131 /home/yasumasa-tezuka/data_intern/data/images_expansion/images_test/0534.jpg: 448x640 (no detections), 4.7ms\n",
      "image 454/1131 /home/yasumasa-tezuka/data_intern/data/images_expansion/images_test/0535.jpg: 448x640 (no detections), 4.6ms\n",
      "image 455/1131 /home/yasumasa-tezuka/data_intern/data/images_expansion/images_test/0536.jpg: 448x640 (no detections), 4.7ms\n",
      "image 456/1131 /home/yasumasa-tezuka/data_intern/data/images_expansion/images_test/0537.jpg: 448x640 (no detections), 4.6ms\n",
      "image 457/1131 /home/yasumasa-tezuka/data_intern/data/images_expansion/images_test/0538.jpg: 448x640 (no detections), 5.7ms\n",
      "image 458/1131 /home/yasumasa-tezuka/data_intern/data/images_expansion/images_test/0539.jpg: 448x640 (no detections), 4.6ms\n",
      "image 459/1131 /home/yasumasa-tezuka/data_intern/data/images_expansion/images_test/0540.jpg: 448x640 (no detections), 4.7ms\n",
      "image 460/1131 /home/yasumasa-tezuka/data_intern/data/images_expansion/images_test/0541.jpg: 448x640 (no detections), 4.7ms\n",
      "image 461/1131 /home/yasumasa-tezuka/data_intern/data/images_expansion/images_test/0542.jpg: 448x640 (no detections), 4.8ms\n",
      "image 462/1131 /home/yasumasa-tezuka/data_intern/data/images_expansion/images_test/0543.jpg: 448x640 (no detections), 4.7ms\n",
      "image 463/1131 /home/yasumasa-tezuka/data_intern/data/images_expansion/images_test/0544.jpg: 448x640 (no detections), 5.6ms\n",
      "image 464/1131 /home/yasumasa-tezuka/data_intern/data/images_expansion/images_test/0545.jpg: 448x640 (no detections), 5.1ms\n",
      "image 465/1131 /home/yasumasa-tezuka/data_intern/data/images_expansion/images_test/0546.jpg: 448x640 (no detections), 4.6ms\n",
      "image 466/1131 /home/yasumasa-tezuka/data_intern/data/images_expansion/images_test/0547.jpg: 448x640 (no detections), 4.6ms\n",
      "image 467/1131 /home/yasumasa-tezuka/data_intern/data/images_expansion/images_test/0548.jpg: 448x640 (no detections), 4.6ms\n",
      "image 468/1131 /home/yasumasa-tezuka/data_intern/data/images_expansion/images_test/0549.jpg: 448x640 (no detections), 4.9ms\n",
      "image 469/1131 /home/yasumasa-tezuka/data_intern/data/images_expansion/images_test/0550.jpg: 448x640 (no detections), 4.7ms\n",
      "image 470/1131 /home/yasumasa-tezuka/data_intern/data/images_expansion/images_test/0551.jpg: 448x640 (no detections), 4.6ms\n",
      "image 471/1131 /home/yasumasa-tezuka/data_intern/data/images_expansion/images_test/0552.jpg: 640x448 (no detections), 5.1ms\n",
      "image 472/1131 /home/yasumasa-tezuka/data_intern/data/images_expansion/images_test/0553.jpg: 448x640 (no detections), 5.0ms\n",
      "image 473/1131 /home/yasumasa-tezuka/data_intern/data/images_expansion/images_test/0554.jpg: 448x640 (no detections), 4.9ms\n",
      "image 474/1131 /home/yasumasa-tezuka/data_intern/data/images_expansion/images_test/0555.jpg: 448x640 (no detections), 4.7ms\n",
      "image 475/1131 /home/yasumasa-tezuka/data_intern/data/images_expansion/images_test/0556.jpg: 448x640 (no detections), 4.7ms\n",
      "image 476/1131 /home/yasumasa-tezuka/data_intern/data/images_expansion/images_test/0557.jpg: 448x640 (no detections), 4.6ms\n",
      "image 477/1131 /home/yasumasa-tezuka/data_intern/data/images_expansion/images_test/0558.jpg: 448x640 (no detections), 4.8ms\n",
      "image 478/1131 /home/yasumasa-tezuka/data_intern/data/images_expansion/images_test/0559.jpg: 448x640 (no detections), 5.0ms\n",
      "image 479/1131 /home/yasumasa-tezuka/data_intern/data/images_expansion/images_test/0560.jpg: 448x640 (no detections), 5.3ms\n",
      "image 480/1131 /home/yasumasa-tezuka/data_intern/data/images_expansion/images_test/0567.jpg: 640x448 (no detections), 5.1ms\n",
      "image 481/1131 /home/yasumasa-tezuka/data_intern/data/images_expansion/images_test/0568.jpg: 448x640 (no detections), 5.1ms\n",
      "image 482/1131 /home/yasumasa-tezuka/data_intern/data/images_expansion/images_test/0569.jpg: 448x640 (no detections), 4.6ms\n",
      "image 483/1131 /home/yasumasa-tezuka/data_intern/data/images_expansion/images_test/0570.jpg: 448x640 (no detections), 4.8ms\n",
      "image 484/1131 /home/yasumasa-tezuka/data_intern/data/images_expansion/images_test/0572.jpg: 448x640 (no detections), 4.7ms\n",
      "image 485/1131 /home/yasumasa-tezuka/data_intern/data/images_expansion/images_test/0574.jpg: 448x640 (no detections), 4.6ms\n",
      "image 486/1131 /home/yasumasa-tezuka/data_intern/data/images_expansion/images_test/0576.jpg: 448x640 (no detections), 4.9ms\n",
      "image 487/1131 /home/yasumasa-tezuka/data_intern/data/images_expansion/images_test/0581.jpg: 448x640 (no detections), 4.7ms\n",
      "image 488/1131 /home/yasumasa-tezuka/data_intern/data/images_expansion/images_test/0582.jpg: 448x640 (no detections), 4.6ms\n",
      "image 489/1131 /home/yasumasa-tezuka/data_intern/data/images_expansion/images_test/0583.jpg: 448x640 (no detections), 4.8ms\n",
      "image 490/1131 /home/yasumasa-tezuka/data_intern/data/images_expansion/images_test/0584.jpg: 448x640 (no detections), 4.6ms\n",
      "image 491/1131 /home/yasumasa-tezuka/data_intern/data/images_expansion/images_test/0585.jpg: 448x640 (no detections), 4.6ms\n",
      "image 492/1131 /home/yasumasa-tezuka/data_intern/data/images_expansion/images_test/0586.jpg: 448x640 (no detections), 4.7ms\n",
      "image 493/1131 /home/yasumasa-tezuka/data_intern/data/images_expansion/images_test/0587.jpg: 640x448 (no detections), 4.9ms\n",
      "image 494/1131 /home/yasumasa-tezuka/data_intern/data/images_expansion/images_test/0588.jpg: 448x640 (no detections), 5.1ms\n",
      "image 495/1131 /home/yasumasa-tezuka/data_intern/data/images_expansion/images_test/0589.jpg: 448x640 (no detections), 5.5ms\n",
      "image 496/1131 /home/yasumasa-tezuka/data_intern/data/images_expansion/images_test/0590.jpg: 448x640 (no detections), 4.6ms\n",
      "image 497/1131 /home/yasumasa-tezuka/data_intern/data/images_expansion/images_test/0591.jpg: 448x640 (no detections), 5.1ms\n",
      "image 498/1131 /home/yasumasa-tezuka/data_intern/data/images_expansion/images_test/0592.jpg: 448x640 (no detections), 4.7ms\n",
      "image 499/1131 /home/yasumasa-tezuka/data_intern/data/images_expansion/images_test/0593.jpg: 448x640 (no detections), 4.6ms\n",
      "image 500/1131 /home/yasumasa-tezuka/data_intern/data/images_expansion/images_test/0594.jpg: 448x640 (no detections), 4.8ms\n",
      "image 501/1131 /home/yasumasa-tezuka/data_intern/data/images_expansion/images_test/0595.jpg: 448x640 (no detections), 4.6ms\n",
      "image 502/1131 /home/yasumasa-tezuka/data_intern/data/images_expansion/images_test/0596.jpg: 448x640 (no detections), 5.0ms\n",
      "image 503/1131 /home/yasumasa-tezuka/data_intern/data/images_expansion/images_test/0597.jpg: 448x640 (no detections), 4.6ms\n",
      "image 504/1131 /home/yasumasa-tezuka/data_intern/data/images_expansion/images_test/0598.jpg: 448x640 (no detections), 4.7ms\n",
      "image 505/1131 /home/yasumasa-tezuka/data_intern/data/images_expansion/images_test/0599.jpg: 448x640 (no detections), 4.8ms\n",
      "image 506/1131 /home/yasumasa-tezuka/data_intern/data/images_expansion/images_test/0600.jpg: 448x640 (no detections), 4.6ms\n",
      "image 507/1131 /home/yasumasa-tezuka/data_intern/data/images_expansion/images_test/0601.jpg: 640x448 (no detections), 5.0ms\n",
      "image 508/1131 /home/yasumasa-tezuka/data_intern/data/images_expansion/images_test/0602.jpg: 448x640 (no detections), 5.0ms\n",
      "image 509/1131 /home/yasumasa-tezuka/data_intern/data/images_expansion/images_test/0603.jpg: 448x640 (no detections), 4.7ms\n",
      "image 510/1131 /home/yasumasa-tezuka/data_intern/data/images_expansion/images_test/0604.jpg: 448x640 (no detections), 4.8ms\n",
      "image 511/1131 /home/yasumasa-tezuka/data_intern/data/images_expansion/images_test/0605.jpg: 448x640 (no detections), 4.6ms\n",
      "image 512/1131 /home/yasumasa-tezuka/data_intern/data/images_expansion/images_test/0612.jpg: 640x448 (no detections), 5.0ms\n",
      "image 513/1131 /home/yasumasa-tezuka/data_intern/data/images_expansion/images_test/0613.jpg: 448x640 (no detections), 5.0ms\n",
      "image 514/1131 /home/yasumasa-tezuka/data_intern/data/images_expansion/images_test/0614.jpg: 448x640 (no detections), 4.6ms\n",
      "image 515/1131 /home/yasumasa-tezuka/data_intern/data/images_expansion/images_test/0615.jpg: 448x640 (no detections), 4.7ms\n",
      "image 516/1131 /home/yasumasa-tezuka/data_intern/data/images_expansion/images_test/0616.jpg: 448x640 (no detections), 4.7ms\n",
      "image 517/1131 /home/yasumasa-tezuka/data_intern/data/images_expansion/images_test/0617.jpg: 448x640 (no detections), 4.8ms\n",
      "image 518/1131 /home/yasumasa-tezuka/data_intern/data/images_expansion/images_test/0618.jpg: 640x448 (no detections), 5.0ms\n",
      "image 519/1131 /home/yasumasa-tezuka/data_intern/data/images_expansion/images_test/0624.jpg: 480x640 (no detections), 56.4ms\n",
      "image 520/1131 /home/yasumasa-tezuka/data_intern/data/images_expansion/images_test/0626.jpg: 448x640 (no detections), 5.4ms\n",
      "image 521/1131 /home/yasumasa-tezuka/data_intern/data/images_expansion/images_test/0628.jpg: 448x640 (no detections), 5.1ms\n",
      "image 522/1131 /home/yasumasa-tezuka/data_intern/data/images_expansion/images_test/0629.jpg: 640x480 (no detections), 56.2ms\n",
      "image 523/1131 /home/yasumasa-tezuka/data_intern/data/images_expansion/images_test/0631.jpg: 480x640 (no detections), 5.1ms\n",
      "image 524/1131 /home/yasumasa-tezuka/data_intern/data/images_expansion/images_test/0636.jpg: 640x448 (no detections), 5.2ms\n",
      "image 525/1131 /home/yasumasa-tezuka/data_intern/data/images_expansion/images_test/0637.jpg: 480x640 (no detections), 5.1ms\n",
      "image 526/1131 /home/yasumasa-tezuka/data_intern/data/images_expansion/images_test/0638.jpg: 448x640 (no detections), 5.1ms\n",
      "image 527/1131 /home/yasumasa-tezuka/data_intern/data/images_expansion/images_test/0639.jpg: 480x640 (no detections), 5.2ms\n",
      "image 528/1131 /home/yasumasa-tezuka/data_intern/data/images_expansion/images_test/0640.jpg: 480x640 (no detections), 4.7ms\n",
      "image 529/1131 /home/yasumasa-tezuka/data_intern/data/images_expansion/images_test/0641.jpg: 480x640 (no detections), 4.9ms\n",
      "image 530/1131 /home/yasumasa-tezuka/data_intern/data/images_expansion/images_test/0642.jpg: 448x640 (no detections), 5.6ms\n",
      "image 531/1131 /home/yasumasa-tezuka/data_intern/data/images_expansion/images_test/0643.jpg: 640x448 (no detections), 6.2ms\n",
      "image 532/1131 /home/yasumasa-tezuka/data_intern/data/images_expansion/images_test/0645.jpg: 448x640 (no detections), 5.2ms\n",
      "image 533/1131 /home/yasumasa-tezuka/data_intern/data/images_expansion/images_test/0646.jpg: 448x640 (no detections), 5.2ms\n",
      "image 534/1131 /home/yasumasa-tezuka/data_intern/data/images_expansion/images_test/0647.jpg: 448x640 (no detections), 4.8ms\n",
      "image 535/1131 /home/yasumasa-tezuka/data_intern/data/images_expansion/images_test/0648.jpg: 480x640 (no detections), 5.1ms\n",
      "image 536/1131 /home/yasumasa-tezuka/data_intern/data/images_expansion/images_test/0650.jpg: 640x448 (no detections), 5.1ms\n",
      "image 537/1131 /home/yasumasa-tezuka/data_intern/data/images_expansion/images_test/0651.jpg: 448x640 (no detections), 5.1ms\n",
      "image 538/1131 /home/yasumasa-tezuka/data_intern/data/images_expansion/images_test/0652.jpg: 448x640 (no detections), 4.8ms\n",
      "image 539/1131 /home/yasumasa-tezuka/data_intern/data/images_expansion/images_test/0653.jpg: 448x640 (no detections), 4.7ms\n",
      "image 540/1131 /home/yasumasa-tezuka/data_intern/data/images_expansion/images_test/0654.jpg: 448x640 (no detections), 4.7ms\n",
      "image 541/1131 /home/yasumasa-tezuka/data_intern/data/images_expansion/images_test/0655.jpg: 640x480 (no detections), 5.0ms\n",
      "image 542/1131 /home/yasumasa-tezuka/data_intern/data/images_expansion/images_test/0656.jpg: 448x640 (no detections), 5.0ms\n",
      "image 543/1131 /home/yasumasa-tezuka/data_intern/data/images_expansion/images_test/0657.jpg: 640x448 (no detections), 5.4ms\n",
      "image 544/1131 /home/yasumasa-tezuka/data_intern/data/images_expansion/images_test/0658.jpg: 448x640 (no detections), 5.4ms\n",
      "image 545/1131 /home/yasumasa-tezuka/data_intern/data/images_expansion/images_test/0659.jpg: 640x448 (no detections), 5.1ms\n",
      "image 546/1131 /home/yasumasa-tezuka/data_intern/data/images_expansion/images_test/0660.jpg: 448x640 (no detections), 5.3ms\n",
      "image 547/1131 /home/yasumasa-tezuka/data_intern/data/images_expansion/images_test/0661.jpg: 640x448 (no detections), 5.3ms\n",
      "image 548/1131 /home/yasumasa-tezuka/data_intern/data/images_expansion/images_test/0662.jpg: 640x448 (no detections), 4.9ms\n",
      "image 549/1131 /home/yasumasa-tezuka/data_intern/data/images_expansion/images_test/0663.jpg: 480x640 (no detections), 5.6ms\n",
      "image 550/1131 /home/yasumasa-tezuka/data_intern/data/images_expansion/images_test/0665.jpg: 480x640 (no detections), 5.2ms\n",
      "image 551/1131 /home/yasumasa-tezuka/data_intern/data/images_expansion/images_test/0668.jpg: 448x640 (no detections), 5.1ms\n",
      "image 552/1131 /home/yasumasa-tezuka/data_intern/data/images_expansion/images_test/0671.jpg: 448x640 (no detections), 4.7ms\n",
      "image 553/1131 /home/yasumasa-tezuka/data_intern/data/images_expansion/images_test/0672.jpg: 448x640 (no detections), 5.8ms\n",
      "image 554/1131 /home/yasumasa-tezuka/data_intern/data/images_expansion/images_test/0673.jpg: 448x640 (no detections), 4.8ms\n",
      "image 555/1131 /home/yasumasa-tezuka/data_intern/data/images_expansion/images_test/0674.jpg: 640x448 (no detections), 5.9ms\n",
      "image 556/1131 /home/yasumasa-tezuka/data_intern/data/images_expansion/images_test/0675.jpg: 480x640 (no detections), 5.3ms\n",
      "image 557/1131 /home/yasumasa-tezuka/data_intern/data/images_expansion/images_test/0676.jpg: 448x640 (no detections), 5.3ms\n",
      "image 558/1131 /home/yasumasa-tezuka/data_intern/data/images_expansion/images_test/0678.jpg: 480x640 (no detections), 5.1ms\n",
      "image 559/1131 /home/yasumasa-tezuka/data_intern/data/images_expansion/images_test/0679.jpg: 480x640 (no detections), 4.7ms\n",
      "image 560/1131 /home/yasumasa-tezuka/data_intern/data/images_expansion/images_test/0680.jpg: 640x480 (no detections), 5.1ms\n",
      "image 561/1131 /home/yasumasa-tezuka/data_intern/data/images_expansion/images_test/0681.jpg: 640x480 (no detections), 4.8ms\n",
      "image 562/1131 /home/yasumasa-tezuka/data_intern/data/images_expansion/images_test/0682.jpg: 480x640 (no detections), 5.1ms\n",
      "image 563/1131 /home/yasumasa-tezuka/data_intern/data/images_expansion/images_test/0683.jpg: 640x480 (no detections), 5.2ms\n",
      "image 564/1131 /home/yasumasa-tezuka/data_intern/data/images_expansion/images_test/0684.jpg: 640x480 (no detections), 4.8ms\n",
      "image 565/1131 /home/yasumasa-tezuka/data_intern/data/images_expansion/images_test/0685.jpg: 480x640 (no detections), 5.2ms\n",
      "image 566/1131 /home/yasumasa-tezuka/data_intern/data/images_expansion/images_test/0686.jpg: 480x640 (no detections), 5.0ms\n",
      "image 567/1131 /home/yasumasa-tezuka/data_intern/data/images_expansion/images_test/0687.jpg: 480x640 (no detections), 4.8ms\n",
      "image 568/1131 /home/yasumasa-tezuka/data_intern/data/images_expansion/images_test/0689.jpg: 480x640 (no detections), 4.8ms\n",
      "image 569/1131 /home/yasumasa-tezuka/data_intern/data/images_expansion/images_test/0690.jpg: 480x640 (no detections), 5.4ms\n",
      "image 570/1131 /home/yasumasa-tezuka/data_intern/data/images_expansion/images_test/0691.jpg: 480x640 (no detections), 5.7ms\n",
      "image 571/1131 /home/yasumasa-tezuka/data_intern/data/images_expansion/images_test/0692.jpg: 448x640 (no detections), 5.2ms\n",
      "image 572/1131 /home/yasumasa-tezuka/data_intern/data/images_expansion/images_test/0744.jpg: 448x640 (no detections), 4.7ms\n",
      "image 573/1131 /home/yasumasa-tezuka/data_intern/data/images_expansion/images_test/0745.jpg: 448x640 (no detections), 4.8ms\n",
      "image 574/1131 /home/yasumasa-tezuka/data_intern/data/images_expansion/images_test/0747.jpg: 448x640 (no detections), 4.7ms\n",
      "image 575/1131 /home/yasumasa-tezuka/data_intern/data/images_expansion/images_test/0748.jpg: 448x640 (no detections), 5.4ms\n",
      "image 576/1131 /home/yasumasa-tezuka/data_intern/data/images_expansion/images_test/0749.jpg: 448x640 (no detections), 4.7ms\n",
      "image 577/1131 /home/yasumasa-tezuka/data_intern/data/images_expansion/images_test/0751.jpg: 448x640 (no detections), 4.7ms\n",
      "image 578/1131 /home/yasumasa-tezuka/data_intern/data/images_expansion/images_test/0752.jpg: 448x640 (no detections), 4.7ms\n",
      "image 579/1131 /home/yasumasa-tezuka/data_intern/data/images_expansion/images_test/0753.jpg: 384x640 (no detections), 58.2ms\n",
      "image 580/1131 /home/yasumasa-tezuka/data_intern/data/images_expansion/images_test/0754.jpg: 448x640 (no detections), 5.2ms\n",
      "image 581/1131 /home/yasumasa-tezuka/data_intern/data/images_expansion/images_test/0755.jpg: 448x640 (no detections), 4.8ms\n",
      "image 582/1131 /home/yasumasa-tezuka/data_intern/data/images_expansion/images_test/0756.jpg: 448x640 (no detections), 5.7ms\n",
      "image 583/1131 /home/yasumasa-tezuka/data_intern/data/images_expansion/images_test/0757.jpg: 448x640 (no detections), 4.9ms\n",
      "image 584/1131 /home/yasumasa-tezuka/data_intern/data/images_expansion/images_test/0762.jpg: 448x640 (no detections), 4.7ms\n",
      "image 585/1131 /home/yasumasa-tezuka/data_intern/data/images_expansion/images_test/0763.jpg: 448x640 (no detections), 5.0ms\n",
      "image 586/1131 /home/yasumasa-tezuka/data_intern/data/images_expansion/images_test/0764.jpg: 448x640 (no detections), 4.8ms\n",
      "image 587/1131 /home/yasumasa-tezuka/data_intern/data/images_expansion/images_test/0765.jpg: 448x640 (no detections), 4.8ms\n",
      "image 588/1131 /home/yasumasa-tezuka/data_intern/data/images_expansion/images_test/0766.jpg: 640x480 (no detections), 5.1ms\n",
      "image 589/1131 /home/yasumasa-tezuka/data_intern/data/images_expansion/images_test/0767.jpg: 640x480 (no detections), 4.8ms\n",
      "image 590/1131 /home/yasumasa-tezuka/data_intern/data/images_expansion/images_test/0768.jpg: 640x480 (no detections), 4.8ms\n",
      "image 591/1131 /home/yasumasa-tezuka/data_intern/data/images_expansion/images_test/0771.jpg: 640x448 (no detections), 5.2ms\n",
      "image 592/1131 /home/yasumasa-tezuka/data_intern/data/images_expansion/images_test/0772.jpg: 640x448 (no detections), 4.8ms\n",
      "image 593/1131 /home/yasumasa-tezuka/data_intern/data/images_expansion/images_test/0773.jpg: 448x640 (no detections), 5.1ms\n",
      "image 594/1131 /home/yasumasa-tezuka/data_intern/data/images_expansion/images_test/0774.jpg: 448x640 (no detections), 4.9ms\n",
      "image 595/1131 /home/yasumasa-tezuka/data_intern/data/images_expansion/images_test/0775.jpg: 448x640 (no detections), 4.8ms\n",
      "image 596/1131 /home/yasumasa-tezuka/data_intern/data/images_expansion/images_test/0776.jpg: 448x640 (no detections), 4.9ms\n",
      "image 597/1131 /home/yasumasa-tezuka/data_intern/data/images_expansion/images_test/0777.jpg: 448x640 (no detections), 4.9ms\n",
      "image 598/1131 /home/yasumasa-tezuka/data_intern/data/images_expansion/images_test/0778.jpg: 448x640 (no detections), 4.9ms\n",
      "image 599/1131 /home/yasumasa-tezuka/data_intern/data/images_expansion/images_test/0779.jpg: 640x448 (no detections), 5.5ms\n",
      "image 600/1131 /home/yasumasa-tezuka/data_intern/data/images_expansion/images_test/0780.jpg: 448x640 (no detections), 5.1ms\n",
      "image 601/1131 /home/yasumasa-tezuka/data_intern/data/images_expansion/images_test/0781.jpg: 448x640 (no detections), 5.4ms\n",
      "image 602/1131 /home/yasumasa-tezuka/data_intern/data/images_expansion/images_test/0782.jpg: 640x448 (no detections), 5.2ms\n",
      "image 603/1131 /home/yasumasa-tezuka/data_intern/data/images_expansion/images_test/0783.jpg: 448x640 (no detections), 5.4ms\n",
      "image 604/1131 /home/yasumasa-tezuka/data_intern/data/images_expansion/images_test/0784.jpg: 640x448 (no detections), 5.1ms\n",
      "image 605/1131 /home/yasumasa-tezuka/data_intern/data/images_expansion/images_test/0785.jpg: 640x448 (no detections), 4.8ms\n",
      "image 606/1131 /home/yasumasa-tezuka/data_intern/data/images_expansion/images_test/0786.jpg: 640x448 (no detections), 4.8ms\n",
      "image 607/1131 /home/yasumasa-tezuka/data_intern/data/images_expansion/images_test/0787.jpg: 640x448 (no detections), 4.8ms\n",
      "image 608/1131 /home/yasumasa-tezuka/data_intern/data/images_expansion/images_test/0788.jpg: 448x640 (no detections), 6.1ms\n",
      "image 609/1131 /home/yasumasa-tezuka/data_intern/data/images_expansion/images_test/0789.jpg: 640x448 (no detections), 5.2ms\n",
      "image 610/1131 /home/yasumasa-tezuka/data_intern/data/images_expansion/images_test/0790.jpg: 448x640 (no detections), 5.5ms\n",
      "image 611/1131 /home/yasumasa-tezuka/data_intern/data/images_expansion/images_test/0791.jpg: 448x640 (no detections), 5.0ms\n",
      "image 612/1131 /home/yasumasa-tezuka/data_intern/data/images_expansion/images_test/0792.jpg: 448x640 (no detections), 5.4ms\n",
      "image 613/1131 /home/yasumasa-tezuka/data_intern/data/images_expansion/images_test/0793.jpg: 448x640 (no detections), 5.0ms\n",
      "image 614/1131 /home/yasumasa-tezuka/data_intern/data/images_expansion/images_test/0794.jpg: 448x640 (no detections), 4.9ms\n",
      "image 615/1131 /home/yasumasa-tezuka/data_intern/data/images_expansion/images_test/0795.jpg: 640x448 (no detections), 5.7ms\n",
      "image 616/1131 /home/yasumasa-tezuka/data_intern/data/images_expansion/images_test/0796.jpg: 640x448 (no detections), 5.1ms\n",
      "image 617/1131 /home/yasumasa-tezuka/data_intern/data/images_expansion/images_test/0797.jpg: 640x448 (no detections), 5.1ms\n",
      "image 618/1131 /home/yasumasa-tezuka/data_intern/data/images_expansion/images_test/0798.jpg: 640x448 (no detections), 4.8ms\n",
      "image 619/1131 /home/yasumasa-tezuka/data_intern/data/images_expansion/images_test/0799.jpg: 448x640 (no detections), 5.2ms\n",
      "image 620/1131 /home/yasumasa-tezuka/data_intern/data/images_expansion/images_test/0800.jpg: 448x640 (no detections), 5.1ms\n",
      "image 621/1131 /home/yasumasa-tezuka/data_intern/data/images_expansion/images_test/0801.jpg: 640x448 (no detections), 5.4ms\n",
      "image 622/1131 /home/yasumasa-tezuka/data_intern/data/images_expansion/images_test/0803.jpg: 640x448 (no detections), 4.8ms\n",
      "image 623/1131 /home/yasumasa-tezuka/data_intern/data/images_expansion/images_test/0804.jpg: 448x640 (no detections), 5.3ms\n",
      "image 624/1131 /home/yasumasa-tezuka/data_intern/data/images_expansion/images_test/0805.jpg: 448x640 (no detections), 4.9ms\n",
      "image 625/1131 /home/yasumasa-tezuka/data_intern/data/images_expansion/images_test/0808.jpg: 448x640 (no detections), 5.1ms\n",
      "image 626/1131 /home/yasumasa-tezuka/data_intern/data/images_expansion/images_test/0809.jpg: 448x640 (no detections), 4.7ms\n",
      "image 627/1131 /home/yasumasa-tezuka/data_intern/data/images_expansion/images_test/0810.jpg: 448x640 (no detections), 5.1ms\n",
      "image 628/1131 /home/yasumasa-tezuka/data_intern/data/images_expansion/images_test/0811.jpg: 448x640 (no detections), 4.9ms\n",
      "image 629/1131 /home/yasumasa-tezuka/data_intern/data/images_expansion/images_test/0812.jpg: 480x640 (no detections), 5.4ms\n",
      "image 630/1131 /home/yasumasa-tezuka/data_intern/data/images_expansion/images_test/0813.jpg: 480x640 (no detections), 5.0ms\n",
      "image 631/1131 /home/yasumasa-tezuka/data_intern/data/images_expansion/images_test/0814.jpg: 480x640 (no detections), 5.3ms\n",
      "image 632/1131 /home/yasumasa-tezuka/data_intern/data/images_expansion/images_test/0815.jpg: 480x640 (no detections), 5.8ms\n",
      "image 633/1131 /home/yasumasa-tezuka/data_intern/data/images_expansion/images_test/0816.jpg: 480x640 (no detections), 5.2ms\n",
      "image 634/1131 /home/yasumasa-tezuka/data_intern/data/images_expansion/images_test/0817.jpg: 640x480 (no detections), 5.1ms\n",
      "image 635/1131 /home/yasumasa-tezuka/data_intern/data/images_expansion/images_test/0818.jpg: 480x640 (no detections), 5.6ms\n",
      "image 636/1131 /home/yasumasa-tezuka/data_intern/data/images_expansion/images_test/0819.jpg: 480x640 (no detections), 5.3ms\n",
      "image 637/1131 /home/yasumasa-tezuka/data_intern/data/images_expansion/images_test/0820.jpg: 480x640 (no detections), 4.8ms\n",
      "image 638/1131 /home/yasumasa-tezuka/data_intern/data/images_expansion/images_test/0821.jpg: 480x640 (no detections), 4.8ms\n",
      "image 639/1131 /home/yasumasa-tezuka/data_intern/data/images_expansion/images_test/0822.jpg: 480x640 (no detections), 4.8ms\n",
      "image 640/1131 /home/yasumasa-tezuka/data_intern/data/images_expansion/images_test/0823.jpg: 480x640 (no detections), 4.8ms\n",
      "image 641/1131 /home/yasumasa-tezuka/data_intern/data/images_expansion/images_test/0824.jpg: 448x640 (no detections), 5.2ms\n",
      "image 642/1131 /home/yasumasa-tezuka/data_intern/data/images_expansion/images_test/0825.jpg: 448x640 (no detections), 4.9ms\n",
      "image 643/1131 /home/yasumasa-tezuka/data_intern/data/images_expansion/images_test/0826.jpg: 448x640 (no detections), 5.3ms\n",
      "image 644/1131 /home/yasumasa-tezuka/data_intern/data/images_expansion/images_test/0827.jpg: 448x640 (no detections), 4.8ms\n",
      "image 645/1131 /home/yasumasa-tezuka/data_intern/data/images_expansion/images_test/0828.jpg: 448x640 (no detections), 4.8ms\n",
      "image 646/1131 /home/yasumasa-tezuka/data_intern/data/images_expansion/images_test/0829.jpg: 448x640 (no detections), 4.9ms\n",
      "image 647/1131 /home/yasumasa-tezuka/data_intern/data/images_expansion/images_test/0830.jpg: 448x640 (no detections), 4.9ms\n",
      "image 648/1131 /home/yasumasa-tezuka/data_intern/data/images_expansion/images_test/0831.jpg: 448x640 (no detections), 5.1ms\n",
      "image 649/1131 /home/yasumasa-tezuka/data_intern/data/images_expansion/images_test/0832.jpg: 448x640 (no detections), 5.2ms\n",
      "image 650/1131 /home/yasumasa-tezuka/data_intern/data/images_expansion/images_test/0833.jpg: 448x640 (no detections), 5.1ms\n",
      "image 651/1131 /home/yasumasa-tezuka/data_intern/data/images_expansion/images_test/0834.jpg: 448x640 (no detections), 4.7ms\n",
      "image 652/1131 /home/yasumasa-tezuka/data_intern/data/images_expansion/images_test/0835.jpg: 448x640 (no detections), 4.9ms\n",
      "image 653/1131 /home/yasumasa-tezuka/data_intern/data/images_expansion/images_test/0836.jpg: 448x640 (no detections), 4.8ms\n",
      "image 654/1131 /home/yasumasa-tezuka/data_intern/data/images_expansion/images_test/0837.jpg: 448x640 (no detections), 5.0ms\n",
      "image 655/1131 /home/yasumasa-tezuka/data_intern/data/images_expansion/images_test/0838.jpg: 640x448 (no detections), 5.3ms\n",
      "image 656/1131 /home/yasumasa-tezuka/data_intern/data/images_expansion/images_test/0839.jpg: 640x448 (no detections), 4.9ms\n",
      "image 657/1131 /home/yasumasa-tezuka/data_intern/data/images_expansion/images_test/0840.jpg: 448x640 (no detections), 5.9ms\n",
      "image 658/1131 /home/yasumasa-tezuka/data_intern/data/images_expansion/images_test/0841.jpg: 448x640 (no detections), 4.8ms\n",
      "image 659/1131 /home/yasumasa-tezuka/data_intern/data/images_expansion/images_test/0843.jpg: 448x640 (no detections), 4.9ms\n",
      "image 660/1131 /home/yasumasa-tezuka/data_intern/data/images_expansion/images_test/0844.jpg: 448x640 (no detections), 5.0ms\n",
      "image 661/1131 /home/yasumasa-tezuka/data_intern/data/images_expansion/images_test/0845.jpg: 448x640 (no detections), 5.0ms\n",
      "image 662/1131 /home/yasumasa-tezuka/data_intern/data/images_expansion/images_test/0846.jpg: 448x640 (no detections), 5.0ms\n",
      "image 663/1131 /home/yasumasa-tezuka/data_intern/data/images_expansion/images_test/0849.jpg: 480x640 (no detections), 5.4ms\n",
      "image 664/1131 /home/yasumasa-tezuka/data_intern/data/images_expansion/images_test/0851.jpg: 448x640 (no detections), 5.4ms\n",
      "image 665/1131 /home/yasumasa-tezuka/data_intern/data/images_expansion/images_test/0852.jpg: 448x640 (no detections), 4.8ms\n",
      "image 666/1131 /home/yasumasa-tezuka/data_intern/data/images_expansion/images_test/0853.jpg: 448x640 (no detections), 5.1ms\n",
      "image 667/1131 /home/yasumasa-tezuka/data_intern/data/images_expansion/images_test/0854.jpg: 448x640 (no detections), 4.8ms\n",
      "image 668/1131 /home/yasumasa-tezuka/data_intern/data/images_expansion/images_test/0855.jpg: 448x640 (no detections), 4.9ms\n",
      "image 669/1131 /home/yasumasa-tezuka/data_intern/data/images_expansion/images_test/0856.jpg: 640x480 (no detections), 5.1ms\n",
      "image 670/1131 /home/yasumasa-tezuka/data_intern/data/images_expansion/images_test/0857.jpg: 480x640 (no detections), 5.2ms\n",
      "image 671/1131 /home/yasumasa-tezuka/data_intern/data/images_expansion/images_test/0858.jpg: 640x480 (no detections), 5.3ms\n",
      "image 672/1131 /home/yasumasa-tezuka/data_intern/data/images_expansion/images_test/0859.jpg: 480x640 (no detections), 5.4ms\n",
      "image 673/1131 /home/yasumasa-tezuka/data_intern/data/images_expansion/images_test/0860.jpg: 448x640 (no detections), 5.2ms\n",
      "image 674/1131 /home/yasumasa-tezuka/data_intern/data/images_expansion/images_test/0861.jpg: 448x640 (no detections), 4.9ms\n",
      "image 675/1131 /home/yasumasa-tezuka/data_intern/data/images_expansion/images_test/0862.jpg: 448x640 (no detections), 5.0ms\n",
      "image 676/1131 /home/yasumasa-tezuka/data_intern/data/images_expansion/images_test/0863.jpg: 448x640 (no detections), 4.8ms\n",
      "image 677/1131 /home/yasumasa-tezuka/data_intern/data/images_expansion/images_test/0864.jpg: 448x640 (no detections), 4.9ms\n",
      "image 678/1131 /home/yasumasa-tezuka/data_intern/data/images_expansion/images_test/0865.jpg: 448x640 (no detections), 6.6ms\n",
      "image 679/1131 /home/yasumasa-tezuka/data_intern/data/images_expansion/images_test/0866.jpg: 448x640 (no detections), 4.9ms\n",
      "image 680/1131 /home/yasumasa-tezuka/data_intern/data/images_expansion/images_test/0867.jpg: 448x640 (no detections), 5.0ms\n",
      "image 681/1131 /home/yasumasa-tezuka/data_intern/data/images_expansion/images_test/0868.jpg: 448x640 (no detections), 4.9ms\n",
      "image 682/1131 /home/yasumasa-tezuka/data_intern/data/images_expansion/images_test/0869.jpg: 448x640 (no detections), 5.0ms\n",
      "image 683/1131 /home/yasumasa-tezuka/data_intern/data/images_expansion/images_test/0870.jpg: 448x640 (no detections), 5.0ms\n",
      "image 684/1131 /home/yasumasa-tezuka/data_intern/data/images_expansion/images_test/0871.jpg: 448x640 (no detections), 4.9ms\n",
      "image 685/1131 /home/yasumasa-tezuka/data_intern/data/images_expansion/images_test/0872.jpg: 448x640 (no detections), 4.8ms\n",
      "image 686/1131 /home/yasumasa-tezuka/data_intern/data/images_expansion/images_test/0873.jpg: 448x640 (no detections), 4.8ms\n",
      "image 687/1131 /home/yasumasa-tezuka/data_intern/data/images_expansion/images_test/0874.jpg: 448x640 (no detections), 4.8ms\n",
      "image 688/1131 /home/yasumasa-tezuka/data_intern/data/images_expansion/images_test/0876.jpg: 448x640 (no detections), 4.9ms\n",
      "image 689/1131 /home/yasumasa-tezuka/data_intern/data/images_expansion/images_test/0877.jpg: 448x640 (no detections), 5.8ms\n",
      "image 690/1131 /home/yasumasa-tezuka/data_intern/data/images_expansion/images_test/0878.jpg: 448x640 (no detections), 4.9ms\n",
      "image 691/1131 /home/yasumasa-tezuka/data_intern/data/images_expansion/images_test/0879.jpg: 448x640 (no detections), 4.7ms\n",
      "image 692/1131 /home/yasumasa-tezuka/data_intern/data/images_expansion/images_test/0880.jpg: 448x640 (no detections), 4.8ms\n",
      "image 693/1131 /home/yasumasa-tezuka/data_intern/data/images_expansion/images_test/0881.jpg: 448x640 (no detections), 4.9ms\n",
      "image 694/1131 /home/yasumasa-tezuka/data_intern/data/images_expansion/images_test/0882.jpg: 448x640 (no detections), 4.8ms\n",
      "image 695/1131 /home/yasumasa-tezuka/data_intern/data/images_expansion/images_test/0883.jpg: 448x640 (no detections), 4.8ms\n",
      "image 696/1131 /home/yasumasa-tezuka/data_intern/data/images_expansion/images_test/0884.jpg: 448x640 (no detections), 4.8ms\n",
      "image 697/1131 /home/yasumasa-tezuka/data_intern/data/images_expansion/images_test/0885.jpg: 448x640 (no detections), 4.9ms\n",
      "image 698/1131 /home/yasumasa-tezuka/data_intern/data/images_expansion/images_test/0886.jpg: 640x448 (no detections), 5.7ms\n",
      "image 699/1131 /home/yasumasa-tezuka/data_intern/data/images_expansion/images_test/0887.jpg: 640x448 (no detections), 4.8ms\n",
      "image 700/1131 /home/yasumasa-tezuka/data_intern/data/images_expansion/images_test/0888.jpg: 448x640 (no detections), 6.9ms\n",
      "image 701/1131 /home/yasumasa-tezuka/data_intern/data/images_expansion/images_test/0889.jpg: 448x640 (no detections), 4.9ms\n",
      "image 702/1131 /home/yasumasa-tezuka/data_intern/data/images_expansion/images_test/0890.jpg: 448x640 (no detections), 4.9ms\n",
      "image 703/1131 /home/yasumasa-tezuka/data_intern/data/images_expansion/images_test/0891.jpg: 448x640 (no detections), 5.2ms\n",
      "image 704/1131 /home/yasumasa-tezuka/data_intern/data/images_expansion/images_test/0892.jpg: 448x640 (no detections), 4.9ms\n",
      "image 705/1131 /home/yasumasa-tezuka/data_intern/data/images_expansion/images_test/0893.jpg: 448x640 (no detections), 4.9ms\n",
      "image 706/1131 /home/yasumasa-tezuka/data_intern/data/images_expansion/images_test/0894.jpg: 640x448 (no detections), 5.2ms\n",
      "image 707/1131 /home/yasumasa-tezuka/data_intern/data/images_expansion/images_test/0895.jpg: 448x640 (no detections), 5.2ms\n",
      "image 708/1131 /home/yasumasa-tezuka/data_intern/data/images_expansion/images_test/0896.jpg: 448x640 (no detections), 4.9ms\n",
      "image 709/1131 /home/yasumasa-tezuka/data_intern/data/images_expansion/images_test/0897.jpg: 448x640 (no detections), 5.3ms\n",
      "image 710/1131 /home/yasumasa-tezuka/data_intern/data/images_expansion/images_test/0898.jpg: 448x640 (no detections), 5.0ms\n",
      "image 711/1131 /home/yasumasa-tezuka/data_intern/data/images_expansion/images_test/0899.jpg: 448x640 (no detections), 5.0ms\n",
      "image 712/1131 /home/yasumasa-tezuka/data_intern/data/images_expansion/images_test/0900.jpg: 640x448 (no detections), 5.2ms\n",
      "image 713/1131 /home/yasumasa-tezuka/data_intern/data/images_expansion/images_test/0901.jpg: 448x640 (no detections), 5.4ms\n",
      "image 714/1131 /home/yasumasa-tezuka/data_intern/data/images_expansion/images_test/0902.jpg: 448x640 (no detections), 5.2ms\n",
      "image 715/1131 /home/yasumasa-tezuka/data_intern/data/images_expansion/images_test/0903.jpg: 448x640 (no detections), 4.8ms\n",
      "image 716/1131 /home/yasumasa-tezuka/data_intern/data/images_expansion/images_test/0904.jpg: 448x640 (no detections), 4.8ms\n",
      "image 717/1131 /home/yasumasa-tezuka/data_intern/data/images_expansion/images_test/0905.jpg: 448x640 (no detections), 5.2ms\n",
      "image 718/1131 /home/yasumasa-tezuka/data_intern/data/images_expansion/images_test/0906.jpg: 448x640 (no detections), 4.8ms\n",
      "image 719/1131 /home/yasumasa-tezuka/data_intern/data/images_expansion/images_test/0907.jpg: 448x640 (no detections), 4.8ms\n",
      "image 720/1131 /home/yasumasa-tezuka/data_intern/data/images_expansion/images_test/0908.jpg: 640x448 (no detections), 5.1ms\n",
      "image 721/1131 /home/yasumasa-tezuka/data_intern/data/images_expansion/images_test/0909.jpg: 640x448 (no detections), 4.8ms\n",
      "image 722/1131 /home/yasumasa-tezuka/data_intern/data/images_expansion/images_test/0910.jpg: 448x640 (no detections), 5.2ms\n",
      "image 723/1131 /home/yasumasa-tezuka/data_intern/data/images_expansion/images_test/0911.jpg: 448x640 (no detections), 5.2ms\n",
      "image 724/1131 /home/yasumasa-tezuka/data_intern/data/images_expansion/images_test/0912.jpg: 448x640 (no detections), 4.9ms\n",
      "image 725/1131 /home/yasumasa-tezuka/data_intern/data/images_expansion/images_test/0913.jpg: 448x640 (no detections), 4.8ms\n",
      "image 726/1131 /home/yasumasa-tezuka/data_intern/data/images_expansion/images_test/0914.jpg: 640x448 (no detections), 5.2ms\n",
      "image 727/1131 /home/yasumasa-tezuka/data_intern/data/images_expansion/images_test/0915.jpg: 640x448 (no detections), 4.9ms\n",
      "image 728/1131 /home/yasumasa-tezuka/data_intern/data/images_expansion/images_test/0916.jpg: 448x640 (no detections), 5.8ms\n",
      "image 729/1131 /home/yasumasa-tezuka/data_intern/data/images_expansion/images_test/0917.jpg: 448x640 (no detections), 5.0ms\n",
      "image 730/1131 /home/yasumasa-tezuka/data_intern/data/images_expansion/images_test/0918.jpg: 640x448 (no detections), 5.5ms\n",
      "image 731/1131 /home/yasumasa-tezuka/data_intern/data/images_expansion/images_test/0919.jpg: 640x448 (no detections), 4.8ms\n",
      "image 732/1131 /home/yasumasa-tezuka/data_intern/data/images_expansion/images_test/0920.jpg: 448x640 (no detections), 5.4ms\n",
      "image 733/1131 /home/yasumasa-tezuka/data_intern/data/images_expansion/images_test/0921.jpg: 640x448 (no detections), 5.3ms\n",
      "image 734/1131 /home/yasumasa-tezuka/data_intern/data/images_expansion/images_test/0922.jpg: 448x640 (no detections), 5.2ms\n",
      "image 735/1131 /home/yasumasa-tezuka/data_intern/data/images_expansion/images_test/0923.jpg: 448x640 (no detections), 4.9ms\n",
      "image 736/1131 /home/yasumasa-tezuka/data_intern/data/images_expansion/images_test/0924.jpg: 448x640 (no detections), 4.9ms\n",
      "image 737/1131 /home/yasumasa-tezuka/data_intern/data/images_expansion/images_test/0925.jpg: 448x640 (no detections), 4.9ms\n",
      "image 738/1131 /home/yasumasa-tezuka/data_intern/data/images_expansion/images_test/0926.jpg: 448x640 (no detections), 5.3ms\n",
      "image 739/1131 /home/yasumasa-tezuka/data_intern/data/images_expansion/images_test/0927.jpg: 640x448 (no detections), 5.4ms\n",
      "image 740/1131 /home/yasumasa-tezuka/data_intern/data/images_expansion/images_test/0928.jpg: 448x640 (no detections), 5.3ms\n",
      "image 741/1131 /home/yasumasa-tezuka/data_intern/data/images_expansion/images_test/0929.jpg: 448x640 (no detections), 5.3ms\n",
      "image 742/1131 /home/yasumasa-tezuka/data_intern/data/images_expansion/images_test/0930.jpg: 448x640 (no detections), 5.0ms\n",
      "image 743/1131 /home/yasumasa-tezuka/data_intern/data/images_expansion/images_test/0931.jpg: 640x448 (no detections), 6.3ms\n",
      "image 744/1131 /home/yasumasa-tezuka/data_intern/data/images_expansion/images_test/0932.jpg: 448x640 (no detections), 5.3ms\n",
      "image 745/1131 /home/yasumasa-tezuka/data_intern/data/images_expansion/images_test/0933.jpg: 448x640 (no detections), 4.9ms\n",
      "image 746/1131 /home/yasumasa-tezuka/data_intern/data/images_expansion/images_test/0934.jpg: 448x640 (no detections), 4.8ms\n",
      "image 747/1131 /home/yasumasa-tezuka/data_intern/data/images_expansion/images_test/0935.jpg: 448x640 (no detections), 4.9ms\n",
      "image 748/1131 /home/yasumasa-tezuka/data_intern/data/images_expansion/images_test/0936.jpg: 640x448 (no detections), 5.5ms\n",
      "image 749/1131 /home/yasumasa-tezuka/data_intern/data/images_expansion/images_test/0937.jpg: 448x640 (no detections), 5.2ms\n",
      "image 750/1131 /home/yasumasa-tezuka/data_intern/data/images_expansion/images_test/0938.jpg: 448x640 (no detections), 4.8ms\n",
      "image 751/1131 /home/yasumasa-tezuka/data_intern/data/images_expansion/images_test/0939.jpg: 640x448 (no detections), 5.1ms\n",
      "image 752/1131 /home/yasumasa-tezuka/data_intern/data/images_expansion/images_test/0940.jpg: 448x640 (no detections), 5.1ms\n",
      "image 753/1131 /home/yasumasa-tezuka/data_intern/data/images_expansion/images_test/0941.jpg: 448x640 (no detections), 4.8ms\n",
      "image 754/1131 /home/yasumasa-tezuka/data_intern/data/images_expansion/images_test/0942.jpg: 416x640 (no detections), 5.3ms\n",
      "image 755/1131 /home/yasumasa-tezuka/data_intern/data/images_expansion/images_test/0943.jpg: 448x640 (no detections), 5.4ms\n",
      "image 756/1131 /home/yasumasa-tezuka/data_intern/data/images_expansion/images_test/0944.jpg: 640x448 (no detections), 5.1ms\n",
      "image 757/1131 /home/yasumasa-tezuka/data_intern/data/images_expansion/images_test/0945.jpg: 640x448 (no detections), 4.9ms\n",
      "image 758/1131 /home/yasumasa-tezuka/data_intern/data/images_expansion/images_test/0946.jpg: 448x640 (no detections), 5.2ms\n",
      "image 759/1131 /home/yasumasa-tezuka/data_intern/data/images_expansion/images_test/0947.jpg: 448x640 (no detections), 4.9ms\n",
      "image 760/1131 /home/yasumasa-tezuka/data_intern/data/images_expansion/images_test/0948.jpg: 448x640 (no detections), 5.5ms\n",
      "image 761/1131 /home/yasumasa-tezuka/data_intern/data/images_expansion/images_test/0949.jpg: 448x640 (no detections), 4.9ms\n",
      "image 762/1131 /home/yasumasa-tezuka/data_intern/data/images_expansion/images_test/0950.jpg: 640x448 (no detections), 5.2ms\n",
      "image 763/1131 /home/yasumasa-tezuka/data_intern/data/images_expansion/images_test/0951.jpg: 448x640 (no detections), 5.6ms\n",
      "image 764/1131 /home/yasumasa-tezuka/data_intern/data/images_expansion/images_test/0952.jpg: 448x640 (no detections), 4.8ms\n",
      "image 765/1131 /home/yasumasa-tezuka/data_intern/data/images_expansion/images_test/0953.jpg: 448x640 (no detections), 4.7ms\n",
      "image 766/1131 /home/yasumasa-tezuka/data_intern/data/images_expansion/images_test/0954.jpg: 640x448 (no detections), 5.2ms\n",
      "image 767/1131 /home/yasumasa-tezuka/data_intern/data/images_expansion/images_test/0955.jpg: 448x640 (no detections), 5.6ms\n",
      "image 768/1131 /home/yasumasa-tezuka/data_intern/data/images_expansion/images_test/0956.jpg: 448x640 (no detections), 5.3ms\n",
      "image 769/1131 /home/yasumasa-tezuka/data_intern/data/images_expansion/images_test/0957.jpg: 448x640 (no detections), 5.0ms\n",
      "image 770/1131 /home/yasumasa-tezuka/data_intern/data/images_expansion/images_test/0958.jpg: 448x640 (no detections), 4.8ms\n",
      "image 771/1131 /home/yasumasa-tezuka/data_intern/data/images_expansion/images_test/0959.jpg: 448x640 (no detections), 5.0ms\n",
      "image 772/1131 /home/yasumasa-tezuka/data_intern/data/images_expansion/images_test/0960.jpg: 448x640 (no detections), 5.0ms\n",
      "image 773/1131 /home/yasumasa-tezuka/data_intern/data/images_expansion/images_test/0961.jpg: 448x640 (no detections), 4.8ms\n",
      "image 774/1131 /home/yasumasa-tezuka/data_intern/data/images_expansion/images_test/0962.jpg: 448x640 (no detections), 4.8ms\n",
      "image 775/1131 /home/yasumasa-tezuka/data_intern/data/images_expansion/images_test/0963.jpg: 448x640 (no detections), 4.9ms\n",
      "image 776/1131 /home/yasumasa-tezuka/data_intern/data/images_expansion/images_test/0964.jpg: 448x640 (no detections), 5.0ms\n",
      "image 777/1131 /home/yasumasa-tezuka/data_intern/data/images_expansion/images_test/0965.jpg: 448x640 (no detections), 4.8ms\n",
      "image 778/1131 /home/yasumasa-tezuka/data_intern/data/images_expansion/images_test/0966.jpg: 448x640 (no detections), 4.8ms\n",
      "image 779/1131 /home/yasumasa-tezuka/data_intern/data/images_expansion/images_test/0967.jpg: 448x640 (no detections), 4.8ms\n",
      "image 780/1131 /home/yasumasa-tezuka/data_intern/data/images_expansion/images_test/0968.jpg: 448x640 (no detections), 5.4ms\n",
      "image 781/1131 /home/yasumasa-tezuka/data_intern/data/images_expansion/images_test/0969.jpg: 448x640 (no detections), 5.0ms\n",
      "image 782/1131 /home/yasumasa-tezuka/data_intern/data/images_expansion/images_test/0970.jpg: 448x640 (no detections), 4.9ms\n",
      "image 783/1131 /home/yasumasa-tezuka/data_intern/data/images_expansion/images_test/0971.jpg: 448x640 (no detections), 4.8ms\n",
      "image 784/1131 /home/yasumasa-tezuka/data_intern/data/images_expansion/images_test/0972.jpg: 448x640 (no detections), 4.9ms\n",
      "image 785/1131 /home/yasumasa-tezuka/data_intern/data/images_expansion/images_test/0973.jpg: 448x640 (no detections), 4.8ms\n",
      "image 786/1131 /home/yasumasa-tezuka/data_intern/data/images_expansion/images_test/0974.jpg: 448x640 (no detections), 4.9ms\n",
      "image 787/1131 /home/yasumasa-tezuka/data_intern/data/images_expansion/images_test/0975.jpg: 448x640 (no detections), 4.9ms\n",
      "image 788/1131 /home/yasumasa-tezuka/data_intern/data/images_expansion/images_test/0976.jpg: 448x640 (no detections), 4.8ms\n",
      "image 789/1131 /home/yasumasa-tezuka/data_intern/data/images_expansion/images_test/0977.jpg: 448x640 (no detections), 4.8ms\n",
      "image 790/1131 /home/yasumasa-tezuka/data_intern/data/images_expansion/images_test/0978.jpg: 448x640 (no detections), 4.9ms\n",
      "image 791/1131 /home/yasumasa-tezuka/data_intern/data/images_expansion/images_test/0979.jpg: 448x640 (no detections), 5.1ms\n",
      "image 792/1131 /home/yasumasa-tezuka/data_intern/data/images_expansion/images_test/0980.jpg: 448x640 (no detections), 5.0ms\n",
      "image 793/1131 /home/yasumasa-tezuka/data_intern/data/images_expansion/images_test/0981.jpg: 448x640 (no detections), 5.0ms\n",
      "image 794/1131 /home/yasumasa-tezuka/data_intern/data/images_expansion/images_test/0982.jpg: 448x640 (no detections), 4.9ms\n",
      "image 795/1131 /home/yasumasa-tezuka/data_intern/data/images_expansion/images_test/0983.jpg: 448x640 (no detections), 4.9ms\n",
      "image 796/1131 /home/yasumasa-tezuka/data_intern/data/images_expansion/images_test/0984.jpg: 448x640 (no detections), 4.8ms\n",
      "image 797/1131 /home/yasumasa-tezuka/data_intern/data/images_expansion/images_test/0985.jpg: 416x640 (no detections), 6.7ms\n",
      "image 798/1131 /home/yasumasa-tezuka/data_intern/data/images_expansion/images_test/0986.jpg: 416x640 (no detections), 5.0ms\n",
      "image 799/1131 /home/yasumasa-tezuka/data_intern/data/images_expansion/images_test/0987.jpg: 608x640 (no detections), 57.6ms\n",
      "image 800/1131 /home/yasumasa-tezuka/data_intern/data/images_expansion/images_test/0988.jpg: 480x640 (no detections), 5.5ms\n",
      "image 801/1131 /home/yasumasa-tezuka/data_intern/data/images_expansion/images_test/0989.jpg: 384x640 (no detections), 6.1ms\n",
      "image 802/1131 /home/yasumasa-tezuka/data_intern/data/images_expansion/images_test/0990.jpg: 544x640 (no detections), 57.3ms\n",
      "image 803/1131 /home/yasumasa-tezuka/data_intern/data/images_expansion/images_test/0991.jpg: 480x640 (no detections), 5.9ms\n",
      "image 804/1131 /home/yasumasa-tezuka/data_intern/data/images_expansion/images_test/0992.jpg: 608x640 (no detections), 5.5ms\n",
      "image 805/1131 /home/yasumasa-tezuka/data_intern/data/images_expansion/images_test/0993.jpg: 480x640 (no detections), 5.8ms\n",
      "image 806/1131 /home/yasumasa-tezuka/data_intern/data/images_expansion/images_test/0994.jpg: 512x640 (no detections), 59.0ms\n",
      "image 807/1131 /home/yasumasa-tezuka/data_intern/data/images_expansion/images_test/0995.jpg: 448x640 (no detections), 5.4ms\n",
      "image 808/1131 /home/yasumasa-tezuka/data_intern/data/images_expansion/images_test/0996.jpg: 384x640 (no detections), 5.3ms\n",
      "image 809/1131 /home/yasumasa-tezuka/data_intern/data/images_expansion/images_test/0997.jpg: 384x640 (no detections), 5.0ms\n",
      "image 810/1131 /home/yasumasa-tezuka/data_intern/data/images_expansion/images_test/0998.jpg: 384x640 (no detections), 5.1ms\n",
      "image 811/1131 /home/yasumasa-tezuka/data_intern/data/images_expansion/images_test/0999.jpg: 384x640 (no detections), 5.1ms\n",
      "image 812/1131 /home/yasumasa-tezuka/data_intern/data/images_expansion/images_test/1000.jpg: 384x640 (no detections), 5.1ms\n",
      "image 813/1131 /home/yasumasa-tezuka/data_intern/data/images_expansion/images_test/1001.jpg: 384x640 (no detections), 5.2ms\n",
      "image 814/1131 /home/yasumasa-tezuka/data_intern/data/images_expansion/images_test/1002.jpg: 384x640 (no detections), 5.2ms\n",
      "image 815/1131 /home/yasumasa-tezuka/data_intern/data/images_expansion/images_test/1003.jpg: 384x640 (no detections), 5.6ms\n",
      "image 816/1131 /home/yasumasa-tezuka/data_intern/data/images_expansion/images_test/1004.jpg: 384x640 (no detections), 5.2ms\n",
      "image 817/1131 /home/yasumasa-tezuka/data_intern/data/images_expansion/images_test/1005.jpg: 64x640 (no detections), 58.9ms\n",
      "image 818/1131 /home/yasumasa-tezuka/data_intern/data/images_expansion/images_test/1006.jpg: 352x640 (no detections), 59.0ms\n",
      "image 819/1131 /home/yasumasa-tezuka/data_intern/data/images_expansion/images_test/1007.jpg: 352x640 (no detections), 5.3ms\n",
      "image 820/1131 /home/yasumasa-tezuka/data_intern/data/images_expansion/images_test/1008.jpg: 352x640 (no detections), 5.3ms\n",
      "image 821/1131 /home/yasumasa-tezuka/data_intern/data/images_expansion/images_test/1009.jpg: 352x640 (no detections), 5.1ms\n",
      "image 822/1131 /home/yasumasa-tezuka/data_intern/data/images_expansion/images_test/1010.jpg: 352x640 (no detections), 5.5ms\n",
      "image 823/1131 /home/yasumasa-tezuka/data_intern/data/images_expansion/images_test/1011.jpg: 352x640 (no detections), 5.2ms\n",
      "image 824/1131 /home/yasumasa-tezuka/data_intern/data/images_expansion/images_test/1012.jpg: 352x640 (no detections), 5.4ms\n",
      "image 825/1131 /home/yasumasa-tezuka/data_intern/data/images_expansion/images_test/1013.jpg: 416x640 (no detections), 5.6ms\n",
      "image 826/1131 /home/yasumasa-tezuka/data_intern/data/images_expansion/images_test/1014.jpg: 512x640 (no detections), 5.7ms\n",
      "image 827/1131 /home/yasumasa-tezuka/data_intern/data/images_expansion/images_test/1015.jpg: 512x640 (no detections), 5.2ms\n",
      "image 828/1131 /home/yasumasa-tezuka/data_intern/data/images_expansion/images_test/1016.jpg: 480x640 (no detections), 5.9ms\n",
      "image 829/1131 /home/yasumasa-tezuka/data_intern/data/images_expansion/images_test/1017.jpg: 480x640 (no detections), 5.3ms\n",
      "image 830/1131 /home/yasumasa-tezuka/data_intern/data/images_expansion/images_test/1018.jpg: 480x640 (no detections), 5.5ms\n",
      "image 831/1131 /home/yasumasa-tezuka/data_intern/data/images_expansion/images_test/1019.jpg: 480x640 (no detections), 5.2ms\n",
      "image 832/1131 /home/yasumasa-tezuka/data_intern/data/images_expansion/images_test/1020.jpg: 480x640 (no detections), 6.8ms\n",
      "image 833/1131 /home/yasumasa-tezuka/data_intern/data/images_expansion/images_test/1021.jpg: 576x640 (no detections), 58.9ms\n",
      "image 834/1131 /home/yasumasa-tezuka/data_intern/data/images_expansion/images_test/1022.jpg: 608x640 (no detections), 5.6ms\n",
      "image 835/1131 /home/yasumasa-tezuka/data_intern/data/images_expansion/images_test/1023.jpg: 448x640 (no detections), 5.9ms\n",
      "image 836/1131 /home/yasumasa-tezuka/data_intern/data/images_expansion/images_test/1024.jpg: 448x640 (no detections), 5.2ms\n",
      "image 837/1131 /home/yasumasa-tezuka/data_intern/data/images_expansion/images_test/1025.jpg: 448x640 (no detections), 5.8ms\n",
      "image 838/1131 /home/yasumasa-tezuka/data_intern/data/images_expansion/images_test/1026.jpg: 448x640 (no detections), 5.4ms\n",
      "image 839/1131 /home/yasumasa-tezuka/data_intern/data/images_expansion/images_test/1027.jpg: 448x640 (no detections), 6.0ms\n",
      "image 840/1131 /home/yasumasa-tezuka/data_intern/data/images_expansion/images_test/1028.jpg: 480x640 (no detections), 5.6ms\n",
      "image 841/1131 /home/yasumasa-tezuka/data_intern/data/images_expansion/images_test/1029.jpg: 480x640 (no detections), 5.2ms\n",
      "image 842/1131 /home/yasumasa-tezuka/data_intern/data/images_expansion/images_test/1030.jpg: 448x640 (no detections), 5.5ms\n",
      "image 843/1131 /home/yasumasa-tezuka/data_intern/data/images_expansion/images_test/1031.jpg: 448x640 (no detections), 5.3ms\n",
      "image 844/1131 /home/yasumasa-tezuka/data_intern/data/images_expansion/images_test/1032.jpg: 448x640 (no detections), 5.3ms\n",
      "image 845/1131 /home/yasumasa-tezuka/data_intern/data/images_expansion/images_test/1033.jpg: 640x448 (no detections), 5.4ms\n",
      "image 846/1131 /home/yasumasa-tezuka/data_intern/data/images_expansion/images_test/1034.jpg: 448x640 (no detections), 6.4ms\n",
      "image 847/1131 /home/yasumasa-tezuka/data_intern/data/images_expansion/images_test/1035.jpg: 448x640 (no detections), 5.1ms\n",
      "image 848/1131 /home/yasumasa-tezuka/data_intern/data/images_expansion/images_test/1036.jpg: 448x640 (no detections), 5.4ms\n",
      "image 849/1131 /home/yasumasa-tezuka/data_intern/data/images_expansion/images_test/1037.jpg: 448x640 (no detections), 5.7ms\n",
      "image 850/1131 /home/yasumasa-tezuka/data_intern/data/images_expansion/images_test/1038.jpg: 448x640 (no detections), 6.9ms\n",
      "image 851/1131 /home/yasumasa-tezuka/data_intern/data/images_expansion/images_test/1039.jpg: 448x640 (no detections), 5.2ms\n",
      "image 852/1131 /home/yasumasa-tezuka/data_intern/data/images_expansion/images_test/1040.jpg: 448x640 (no detections), 5.1ms\n",
      "image 853/1131 /home/yasumasa-tezuka/data_intern/data/images_expansion/images_test/1041.jpg: 448x640 (no detections), 5.3ms\n",
      "image 854/1131 /home/yasumasa-tezuka/data_intern/data/images_expansion/images_test/1042.jpg: 640x448 (no detections), 5.6ms\n",
      "image 855/1131 /home/yasumasa-tezuka/data_intern/data/images_expansion/images_test/1043.jpg: 448x640 (no detections), 5.8ms\n",
      "image 856/1131 /home/yasumasa-tezuka/data_intern/data/images_expansion/images_test/1044.jpg: 448x640 (no detections), 5.7ms\n",
      "image 857/1131 /home/yasumasa-tezuka/data_intern/data/images_expansion/images_test/1045.jpg: 448x640 (no detections), 5.4ms\n",
      "image 858/1131 /home/yasumasa-tezuka/data_intern/data/images_expansion/images_test/1046.jpg: 640x448 (no detections), 5.7ms\n",
      "image 859/1131 /home/yasumasa-tezuka/data_intern/data/images_expansion/images_test/1047.jpg: 640x448 (no detections), 5.5ms\n",
      "image 860/1131 /home/yasumasa-tezuka/data_intern/data/images_expansion/images_test/1048.jpg: 448x640 (no detections), 6.0ms\n",
      "image 861/1131 /home/yasumasa-tezuka/data_intern/data/images_expansion/images_test/1049.jpg: 448x640 (no detections), 5.6ms\n",
      "image 862/1131 /home/yasumasa-tezuka/data_intern/data/images_expansion/images_test/1050.jpg: 448x640 (no detections), 5.7ms\n",
      "image 863/1131 /home/yasumasa-tezuka/data_intern/data/images_expansion/images_test/1051.jpg: 448x640 (no detections), 5.9ms\n",
      "image 864/1131 /home/yasumasa-tezuka/data_intern/data/images_expansion/images_test/1052.jpg: 448x640 (no detections), 5.2ms\n",
      "image 865/1131 /home/yasumasa-tezuka/data_intern/data/images_expansion/images_test/1053.jpg: 640x448 (no detections), 6.5ms\n",
      "image 866/1131 /home/yasumasa-tezuka/data_intern/data/images_expansion/images_test/1054.jpg: 448x640 (no detections), 6.3ms\n",
      "image 867/1131 /home/yasumasa-tezuka/data_intern/data/images_expansion/images_test/1055.jpg: 448x640 (no detections), 5.3ms\n",
      "image 868/1131 /home/yasumasa-tezuka/data_intern/data/images_expansion/images_test/1056.jpg: 448x640 (no detections), 5.2ms\n",
      "image 869/1131 /home/yasumasa-tezuka/data_intern/data/images_expansion/images_test/1057.jpg: 480x640 (no detections), 5.6ms\n",
      "image 870/1131 /home/yasumasa-tezuka/data_intern/data/images_expansion/images_test/1058.jpg: 448x640 (no detections), 6.3ms\n",
      "image 871/1131 /home/yasumasa-tezuka/data_intern/data/images_expansion/images_test/1059.jpg: 448x640 (no detections), 5.4ms\n",
      "image 872/1131 /home/yasumasa-tezuka/data_intern/data/images_expansion/images_test/1060.jpg: 448x640 (no detections), 5.2ms\n",
      "image 873/1131 /home/yasumasa-tezuka/data_intern/data/images_expansion/images_test/1061.jpg: 448x640 (no detections), 5.5ms\n",
      "image 874/1131 /home/yasumasa-tezuka/data_intern/data/images_expansion/images_test/1062.jpg: 448x640 (no detections), 5.4ms\n",
      "image 875/1131 /home/yasumasa-tezuka/data_intern/data/images_expansion/images_test/1063.jpg: 448x640 (no detections), 5.6ms\n",
      "image 876/1131 /home/yasumasa-tezuka/data_intern/data/images_expansion/images_test/1064.jpg: 448x640 (no detections), 5.6ms\n",
      "image 877/1131 /home/yasumasa-tezuka/data_intern/data/images_expansion/images_test/1065.jpg: 448x640 (no detections), 5.1ms\n",
      "image 878/1131 /home/yasumasa-tezuka/data_intern/data/images_expansion/images_test/1066.jpg: 448x640 (no detections), 5.3ms\n",
      "image 879/1131 /home/yasumasa-tezuka/data_intern/data/images_expansion/images_test/1067.jpg: 448x640 (no detections), 5.7ms\n",
      "image 880/1131 /home/yasumasa-tezuka/data_intern/data/images_expansion/images_test/1068.jpg: 448x640 (no detections), 5.5ms\n",
      "image 881/1131 /home/yasumasa-tezuka/data_intern/data/images_expansion/images_test/1069.jpg: 448x640 (no detections), 5.3ms\n",
      "image 882/1131 /home/yasumasa-tezuka/data_intern/data/images_expansion/images_test/1070.jpg: 448x640 (no detections), 6.9ms\n",
      "image 883/1131 /home/yasumasa-tezuka/data_intern/data/images_expansion/images_test/1071.jpg: 448x640 (no detections), 5.7ms\n",
      "image 884/1131 /home/yasumasa-tezuka/data_intern/data/images_expansion/images_test/1072.jpg: 448x640 (no detections), 5.5ms\n",
      "image 885/1131 /home/yasumasa-tezuka/data_intern/data/images_expansion/images_test/1073.jpg: 448x640 (no detections), 5.2ms\n",
      "image 886/1131 /home/yasumasa-tezuka/data_intern/data/images_expansion/images_test/1074.jpg: 448x640 (no detections), 6.4ms\n",
      "image 887/1131 /home/yasumasa-tezuka/data_intern/data/images_expansion/images_test/1075.jpg: 448x640 (no detections), 5.2ms\n",
      "image 888/1131 /home/yasumasa-tezuka/data_intern/data/images_expansion/images_test/1076.jpg: 480x640 (no detections), 5.6ms\n",
      "image 889/1131 /home/yasumasa-tezuka/data_intern/data/images_expansion/images_test/1077.jpg: 480x640 (no detections), 5.2ms\n",
      "image 890/1131 /home/yasumasa-tezuka/data_intern/data/images_expansion/images_test/1078.jpg: 640x640 (no detections), 5.7ms\n",
      "image 891/1131 /home/yasumasa-tezuka/data_intern/data/images_expansion/images_test/1079.jpg: 384x640 (no detections), 5.5ms\n",
      "image 892/1131 /home/yasumasa-tezuka/data_intern/data/images_expansion/images_test/1080.jpg: 384x640 (no detections), 5.5ms\n",
      "image 893/1131 /home/yasumasa-tezuka/data_intern/data/images_expansion/images_test/1081.jpg: 416x640 (no detections), 6.3ms\n",
      "image 894/1131 /home/yasumasa-tezuka/data_intern/data/images_expansion/images_test/1082.jpg: 512x640 (no detections), 5.7ms\n",
      "image 895/1131 /home/yasumasa-tezuka/data_intern/data/images_expansion/images_test/1083.jpg: 416x640 (no detections), 6.3ms\n",
      "image 896/1131 /home/yasumasa-tezuka/data_intern/data/images_expansion/images_test/1084.jpg: 480x640 (no detections), 5.5ms\n",
      "image 897/1131 /home/yasumasa-tezuka/data_intern/data/images_expansion/images_test/1085.jpg: 480x640 (no detections), 5.2ms\n",
      "image 898/1131 /home/yasumasa-tezuka/data_intern/data/images_expansion/images_test/1086.jpg: 480x640 (no detections), 5.8ms\n",
      "image 899/1131 /home/yasumasa-tezuka/data_intern/data/images_expansion/images_test/1087.jpg: 480x640 (no detections), 5.4ms\n",
      "image 900/1131 /home/yasumasa-tezuka/data_intern/data/images_expansion/images_test/1088.jpg: 480x640 (no detections), 5.4ms\n",
      "image 901/1131 /home/yasumasa-tezuka/data_intern/data/images_expansion/images_test/1089.jpg: 480x640 (no detections), 5.2ms\n",
      "image 902/1131 /home/yasumasa-tezuka/data_intern/data/images_expansion/images_test/1090.jpg: 480x640 (no detections), 5.3ms\n",
      "image 903/1131 /home/yasumasa-tezuka/data_intern/data/images_expansion/images_test/1091.jpg: 480x640 (no detections), 5.3ms\n",
      "image 904/1131 /home/yasumasa-tezuka/data_intern/data/images_expansion/images_test/1092.jpg: 640x480 (no detections), 5.5ms\n",
      "image 905/1131 /home/yasumasa-tezuka/data_intern/data/images_expansion/images_test/1093.jpg: 640x640 (no detections), 5.5ms\n",
      "image 906/1131 /home/yasumasa-tezuka/data_intern/data/images_expansion/images_test/1094.jpg: 576x640 (no detections), 5.8ms\n",
      "image 907/1131 /home/yasumasa-tezuka/data_intern/data/images_expansion/images_test/1095.jpg: 480x640 (no detections), 5.5ms\n",
      "image 908/1131 /home/yasumasa-tezuka/data_intern/data/images_expansion/images_test/1096.jpg: 416x640 (no detections), 5.7ms\n",
      "image 909/1131 /home/yasumasa-tezuka/data_intern/data/images_expansion/images_test/1097.jpg: 480x640 (no detections), 5.7ms\n",
      "image 910/1131 /home/yasumasa-tezuka/data_intern/data/images_expansion/images_test/1098.jpg: 288x640 (no detections), 60.6ms\n",
      "image 911/1131 /home/yasumasa-tezuka/data_intern/data/images_expansion/images_test/1099.jpg: 448x640 (no detections), 5.6ms\n",
      "image 912/1131 /home/yasumasa-tezuka/data_intern/data/images_expansion/images_test/1100.jpg: 480x640 (no detections), 5.7ms\n",
      "image 913/1131 /home/yasumasa-tezuka/data_intern/data/images_expansion/images_test/1101.jpg: 480x640 (no detections), 5.3ms\n",
      "image 914/1131 /home/yasumasa-tezuka/data_intern/data/images_expansion/images_test/1102.jpg: 480x640 (no detections), 5.4ms\n",
      "image 915/1131 /home/yasumasa-tezuka/data_intern/data/images_expansion/images_test/1103.jpg: 480x640 (no detections), 5.9ms\n",
      "image 916/1131 /home/yasumasa-tezuka/data_intern/data/images_expansion/images_test/1104.jpg: 480x640 (no detections), 5.6ms\n",
      "image 917/1131 /home/yasumasa-tezuka/data_intern/data/images_expansion/images_test/1105.jpg: 480x640 (no detections), 5.3ms\n",
      "image 918/1131 /home/yasumasa-tezuka/data_intern/data/images_expansion/images_test/1106.jpg: 480x640 (no detections), 6.3ms\n",
      "image 919/1131 /home/yasumasa-tezuka/data_intern/data/images_expansion/images_test/1107.jpg: 480x640 (no detections), 5.6ms\n",
      "image 920/1131 /home/yasumasa-tezuka/data_intern/data/images_expansion/images_test/1108.jpg: 480x640 (no detections), 5.6ms\n",
      "image 921/1131 /home/yasumasa-tezuka/data_intern/data/images_expansion/images_test/1109.jpg: 480x640 (no detections), 5.3ms\n",
      "image 922/1131 /home/yasumasa-tezuka/data_intern/data/images_expansion/images_test/1110.jpg: 480x640 (no detections), 5.3ms\n",
      "image 923/1131 /home/yasumasa-tezuka/data_intern/data/images_expansion/images_test/1111.jpg: 480x640 (no detections), 5.3ms\n",
      "image 924/1131 /home/yasumasa-tezuka/data_intern/data/images_expansion/images_test/1112.jpg: 480x640 (no detections), 5.5ms\n",
      "image 925/1131 /home/yasumasa-tezuka/data_intern/data/images_expansion/images_test/1113.jpg: 480x640 (no detections), 6.4ms\n",
      "image 926/1131 /home/yasumasa-tezuka/data_intern/data/images_expansion/images_test/1114.jpg: 480x640 (no detections), 5.8ms\n",
      "image 927/1131 /home/yasumasa-tezuka/data_intern/data/images_expansion/images_test/1115.jpg: 480x640 (no detections), 5.5ms\n",
      "image 928/1131 /home/yasumasa-tezuka/data_intern/data/images_expansion/images_test/1116.jpg: 448x640 (no detections), 5.8ms\n",
      "image 929/1131 /home/yasumasa-tezuka/data_intern/data/images_expansion/images_test/1117.jpg: 448x640 (no detections), 5.4ms\n",
      "image 930/1131 /home/yasumasa-tezuka/data_intern/data/images_expansion/images_test/1118.jpg: 448x640 (no detections), 5.7ms\n",
      "image 931/1131 /home/yasumasa-tezuka/data_intern/data/images_expansion/images_test/1119.jpg: 640x640 (no detections), 7.4ms\n",
      "image 932/1131 /home/yasumasa-tezuka/data_intern/data/images_expansion/images_test/1120.jpg: 320x640 (no detections), 5.9ms\n",
      "image 933/1131 /home/yasumasa-tezuka/data_intern/data/images_expansion/images_test/1121.jpg: 416x640 (no detections), 5.7ms\n",
      "image 934/1131 /home/yasumasa-tezuka/data_intern/data/images_expansion/images_test/1122.jpg: 480x640 (no detections), 5.9ms\n",
      "image 935/1131 /home/yasumasa-tezuka/data_intern/data/images_expansion/images_test/1123.jpg: 416x640 (no detections), 5.8ms\n",
      "image 936/1131 /home/yasumasa-tezuka/data_intern/data/images_expansion/images_test/1124.jpg: 416x640 (no detections), 5.8ms\n",
      "image 937/1131 /home/yasumasa-tezuka/data_intern/data/images_expansion/images_test/1125.jpg: 544x640 (no detections), 6.5ms\n",
      "image 938/1131 /home/yasumasa-tezuka/data_intern/data/images_expansion/images_test/1126.jpg: 512x640 (no detections), 6.3ms\n",
      "image 939/1131 /home/yasumasa-tezuka/data_intern/data/images_expansion/images_test/1127.jpg: 448x640 (no detections), 5.9ms\n",
      "image 940/1131 /home/yasumasa-tezuka/data_intern/data/images_expansion/images_test/1128.jpg: 448x640 (no detections), 5.4ms\n",
      "image 941/1131 /home/yasumasa-tezuka/data_intern/data/images_expansion/images_test/1129.jpg: 416x640 (no detections), 6.0ms\n",
      "image 942/1131 /home/yasumasa-tezuka/data_intern/data/images_expansion/images_test/1130.jpg: 448x640 (no detections), 5.8ms\n",
      "image 943/1131 /home/yasumasa-tezuka/data_intern/data/images_expansion/images_test/1131.jpg: 448x640 (no detections), 5.5ms\n",
      "image 944/1131 /home/yasumasa-tezuka/data_intern/data/images_expansion/images_test/1132.jpg: 512x640 (no detections), 5.8ms\n",
      "image 945/1131 /home/yasumasa-tezuka/data_intern/data/images_expansion/images_test/1133.jpg: 640x480 (no detections), 6.0ms\n",
      "image 946/1131 /home/yasumasa-tezuka/data_intern/data/images_expansion/images_test/1134.jpg: 480x640 (no detections), 7.6ms\n",
      "image 947/1131 /home/yasumasa-tezuka/data_intern/data/images_expansion/images_test/1135.jpg: 480x640 (no detections), 5.8ms\n",
      "image 948/1131 /home/yasumasa-tezuka/data_intern/data/images_expansion/images_test/1136.jpg: 448x640 (no detections), 6.1ms\n",
      "image 949/1131 /home/yasumasa-tezuka/data_intern/data/images_expansion/images_test/1137.jpg: 448x640 (no detections), 5.5ms\n",
      "image 950/1131 /home/yasumasa-tezuka/data_intern/data/images_expansion/images_test/1138.jpg: 480x640 (no detections), 6.1ms\n",
      "image 951/1131 /home/yasumasa-tezuka/data_intern/data/images_expansion/images_test/1139.jpg: 480x640 (no detections), 5.4ms\n",
      "image 952/1131 /home/yasumasa-tezuka/data_intern/data/images_expansion/images_test/1140.jpg: 448x640 (no detections), 6.1ms\n",
      "image 953/1131 /home/yasumasa-tezuka/data_intern/data/images_expansion/images_test/1141.jpg: 448x640 (no detections), 5.6ms\n",
      "image 954/1131 /home/yasumasa-tezuka/data_intern/data/images_expansion/images_test/1142.jpg: 448x640 (no detections), 5.2ms\n",
      "image 955/1131 /home/yasumasa-tezuka/data_intern/data/images_expansion/images_test/1143.jpg: 448x640 (no detections), 6.2ms\n",
      "image 956/1131 /home/yasumasa-tezuka/data_intern/data/images_expansion/images_test/1144.jpg: 480x640 (no detections), 7.8ms\n",
      "image 957/1131 /home/yasumasa-tezuka/data_intern/data/images_expansion/images_test/1145.jpg: 480x640 (no detections), 6.0ms\n",
      "image 958/1131 /home/yasumasa-tezuka/data_intern/data/images_expansion/images_test/1146.jpg: 480x640 (no detections), 5.7ms\n",
      "image 959/1131 /home/yasumasa-tezuka/data_intern/data/images_expansion/images_test/1147.jpg: 480x640 (no detections), 7.0ms\n",
      "image 960/1131 /home/yasumasa-tezuka/data_intern/data/images_expansion/images_test/1148.jpg: 480x640 (no detections), 6.6ms\n",
      "image 961/1131 /home/yasumasa-tezuka/data_intern/data/images_expansion/images_test/1149.jpg: 512x640 (no detections), 5.6ms\n",
      "image 962/1131 /home/yasumasa-tezuka/data_intern/data/images_expansion/images_test/1150.jpg: 512x640 (no detections), 5.6ms\n",
      "image 963/1131 /home/yasumasa-tezuka/data_intern/data/images_expansion/images_test/1151.jpg: 512x640 (no detections), 5.4ms\n",
      "image 964/1131 /home/yasumasa-tezuka/data_intern/data/images_expansion/images_test/1152.jpg: 416x640 (no detections), 6.0ms\n",
      "image 965/1131 /home/yasumasa-tezuka/data_intern/data/images_expansion/images_test/1153.jpg: 448x640 (no detections), 6.5ms\n",
      "image 966/1131 /home/yasumasa-tezuka/data_intern/data/images_expansion/images_test/1157.jpg: 480x640 (no detections), 6.1ms\n",
      "image 967/1131 /home/yasumasa-tezuka/data_intern/data/images_expansion/images_test/1158.jpg: 480x640 (no detections), 5.6ms\n",
      "image 968/1131 /home/yasumasa-tezuka/data_intern/data/images_expansion/images_test/1159.jpg: 480x640 (no detections), 5.2ms\n",
      "image 969/1131 /home/yasumasa-tezuka/data_intern/data/images_expansion/images_test/1160.jpg: 448x640 (no detections), 5.7ms\n",
      "image 970/1131 /home/yasumasa-tezuka/data_intern/data/images_expansion/images_test/1161.jpg: 448x640 (no detections), 5.8ms\n",
      "image 971/1131 /home/yasumasa-tezuka/data_intern/data/images_expansion/images_test/1162.jpg: 448x640 (no detections), 5.4ms\n",
      "image 972/1131 /home/yasumasa-tezuka/data_intern/data/images_expansion/images_test/1163.jpg: 448x640 (no detections), 5.3ms\n",
      "image 973/1131 /home/yasumasa-tezuka/data_intern/data/images_expansion/images_test/1164.jpg: 448x640 (no detections), 5.4ms\n",
      "image 974/1131 /home/yasumasa-tezuka/data_intern/data/images_expansion/images_test/1165.jpg: 448x640 (no detections), 6.1ms\n",
      "image 975/1131 /home/yasumasa-tezuka/data_intern/data/images_expansion/images_test/1166.jpg: 448x640 (no detections), 5.3ms\n",
      "image 976/1131 /home/yasumasa-tezuka/data_intern/data/images_expansion/images_test/1167.jpg: 448x640 (no detections), 5.3ms\n",
      "image 977/1131 /home/yasumasa-tezuka/data_intern/data/images_expansion/images_test/1168.jpg: 448x640 (no detections), 5.6ms\n",
      "image 978/1131 /home/yasumasa-tezuka/data_intern/data/images_expansion/images_test/1169.jpg: 448x640 (no detections), 5.5ms\n",
      "image 979/1131 /home/yasumasa-tezuka/data_intern/data/images_expansion/images_test/1170.jpg: 448x640 (no detections), 5.3ms\n",
      "image 980/1131 /home/yasumasa-tezuka/data_intern/data/images_expansion/images_test/1171.jpg: 448x640 (no detections), 5.6ms\n",
      "image 981/1131 /home/yasumasa-tezuka/data_intern/data/images_expansion/images_test/1172.jpg: 448x640 (no detections), 5.3ms\n",
      "image 982/1131 /home/yasumasa-tezuka/data_intern/data/images_expansion/images_test/1173.jpg: 448x640 (no detections), 5.4ms\n",
      "image 983/1131 /home/yasumasa-tezuka/data_intern/data/images_expansion/images_test/1174.jpg: 448x640 (no detections), 5.6ms\n",
      "image 984/1131 /home/yasumasa-tezuka/data_intern/data/images_expansion/images_test/1175.jpg: 448x640 (no detections), 5.3ms\n",
      "image 985/1131 /home/yasumasa-tezuka/data_intern/data/images_expansion/images_test/1176.jpg: 448x640 (no detections), 5.5ms\n",
      "image 986/1131 /home/yasumasa-tezuka/data_intern/data/images_expansion/images_test/1177.jpg: 480x640 (no detections), 5.9ms\n",
      "image 987/1131 /home/yasumasa-tezuka/data_intern/data/images_expansion/images_test/1178.jpg: 128x640 (no detections), 58.9ms\n",
      "image 988/1131 /home/yasumasa-tezuka/data_intern/data/images_expansion/images_test/1179.jpg: 64x640 (no detections), 5.7ms\n",
      "image 989/1131 /home/yasumasa-tezuka/data_intern/data/images_expansion/images_test/1180.jpg: 64x640 (no detections), 6.7ms\n",
      "image 990/1131 /home/yasumasa-tezuka/data_intern/data/images_expansion/images_test/1182.jpg: 448x640 (no detections), 6.0ms\n",
      "image 991/1131 /home/yasumasa-tezuka/data_intern/data/images_expansion/images_test/1187.jpg: 448x640 (no detections), 6.0ms\n",
      "image 992/1131 /home/yasumasa-tezuka/data_intern/data/images_expansion/images_test/1194.jpg: 544x640 (no detections), 6.0ms\n",
      "image 993/1131 /home/yasumasa-tezuka/data_intern/data/images_expansion/images_test/1195.jpg: 352x640 (no detections), 5.9ms\n",
      "image 994/1131 /home/yasumasa-tezuka/data_intern/data/images_expansion/images_test/1196.jpg: 288x640 (no detections), 5.8ms\n",
      "image 995/1131 /home/yasumasa-tezuka/data_intern/data/images_expansion/images_test/1197.jpg: 288x640 (no detections), 5.4ms\n",
      "image 996/1131 /home/yasumasa-tezuka/data_intern/data/images_expansion/images_test/1198.jpg: 352x640 (no detections), 5.9ms\n",
      "image 997/1131 /home/yasumasa-tezuka/data_intern/data/images_expansion/images_test/1199.jpg: 576x640 (no detections), 5.8ms\n",
      "image 998/1131 /home/yasumasa-tezuka/data_intern/data/images_expansion/images_test/1201.jpg: 352x640 (no detections), 5.8ms\n",
      "image 999/1131 /home/yasumasa-tezuka/data_intern/data/images_expansion/images_test/1202.jpg: 352x640 (no detections), 6.0ms\n",
      "image 1000/1131 /home/yasumasa-tezuka/data_intern/data/images_expansion/images_test/1203.jpg: 448x640 (no detections), 6.4ms\n",
      "image 1001/1131 /home/yasumasa-tezuka/data_intern/data/images_expansion/images_test/1204.jpg: 416x640 (no detections), 6.5ms\n",
      "image 1002/1131 /home/yasumasa-tezuka/data_intern/data/images_expansion/images_test/1205.jpg: 480x640 (no detections), 7.6ms\n",
      "image 1003/1131 /home/yasumasa-tezuka/data_intern/data/images_expansion/images_test/1206.jpg: 448x640 (no detections), 6.2ms\n",
      "image 1004/1131 /home/yasumasa-tezuka/data_intern/data/images_expansion/images_test/1207.jpg: 320x640 (no detections), 5.7ms\n",
      "image 1005/1131 /home/yasumasa-tezuka/data_intern/data/images_expansion/images_test/1209.jpg: 640x448 (no detections), 6.4ms\n",
      "image 1006/1131 /home/yasumasa-tezuka/data_intern/data/images_expansion/images_test/1210.jpg: 640x416 (no detections), 59.2ms\n",
      "image 1007/1131 /home/yasumasa-tezuka/data_intern/data/images_expansion/images_test/1211.jpg: 448x640 (no detections), 6.0ms\n",
      "image 1008/1131 /home/yasumasa-tezuka/data_intern/data/images_expansion/images_test/1212.jpg: 480x640 (no detections), 5.9ms\n",
      "image 1009/1131 /home/yasumasa-tezuka/data_intern/data/images_expansion/images_test/1213.jpg: 640x480 (no detections), 6.2ms\n",
      "image 1010/1131 /home/yasumasa-tezuka/data_intern/data/images_expansion/images_test/1214.jpg: 480x640 (no detections), 5.9ms\n",
      "image 1011/1131 /home/yasumasa-tezuka/data_intern/data/images_expansion/images_test/1215.jpg: 448x640 (no detections), 5.9ms\n",
      "image 1012/1131 /home/yasumasa-tezuka/data_intern/data/images_expansion/images_test/1216.jpg: 448x640 (no detections), 5.8ms\n",
      "image 1013/1131 /home/yasumasa-tezuka/data_intern/data/images_expansion/images_test/1217.jpg: 448x640 (no detections), 5.9ms\n",
      "image 1014/1131 /home/yasumasa-tezuka/data_intern/data/images_expansion/images_test/1218.jpg: 448x640 (no detections), 5.6ms\n",
      "image 1015/1131 /home/yasumasa-tezuka/data_intern/data/images_expansion/images_test/1219.jpg: 448x640 (no detections), 5.5ms\n",
      "image 1016/1131 /home/yasumasa-tezuka/data_intern/data/images_expansion/images_test/1220.jpg: 448x640 (no detections), 6.1ms\n",
      "image 1017/1131 /home/yasumasa-tezuka/data_intern/data/images_expansion/images_test/1221.jpg: 448x640 (no detections), 5.5ms\n",
      "image 1018/1131 /home/yasumasa-tezuka/data_intern/data/images_expansion/images_test/1222.jpg: 480x640 (no detections), 6.0ms\n",
      "image 1019/1131 /home/yasumasa-tezuka/data_intern/data/images_expansion/images_test/1223.jpg: 480x640 (no detections), 5.6ms\n",
      "image 1020/1131 /home/yasumasa-tezuka/data_intern/data/images_expansion/images_test/1224.jpg: 448x640 (no detections), 6.1ms\n",
      "image 1021/1131 /home/yasumasa-tezuka/data_intern/data/images_expansion/images_test/1225.jpg: 448x640 (no detections), 5.5ms\n",
      "image 1022/1131 /home/yasumasa-tezuka/data_intern/data/images_expansion/images_test/1226.jpg: 448x640 (no detections), 5.4ms\n",
      "image 1023/1131 /home/yasumasa-tezuka/data_intern/data/images_expansion/images_test/1227.jpg: 448x640 (no detections), 5.4ms\n",
      "image 1024/1131 /home/yasumasa-tezuka/data_intern/data/images_expansion/images_test/1228.jpg: 448x640 (no detections), 5.4ms\n",
      "image 1025/1131 /home/yasumasa-tezuka/data_intern/data/images_expansion/images_test/1229.jpg: 448x640 (no detections), 5.5ms\n",
      "image 1026/1131 /home/yasumasa-tezuka/data_intern/data/images_expansion/images_test/1230.jpg: 448x640 (no detections), 5.4ms\n",
      "image 1027/1131 /home/yasumasa-tezuka/data_intern/data/images_expansion/images_test/1231.jpg: 448x640 (no detections), 5.6ms\n",
      "image 1028/1131 /home/yasumasa-tezuka/data_intern/data/images_expansion/images_test/1232.jpg: 448x640 (no detections), 5.4ms\n",
      "image 1029/1131 /home/yasumasa-tezuka/data_intern/data/images_expansion/images_test/1233.jpg: 448x640 (no detections), 5.4ms\n",
      "image 1030/1131 /home/yasumasa-tezuka/data_intern/data/images_expansion/images_test/1234.jpg: 448x640 (no detections), 6.8ms\n",
      "image 1031/1131 /home/yasumasa-tezuka/data_intern/data/images_expansion/images_test/1235.jpg: 448x640 (no detections), 5.4ms\n",
      "image 1032/1131 /home/yasumasa-tezuka/data_intern/data/images_expansion/images_test/1236.jpg: 640x448 (no detections), 5.9ms\n",
      "image 1033/1131 /home/yasumasa-tezuka/data_intern/data/images_expansion/images_test/1237.jpg: 448x640 (no detections), 5.7ms\n",
      "image 1034/1131 /home/yasumasa-tezuka/data_intern/data/images_expansion/images_test/1238.jpg: 480x640 (no detections), 5.8ms\n",
      "image 1035/1131 /home/yasumasa-tezuka/data_intern/data/images_expansion/images_test/1239.jpg: 512x640 (no detections), 5.7ms\n",
      "image 1036/1131 /home/yasumasa-tezuka/data_intern/data/images_expansion/images_test/1240.jpg: 416x640 (no detections), 5.7ms\n",
      "image 1037/1131 /home/yasumasa-tezuka/data_intern/data/images_expansion/images_test/1241.jpg: 448x640 (no detections), 6.1ms\n",
      "image 1038/1131 /home/yasumasa-tezuka/data_intern/data/images_expansion/images_test/1242.jpg: 544x640 (no detections), 5.9ms\n",
      "image 1039/1131 /home/yasumasa-tezuka/data_intern/data/images_expansion/images_test/1243.jpg: 544x640 (no detections), 5.4ms\n",
      "image 1040/1131 /home/yasumasa-tezuka/data_intern/data/images_expansion/images_test/1244.jpg: 448x640 (no detections), 6.1ms\n",
      "image 1041/1131 /home/yasumasa-tezuka/data_intern/data/images_expansion/images_test/1245.jpg: 416x640 (no detections), 6.0ms\n",
      "image 1042/1131 /home/yasumasa-tezuka/data_intern/data/images_expansion/images_test/1246.jpg: 544x640 (no detections), 6.6ms\n",
      "image 1043/1131 /home/yasumasa-tezuka/data_intern/data/images_expansion/images_test/1247.jpg: 640x640 (no detections), 5.9ms\n",
      "image 1044/1131 /home/yasumasa-tezuka/data_intern/data/images_expansion/images_test/1248.jpg: 544x640 (no detections), 7.9ms\n",
      "image 1045/1131 /home/yasumasa-tezuka/data_intern/data/images_expansion/images_test/1249.jpg: 224x640 (no detections), 5.9ms\n",
      "image 1046/1131 /home/yasumasa-tezuka/data_intern/data/images_expansion/images_test/1250.jpg: 544x640 (no detections), 6.1ms\n",
      "image 1047/1131 /home/yasumasa-tezuka/data_intern/data/images_expansion/images_test/1251.jpg: 480x640 (no detections), 5.8ms\n",
      "image 1048/1131 /home/yasumasa-tezuka/data_intern/data/images_expansion/images_test/1252.jpg: 480x640 (no detections), 5.6ms\n",
      "image 1049/1131 /home/yasumasa-tezuka/data_intern/data/images_expansion/images_test/1253.jpg: 480x640 (no detections), 5.6ms\n",
      "image 1050/1131 /home/yasumasa-tezuka/data_intern/data/images_expansion/images_test/1254.jpg: 480x640 (no detections), 5.4ms\n",
      "image 1051/1131 /home/yasumasa-tezuka/data_intern/data/images_expansion/images_test/1255.jpg: 640x640 (no detections), 6.3ms\n",
      "image 1052/1131 /home/yasumasa-tezuka/data_intern/data/images_expansion/images_test/1256.jpg: 512x640 (no detections), 5.8ms\n",
      "image 1053/1131 /home/yasumasa-tezuka/data_intern/data/images_expansion/images_test/1257.jpg: 480x640 (no detections), 7.5ms\n",
      "image 1054/1131 /home/yasumasa-tezuka/data_intern/data/images_expansion/images_test/1258.jpg: 416x640 (no detections), 7.0ms\n",
      "image 1055/1131 /home/yasumasa-tezuka/data_intern/data/images_expansion/images_test/1259.jpg: 480x640 (no detections), 7.4ms\n",
      "image 1056/1131 /home/yasumasa-tezuka/data_intern/data/images_expansion/images_test/1260.jpg: 480x640 (no detections), 5.4ms\n",
      "image 1057/1131 /home/yasumasa-tezuka/data_intern/data/images_expansion/images_test/1261.jpg: 480x640 (no detections), 6.8ms\n",
      "image 1058/1131 /home/yasumasa-tezuka/data_intern/data/images_expansion/images_test/1262.jpg: 480x640 (no detections), 7.4ms\n",
      "image 1059/1131 /home/yasumasa-tezuka/data_intern/data/images_expansion/images_test/1263.jpg: 480x640 (no detections), 5.5ms\n",
      "image 1060/1131 /home/yasumasa-tezuka/data_intern/data/images_expansion/images_test/1264.jpg: 480x640 (no detections), 5.7ms\n",
      "image 1061/1131 /home/yasumasa-tezuka/data_intern/data/images_expansion/images_test/1265.jpg: 480x640 (no detections), 6.0ms\n",
      "image 1062/1131 /home/yasumasa-tezuka/data_intern/data/images_expansion/images_test/1266.jpg: 448x640 (no detections), 5.8ms\n",
      "image 1063/1131 /home/yasumasa-tezuka/data_intern/data/images_expansion/images_test/1267.jpg: 448x640 (no detections), 5.5ms\n",
      "image 1064/1131 /home/yasumasa-tezuka/data_intern/data/images_expansion/images_test/1268.jpg: 448x640 (no detections), 5.6ms\n",
      "image 1065/1131 /home/yasumasa-tezuka/data_intern/data/images_expansion/images_test/1269.jpg: 448x640 (no detections), 5.4ms\n",
      "image 1066/1131 /home/yasumasa-tezuka/data_intern/data/images_expansion/images_test/1270.jpg: 448x640 (no detections), 5.6ms\n",
      "image 1067/1131 /home/yasumasa-tezuka/data_intern/data/images_expansion/images_test/1271.jpg: 448x640 (no detections), 5.6ms\n",
      "image 1068/1131 /home/yasumasa-tezuka/data_intern/data/images_expansion/images_test/1272.jpg: 448x640 (no detections), 5.7ms\n",
      "image 1069/1131 /home/yasumasa-tezuka/data_intern/data/images_expansion/images_test/1273.jpg: 448x640 (no detections), 5.6ms\n",
      "image 1070/1131 /home/yasumasa-tezuka/data_intern/data/images_expansion/images_test/1274.jpg: 448x640 (no detections), 5.5ms\n",
      "image 1071/1131 /home/yasumasa-tezuka/data_intern/data/images_expansion/images_test/1275.jpg: 448x640 (no detections), 5.5ms\n",
      "image 1072/1131 /home/yasumasa-tezuka/data_intern/data/images_expansion/images_test/1276.jpg: 448x640 (no detections), 5.9ms\n",
      "image 1073/1131 /home/yasumasa-tezuka/data_intern/data/images_expansion/images_test/1277.jpg: 448x640 (no detections), 5.7ms\n",
      "image 1074/1131 /home/yasumasa-tezuka/data_intern/data/images_expansion/images_test/1278.jpg: 448x640 (no detections), 5.4ms\n",
      "image 1075/1131 /home/yasumasa-tezuka/data_intern/data/images_expansion/images_test/1279.jpg: 448x640 (no detections), 5.8ms\n",
      "image 1076/1131 /home/yasumasa-tezuka/data_intern/data/images_expansion/images_test/1280.jpg: 448x640 (no detections), 5.5ms\n",
      "image 1077/1131 /home/yasumasa-tezuka/data_intern/data/images_expansion/images_test/1281.jpg: 448x640 (no detections), 5.6ms\n",
      "image 1078/1131 /home/yasumasa-tezuka/data_intern/data/images_expansion/images_test/1282.jpg: 448x640 (no detections), 5.6ms\n",
      "image 1079/1131 /home/yasumasa-tezuka/data_intern/data/images_expansion/images_test/1283.jpg: 448x640 (no detections), 5.7ms\n",
      "image 1080/1131 /home/yasumasa-tezuka/data_intern/data/images_expansion/images_test/1284.jpg: 448x640 (no detections), 5.8ms\n",
      "image 1081/1131 /home/yasumasa-tezuka/data_intern/data/images_expansion/images_test/1285.jpg: 448x640 (no detections), 5.5ms\n",
      "image 1082/1131 /home/yasumasa-tezuka/data_intern/data/images_expansion/images_test/1286.jpg: 448x640 (no detections), 5.5ms\n",
      "image 1083/1131 /home/yasumasa-tezuka/data_intern/data/images_expansion/images_test/1287.jpg: 448x640 (no detections), 5.5ms\n",
      "image 1084/1131 /home/yasumasa-tezuka/data_intern/data/images_expansion/images_test/1288.jpg: 448x640 (no detections), 5.4ms\n",
      "image 1085/1131 /home/yasumasa-tezuka/data_intern/data/images_expansion/images_test/1289.jpg: 448x640 (no detections), 5.5ms\n",
      "image 1086/1131 /home/yasumasa-tezuka/data_intern/data/images_expansion/images_test/1290.jpg: 448x640 (no detections), 6.3ms\n",
      "image 1087/1131 /home/yasumasa-tezuka/data_intern/data/images_expansion/images_test/1291.jpg: 448x640 (no detections), 5.6ms\n",
      "image 1088/1131 /home/yasumasa-tezuka/data_intern/data/images_expansion/images_test/1292.jpg: 448x640 (no detections), 5.8ms\n",
      "image 1089/1131 /home/yasumasa-tezuka/data_intern/data/images_expansion/images_test/1293.jpg: 448x640 (no detections), 5.6ms\n",
      "image 1090/1131 /home/yasumasa-tezuka/data_intern/data/images_expansion/images_test/1294.jpg: 448x640 (no detections), 5.8ms\n",
      "image 1091/1131 /home/yasumasa-tezuka/data_intern/data/images_expansion/images_test/1295.jpg: 448x640 (no detections), 5.5ms\n",
      "image 1092/1131 /home/yasumasa-tezuka/data_intern/data/images_expansion/images_test/1296.jpg: 448x640 (no detections), 5.5ms\n",
      "image 1093/1131 /home/yasumasa-tezuka/data_intern/data/images_expansion/images_test/1297.jpg: 352x640 (no detections), 5.8ms\n",
      "image 1094/1131 /home/yasumasa-tezuka/data_intern/data/images_expansion/images_test/1298.jpg: 384x640 (no detections), 7.4ms\n",
      "image 1095/1131 /home/yasumasa-tezuka/data_intern/data/images_expansion/images_test/1299.jpg: 416x640 (no detections), 7.3ms\n",
      "image 1096/1131 /home/yasumasa-tezuka/data_intern/data/images_expansion/images_test/1302.jpg: 608x640 (no detections), 6.3ms\n",
      "image 1097/1131 /home/yasumasa-tezuka/data_intern/data/images_expansion/images_test/1303.jpg: 384x640 (no detections), 5.9ms\n",
      "image 1098/1131 /home/yasumasa-tezuka/data_intern/data/images_expansion/images_test/1304.jpg: 576x640 (no detections), 6.1ms\n",
      "image 1099/1131 /home/yasumasa-tezuka/data_intern/data/images_expansion/images_test/1305.jpg: 192x640 (no detections), 5.9ms\n",
      "image 1100/1131 /home/yasumasa-tezuka/data_intern/data/images_expansion/images_test/1306.jpg: 352x640 (no detections), 6.0ms\n",
      "image 1101/1131 /home/yasumasa-tezuka/data_intern/data/images_expansion/images_test/1307.jpg: 480x640 (no detections), 7.3ms\n",
      "image 1102/1131 /home/yasumasa-tezuka/data_intern/data/images_expansion/images_test/1308.jpg: 480x640 (no detections), 5.5ms\n",
      "image 1103/1131 /home/yasumasa-tezuka/data_intern/data/images_expansion/images_test/1309.jpg: 448x640 (no detections), 6.4ms\n",
      "image 1104/1131 /home/yasumasa-tezuka/data_intern/data/images_expansion/images_test/1310.jpg: 480x640 (no detections), 5.8ms\n",
      "image 1105/1131 /home/yasumasa-tezuka/data_intern/data/images_expansion/images_test/1311.jpg: 480x640 (no detections), 5.9ms\n",
      "image 1106/1131 /home/yasumasa-tezuka/data_intern/data/images_expansion/images_test/1312.jpg: 480x640 (no detections), 5.3ms\n",
      "image 1107/1131 /home/yasumasa-tezuka/data_intern/data/images_expansion/images_test/1313.jpg: 480x640 (no detections), 5.4ms\n",
      "image 1108/1131 /home/yasumasa-tezuka/data_intern/data/images_expansion/images_test/1314.jpg: 480x640 (no detections), 6.1ms\n",
      "image 1109/1131 /home/yasumasa-tezuka/data_intern/data/images_expansion/images_test/1315.jpg: 480x640 (no detections), 5.5ms\n",
      "image 1110/1131 /home/yasumasa-tezuka/data_intern/data/images_expansion/images_test/1316.jpg: 448x640 (no detections), 5.8ms\n",
      "image 1111/1131 /home/yasumasa-tezuka/data_intern/data/images_expansion/images_test/1317.jpg: 480x640 (no detections), 6.0ms\n",
      "image 1112/1131 /home/yasumasa-tezuka/data_intern/data/images_expansion/images_test/1318.jpg: 480x640 (no detections), 5.7ms\n",
      "image 1113/1131 /home/yasumasa-tezuka/data_intern/data/images_expansion/images_test/1319.jpg: 480x640 (no detections), 5.7ms\n",
      "image 1114/1131 /home/yasumasa-tezuka/data_intern/data/images_expansion/images_test/1320.jpg: 448x640 (no detections), 6.2ms\n",
      "image 1115/1131 /home/yasumasa-tezuka/data_intern/data/images_expansion/images_test/1321.jpg: 448x640 (no detections), 5.4ms\n",
      "image 1116/1131 /home/yasumasa-tezuka/data_intern/data/images_expansion/images_test/1322.jpg: 448x640 (no detections), 5.9ms\n",
      "image 1117/1131 /home/yasumasa-tezuka/data_intern/data/images_expansion/images_test/1323.jpg: 448x640 (no detections), 5.5ms\n",
      "image 1118/1131 /home/yasumasa-tezuka/data_intern/data/images_expansion/images_test/1324.jpg: 448x640 (no detections), 6.1ms\n",
      "image 1119/1131 /home/yasumasa-tezuka/data_intern/data/images_expansion/images_test/1325.jpg: 448x640 (no detections), 6.0ms\n",
      "image 1120/1131 /home/yasumasa-tezuka/data_intern/data/images_expansion/images_test/1326.jpg: 448x640 (no detections), 5.7ms\n",
      "image 1121/1131 /home/yasumasa-tezuka/data_intern/data/images_expansion/images_test/1327.jpg: 448x640 (no detections), 5.9ms\n",
      "image 1122/1131 /home/yasumasa-tezuka/data_intern/data/images_expansion/images_test/1328.jpg: 448x640 (no detections), 5.9ms\n",
      "image 1123/1131 /home/yasumasa-tezuka/data_intern/data/images_expansion/images_test/1329.jpg: 448x640 (no detections), 5.9ms\n",
      "image 1124/1131 /home/yasumasa-tezuka/data_intern/data/images_expansion/images_test/1330.jpg: 448x640 (no detections), 6.0ms\n",
      "image 1125/1131 /home/yasumasa-tezuka/data_intern/data/images_expansion/images_test/1331.jpg: 448x640 (no detections), 5.9ms\n",
      "image 1126/1131 /home/yasumasa-tezuka/data_intern/data/images_expansion/images_test/1332.jpg: 448x640 (no detections), 5.9ms\n",
      "image 1127/1131 /home/yasumasa-tezuka/data_intern/data/images_expansion/images_test/1333.jpg: 448x640 (no detections), 7.0ms\n",
      "image 1128/1131 /home/yasumasa-tezuka/data_intern/data/images_expansion/images_test/1334.jpg: 448x640 (no detections), 5.8ms\n",
      "image 1129/1131 /home/yasumasa-tezuka/data_intern/data/images_expansion/images_test/1335.jpg: 448x640 (no detections), 6.3ms\n",
      "image 1130/1131 /home/yasumasa-tezuka/data_intern/data/images_expansion/images_test/1336.jpg: 448x640 (no detections), 5.9ms\n",
      "image 1131/1131 /home/yasumasa-tezuka/data_intern/data/images_expansion/images_test/1337.jpg: 448x640 (no detections), 6.0ms\n",
      "Speed: 1.5ms preprocess, 6.0ms inference, 0.5ms postprocess per image at shape (1, 3, 448, 640)\n",
      "Results saved to \u001b[1mruns/detect/predict2\u001b[0m\n"
     ]
    },
    {
     "ename": "AttributeError",
     "evalue": "'list' object has no attribute 'save'",
     "output_type": "error",
     "traceback": [
      "\u001b[0;31m---------------------------------------------------------------------------\u001b[0m",
      "\u001b[0;31mAttributeError\u001b[0m                            Traceback (most recent call last)",
      "Cell \u001b[0;32mIn[1], line 12\u001b[0m\n\u001b[1;32m      9\u001b[0m img_path \u001b[38;5;241m=\u001b[39m \u001b[38;5;124m\"\u001b[39m\u001b[38;5;124m/home/yasumasa-tezuka/data_intern/data/images_expansion/images_test/\u001b[39m\u001b[38;5;124m\"\u001b[39m\n\u001b[1;32m     10\u001b[0m results \u001b[38;5;241m=\u001b[39m model(img_path, save\u001b[38;5;241m=\u001b[39m\u001b[38;5;28;01mTrue\u001b[39;00m, conf\u001b[38;5;241m=\u001b[39m\u001b[38;5;241m0.4\u001b[39m)\n\u001b[0;32m---> 12\u001b[0m results\u001b[38;5;241m.\u001b[39msave(\u001b[38;5;124m\"\u001b[39m\u001b[38;5;124m/home/yasumasa-tezuka/data_intern/results\u001b[39m\u001b[38;5;124m\"\u001b[39m)\n",
      "\u001b[0;31mAttributeError\u001b[0m: 'list' object has no attribute 'save'"
     ]
    }
   ],
   "source": [
    "\n",
    "\n",
    "  "
   ]
  },
  {
   "cell_type": "code",
   "execution_count": 8,
   "id": "e3989957-329e-473f-bb06-c12955259c95",
   "metadata": {
    "tags": []
   },
   "outputs": [],
   "source": [
    "# 各画像の検出結果を記録するリストを初期化\n",
    "detection_results = []\n",
    "\n",
    "# 各画像に対して推論を実行\n",
    "for img_path in img_paths:\n",
    "    results = model(img_path, save=True)\n",
    "    \n",
    "    # 'tree'を検出した数をカウント\n",
    "    tree_count = sum(1 for x in results.boxes if results.names[int(x.cls)] == 'tree')\n",
    "\n",
    "    # 結果をリストに追加\n",
    "    detection_results.append({'file_name': img_path.name, 'tree_count': tree_count})\n",
    "\n",
    "# 結果をDataFrameに変換し、CSVファイルに保存\n",
    "df = pd.DataFrame(detection_results)\n",
    "df.to_csv(\"/home/yasumasa-tezuka/data_intern/data/results/tree_counts.csv\", index=False)"
   ]
  },
  {
   "cell_type": "code",
   "execution_count": 10,
   "id": "a69707b1-8cce-4f37-83c3-c25cf597efd3",
   "metadata": {},
   "outputs": [
    {
     "name": "stdout",
     "output_type": "stream",
     "text": [
      "\n",
      "image 1/1 /home/yasumasa-tezuka/data_intern/data/images_expansion/images_test/0648.jpg: 480x640 (no detections), 6.5ms\n",
      "Speed: 1.7ms preprocess, 6.5ms inference, 0.8ms postprocess per image at shape (1, 3, 480, 640)\n",
      "Results saved to \u001b[1mruns/detect/predict3\u001b[0m\n"
     ]
    },
    {
     "ename": "IndexError",
     "evalue": "too many indices for tensor of dimension 2",
     "output_type": "error",
     "traceback": [
      "\u001b[0;31m---------------------------------------------------------------------------\u001b[0m",
      "\u001b[0;31mIndexError\u001b[0m                                Traceback (most recent call last)",
      "Cell \u001b[0;32mIn[10], line 24\u001b[0m\n\u001b[1;32m     22\u001b[0m tree_count \u001b[38;5;241m=\u001b[39m \u001b[38;5;241m0\u001b[39m\n\u001b[1;32m     23\u001b[0m \u001b[38;5;28;01mfor\u001b[39;00m r \u001b[38;5;129;01min\u001b[39;00m results:\n\u001b[0;32m---> 24\u001b[0m     r[\u001b[38;5;124m'\u001b[39m\u001b[38;5;124mtree\u001b[39m\u001b[38;5;124m'\u001b[39m]\n\u001b[1;32m     25\u001b[0m     \u001b[38;5;66;03m# 'tree'を検出した数をカウント\u001b[39;00m\n\u001b[1;32m     26\u001b[0m     \u001b[38;5;66;03m# ここで、適切な検出結果の属性を使用してカウントします\u001b[39;00m\n\u001b[1;32m     27\u001b[0m     \u001b[38;5;66;03m# （例：r['boxes'], r['class'] など、モデルのドキュメントに従ってください）\u001b[39;00m\n\u001b[1;32m     28\u001b[0m     tree_count \u001b[38;5;241m+\u001b[39m\u001b[38;5;241m=\u001b[39m \u001b[38;5;28msum\u001b[39m(\u001b[38;5;241m1\u001b[39m \u001b[38;5;28;01mfor\u001b[39;00m x \u001b[38;5;129;01min\u001b[39;00m r \u001b[38;5;28;01mif\u001b[39;00m x[\u001b[38;5;124m'\u001b[39m\u001b[38;5;124mclass\u001b[39m\u001b[38;5;124m'\u001b[39m] \u001b[38;5;241m==\u001b[39m \u001b[38;5;124m'\u001b[39m\u001b[38;5;124mtree\u001b[39m\u001b[38;5;124m'\u001b[39m)\n",
      "File \u001b[0;32m~/anaconda3/lib/python3.11/site-packages/ultralytics/engine/results.py:108\u001b[0m, in \u001b[0;36mResults.__getitem__\u001b[0;34m(self, idx)\u001b[0m\n\u001b[1;32m    106\u001b[0m \u001b[38;5;28;01mdef\u001b[39;00m \u001b[38;5;21m__getitem__\u001b[39m(\u001b[38;5;28mself\u001b[39m, idx):\n\u001b[1;32m    107\u001b[0m \u001b[38;5;250m    \u001b[39m\u001b[38;5;124;03m\"\"\"Return a Results object for the specified index.\"\"\"\u001b[39;00m\n\u001b[0;32m--> 108\u001b[0m     \u001b[38;5;28;01mreturn\u001b[39;00m \u001b[38;5;28mself\u001b[39m\u001b[38;5;241m.\u001b[39m_apply(\u001b[38;5;124m'\u001b[39m\u001b[38;5;124m__getitem__\u001b[39m\u001b[38;5;124m'\u001b[39m, idx)\n",
      "File \u001b[0;32m~/anaconda3/lib/python3.11/site-packages/ultralytics/engine/results.py:144\u001b[0m, in \u001b[0;36mResults._apply\u001b[0;34m(self, fn, *args, **kwargs)\u001b[0m\n\u001b[1;32m    142\u001b[0m     v \u001b[38;5;241m=\u001b[39m \u001b[38;5;28mgetattr\u001b[39m(\u001b[38;5;28mself\u001b[39m, k)\n\u001b[1;32m    143\u001b[0m     \u001b[38;5;28;01mif\u001b[39;00m v \u001b[38;5;129;01mis\u001b[39;00m \u001b[38;5;129;01mnot\u001b[39;00m \u001b[38;5;28;01mNone\u001b[39;00m:\n\u001b[0;32m--> 144\u001b[0m         \u001b[38;5;28msetattr\u001b[39m(r, k, \u001b[38;5;28mgetattr\u001b[39m(v, fn)(\u001b[38;5;241m*\u001b[39margs, \u001b[38;5;241m*\u001b[39m\u001b[38;5;241m*\u001b[39mkwargs))\n\u001b[1;32m    145\u001b[0m \u001b[38;5;28;01mreturn\u001b[39;00m r\n",
      "File \u001b[0;32m~/anaconda3/lib/python3.11/site-packages/ultralytics/engine/results.py:63\u001b[0m, in \u001b[0;36mBaseTensor.__getitem__\u001b[0;34m(self, idx)\u001b[0m\n\u001b[1;32m     61\u001b[0m \u001b[38;5;28;01mdef\u001b[39;00m \u001b[38;5;21m__getitem__\u001b[39m(\u001b[38;5;28mself\u001b[39m, idx):\n\u001b[1;32m     62\u001b[0m \u001b[38;5;250m    \u001b[39m\u001b[38;5;124;03m\"\"\"Return a BaseTensor with the specified index of the data tensor.\"\"\"\u001b[39;00m\n\u001b[0;32m---> 63\u001b[0m     \u001b[38;5;28;01mreturn\u001b[39;00m \u001b[38;5;28mself\u001b[39m\u001b[38;5;241m.\u001b[39m\u001b[38;5;18m__class__\u001b[39m(\u001b[38;5;28mself\u001b[39m\u001b[38;5;241m.\u001b[39mdata[idx], \u001b[38;5;28mself\u001b[39m\u001b[38;5;241m.\u001b[39morig_shape)\n",
      "\u001b[0;31mIndexError\u001b[0m: too many indices for tensor of dimension 2"
     ]
    }
   ],
   "source": [
    "import os\n",
    "import torch\n",
    "from ultralytics import YOLO  # YOLOv8の正しいインポート方法を確認してください\n",
    "import pandas as pd\n",
    "from pathlib import Path\n",
    "\n",
    "# モデルのロード\n",
    "model = YOLO('/home/yasumasa-tezuka/NeuroDive_日揮インターン/intern_tree_number_github/tree_number_intern/intern_YOLO.v8/runs/detect/train18/weights/best.pt') \n",
    "\n",
    "# 画像への推論\n",
    "img_directory = Path(\"/home/yasumasa-tezuka/data_intern/data/images_expansion/images_test/\")\n",
    "img_paths = list(img_directory.glob('*'))  # すべてのファイルを対象とする\n",
    "\n",
    "# 各画像の検出結果を記録するリストを初期化\n",
    "detection_results = []\n",
    "\n",
    "# 各画像に対して推論を実行\n",
    "for img_path in img_paths:\n",
    "    results = model(img_path, save=True)\n",
    "    \n",
    "    # 各推論結果に対してループ\n",
    "    tree_count = 0\n",
    "    for r in results:\n",
    "        r['tree']\n",
    "        # 'tree'を検出した数をカウント\n",
    "        # ここで、適切な検出結果の属性を使用してカウントします\n",
    "        # （例：r['boxes'], r['class'] など、モデルのドキュメントに従ってください）\n",
    "        tree_count += sum(1 for x in r if x['class'] == 'tree')\n",
    "\n",
    "    # 結果をリストに追加\n",
    "    detection_results.append({'file_name': img_path.name, 'tree_count': tree_count})\n",
    "\n",
    "# 結果をDataFrameに変換し、CSVファイルに保存\n",
    "df = pd.DataFrame(detection_results)\n",
    "df.to_csv(\"/home/yasumasa-tezuka/data_intern/data/results/tree_counts.csv\", index=False)\n"
   ]
  },
  {
   "cell_type": "code",
   "execution_count": null,
   "id": "c1fedefb-484c-4fe7-bd4e-608d55e929e1",
   "metadata": {},
   "outputs": [],
   "source": []
  },
  {
   "cell_type": "code",
   "execution_count": null,
   "id": "52dbe3a1-2f7a-47cf-9b3f-342ee2b8d3e3",
   "metadata": {},
   "outputs": [],
   "source": []
  }
 ],
 "metadata": {
  "kernelspec": {
   "display_name": "Python 3 (ipykernel)",
   "language": "python",
   "name": "python3"
  },
  "language_info": {
   "codemirror_mode": {
    "name": "ipython",
    "version": 3
   },
   "file_extension": ".py",
   "mimetype": "text/x-python",
   "name": "python",
   "nbconvert_exporter": "python",
   "pygments_lexer": "ipython3",
   "version": "3.11.5"
  }
 },
 "nbformat": 4,
 "nbformat_minor": 5
}
